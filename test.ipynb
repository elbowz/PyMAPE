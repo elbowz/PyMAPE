{
 "cells": [
  {
   "cell_type": "code",
   "execution_count": 2,
   "id": "b00e5677-1847-4a88-a178-484203fbcfe0",
   "metadata": {},
   "outputs": [
    {
     "name": "stdout",
     "output_type": "stream",
     "text": [
      "decorator\n",
      "real decorator\n"
     ]
    }
   ],
   "source": [
    "from functools import wraps\n",
    "\n",
    "def decorator(ar, argument=\"burp\"):\n",
    "    print(\"decorator\")\n",
    "    def real_decorator(function):\n",
    "        print(\"real decorator\")\n",
    "        @wraps(function)\n",
    "        def wrapper(*args, **kwargs):\n",
    "            print(argument)\n",
    "            retval = function(*args, **kwargs)\n",
    "            return retval\n",
    "        return wrapper\n",
    "    return real_decorator\n",
    "\n",
    "\n",
    "@decorator(\"ok\")\n",
    "def ops(ciao, pao, miao, tao):\n",
    "    print(\"ops\", ciao)"
   ]
  },
  {
   "cell_type": "code",
   "execution_count": 3,
   "outputs": [
    {
     "name": "stdout",
     "output_type": "stream",
     "text": [
      "burp\n",
      "ops ok\n"
     ]
    }
   ],
   "source": [
    "ops(\"ok\", \"ok\", \"ok\", \"ok\")"
   ],
   "metadata": {
    "collapsed": false,
    "pycharm": {
     "name": "#%%\n"
    }
   }
  },
  {
   "cell_type": "code",
   "execution_count": 5,
   "outputs": [
    {
     "name": "stdout",
     "output_type": "stream",
     "text": [
      "count=1\n",
      "ciao\n",
      "count=2\n",
      "ciao\n",
      "count=3\n",
      "ciao\n",
      "count=4\n",
      "ciao\n",
      "count=5\n",
      "ciao\n",
      "count=6\n",
      "ciao\n",
      "count=7\n",
      "ciao\n",
      "Nice! You counted to 7\n"
     ]
    }
   ],
   "source": [
    "import time\n",
    "\n",
    "def counter(n):\n",
    "    try:\n",
    "        counter = 0\n",
    "        while counter <= n:\n",
    "            counter += 1\n",
    "            yield counter\n",
    "            print(\"ciao\")\n",
    "    finally:\n",
    "        print(f\"Nice! You counted to {counter}\")\n",
    "\n",
    "\n",
    "for count in counter(6):\n",
    "    print(f\"count={count}\")\n",
    "    time.sleep(1)"
   ],
   "metadata": {
    "collapsed": false,
    "pycharm": {
     "name": "#%%\n"
    }
   }
  },
  {
   "cell_type": "code",
   "execution_count": 75,
   "id": "db902955-9b76-4d0b-9c0e-4b71982b496a",
   "metadata": {},
   "outputs": [],
   "source": [
    "class Test:\n",
    "    def __init__(self):\n",
    "        self.nodes = {}\n",
    "        pass\n",
    "    \n",
    "    def __setattr__(self, name, value):\n",
    "        print(name, value)\n",
    "        super().__setattr__(name, value)\n",
    "    \n",
    "    def test(self, node, value):\n",
    "        self.nodes[node] = value\n",
    "\n",
    "def ciao():\n",
    "    print(\"ciao\")"
   ]
  },
  {
   "cell_type": "code",
   "execution_count": 80,
   "id": "a156168c-7108-47f1-a4c8-6e8cf360b605",
   "metadata": {},
   "outputs": [],
   "source": [
    "lista = [ciao]"
   ]
  },
  {
   "cell_type": "code",
   "execution_count": 81,
   "id": "e2f8ff16-0186-4296-8fab-80d776463192",
   "metadata": {},
   "outputs": [
    {
     "data": {
      "text/plain": [
       "[<function __main__.ciao()>]"
      ]
     },
     "execution_count": 81,
     "metadata": {},
     "output_type": "execute_result"
    }
   ],
   "source": [
    "lista"
   ]
  },
  {
   "cell_type": "code",
   "execution_count": 82,
   "id": "60abbafd-db42-4b78-aa68-73145fa36cf4",
   "metadata": {},
   "outputs": [],
   "source": [
    "lista.remove(ciao)"
   ]
  },
  {
   "cell_type": "code",
   "execution_count": 83,
   "id": "c198f321-89df-4ba6-953e-cbee7841b1bb",
   "metadata": {},
   "outputs": [
    {
     "data": {
      "text/plain": [
       "[]"
      ]
     },
     "execution_count": 83,
     "metadata": {},
     "output_type": "execute_result"
    }
   ],
   "source": [
    "lista"
   ]
  },
  {
   "cell_type": "code",
   "execution_count": 92,
   "id": "51ed818f-bf58-486c-9900-0c037d249493",
   "metadata": {},
   "outputs": [],
   "source": [
    "from __future__ import annotations\n",
    "\n",
    "import re\n",
    "import asyncio\n",
    "from typing import Any, Callable, Union\n",
    "\n",
    "class Observable(object):\n",
    "    def __init__(self):\n",
    "        self._callbacks = []\n",
    "\n",
    "    def subscribe(self, callback: Callable):\n",
    "        self._callbacks.append(callback)\n",
    "    \n",
    "    def unsubscribe(self, callback: Callable):\n",
    "        if callback in self._callbacks: \n",
    "            self._callbacks.remove(callback)\n",
    "\n",
    "    def _call_subscribers(self, *attrs, **kwargs):\n",
    "        fn_return = []\n",
    "        \n",
    "        for fn in self._callbacks:\n",
    "            if asyncio.iscoroutinefunction(fn):\n",
    "                fn_return.append(asyncio.create_task(fn(*attrs, **kwargs)))\n",
    "            else:\n",
    "                fn_return.append(fn(*attrs, **kwargs))\n",
    "\n",
    "TopicDictCallbackType = Callable[[str, Any], bool]\n",
    "\n",
    "\n",
    "class TopicNode(dict):\n",
    "    def __init__(self, value: Any = None, sub_topic: dict[str, TopicNode] = {}):\n",
    "        super().__init__(sub_topic)\n",
    "        self._value = value\n",
    "\n",
    "    def __str__(self):\n",
    "        topic_child_str = \", \".join(\n",
    "            \"%s: %s\" % (key, self.get(key, return_value=False).__str__())\n",
    "            for key in super().keys()\n",
    "        )\n",
    "        return \"(%s, {%s})\" % (self._value, topic_child_str)\n",
    "\n",
    "    def __repr__(self):\n",
    "        return self.__str__()\n",
    "\n",
    "    def dict_value(self):\n",
    "        return {k: v.value for k, v in self.items()}\n",
    "\n",
    "    @property\n",
    "    def value(self):\n",
    "        return self._value\n",
    "\n",
    "    @value.setter\n",
    "    def value(self, value):\n",
    "        self._value = value\n",
    "\n",
    "\n",
    "# TODO: swap super(TopicNode, self) with TopicNode.method(self, )\n",
    "class TopicDict(TopicNode, Observable):\n",
    "    def __init__(self, include_topics: list[str] = [], exclude_topics: list[str] = []):\n",
    "        TopicNode.__init__(self)\n",
    "        Observable.__init__(self)\n",
    "        self._include_topics = list()\n",
    "        self._exclude_topics = list()\n",
    "        self.add_include_topic(*include_topics)\n",
    "        self.add_exclude_topic(*exclude_topics)\n",
    "\n",
    "    @staticmethod\n",
    "    def _topic_to_lst(topic_path: str) -> list:\n",
    "        return topic_path.strip(\"/\").split(\"/\")\n",
    "\n",
    "    @staticmethod\n",
    "    def topic_get_head(topic: str) -> Union[tuple[str, str], bool]:\n",
    "        topic = topic.strip(\"/\")\n",
    "        last_slash_index = topic.rfind(\"/\")\n",
    "\n",
    "        if last_slash_index == -1:\n",
    "            return False\n",
    "\n",
    "        return topic[last_slash_index + 1 :], topic\n",
    "\n",
    "    def add_include_topic(self, *regex_patterns: list[str]):\n",
    "        for regex_pattern in regex_patterns:\n",
    "            self._include_topics.append(re.compile(regex_pattern))\n",
    "\n",
    "    def add_exclude_topic(self, *regex_patterns: list[str]):\n",
    "        for regex_pattern in regex_patterns:\n",
    "            self._exclude_topics.append(re.compile(regex_pattern))\n",
    "\n",
    "    def _get_parent_by_topic(self, topic_path: str):\n",
    "\n",
    "        topic_path_list = self._topic_to_lst(topic_path)\n",
    "        return self.get(topic_path_list[:-1], return_value=False), topic_path_list[-1]\n",
    "\n",
    "    def get(\n",
    "        self,\n",
    "        topic_path: Union[str, list],\n",
    "        default: Any = None,\n",
    "        return_value: bool = True,\n",
    "    ) -> Union[Any, TopicDict]:\n",
    "\n",
    "        if not isinstance(topic_path, list):\n",
    "            topic_path = self._topic_to_lst(topic_path)\n",
    "\n",
    "        topic_node = self\n",
    "\n",
    "        for topic_lvl in topic_path:\n",
    "\n",
    "            if topic_lvl not in topic_node:\n",
    "                return default\n",
    "\n",
    "            topic_node = super(TopicDict, topic_node).__getitem__(topic_lvl)\n",
    "\n",
    "        return topic_node.value if return_value else topic_node\n",
    "\n",
    "    def get_obj(\n",
    "        self, topic_path: Union[str, list], default: TopicNode = TopicNode(None)\n",
    "    ):\n",
    "        return self.get(topic_path, default, return_value=False)\n",
    "\n",
    "    def set(self, topic_path: str, value: Any, force: bool = False):\n",
    "\n",
    "        if not force:\n",
    "            if self._include_topics and not any(\n",
    "                regex_include.search(topic_path)\n",
    "                for regex_include in self._include_topics\n",
    "            ):\n",
    "                return False\n",
    "\n",
    "            if self._exclude_topics and any(\n",
    "                regex_exclude.search(topic_path)\n",
    "                for regex_exclude in self._exclude_topics\n",
    "            ):\n",
    "                return False\n",
    "\n",
    "        topic_node = self\n",
    "\n",
    "        for topic_lvl in self._topic_to_lst(topic_path):\n",
    "            topic_node = topic_node.setdefault(topic_lvl, TopicDict())\n",
    "\n",
    "        if isinstance(value, TopicDict):\n",
    "            topic_parent_node, topic_label = self._get_parent_by_topic(topic_path)\n",
    "            super(TopicDict, topic_parent_node).__setitem__(topic_label, value)\n",
    "\n",
    "        else:\n",
    "            topic_node._value = value\n",
    "\n",
    "        Observable._call_subscribers(self, topic_path, value)\n",
    "\n",
    "    def _del(self, topic_path: str):\n",
    "\n",
    "        topic_parent_node, topic_label = self._get_parent_by_topic(topic_path)\n",
    "\n",
    "        if not topic_parent_node:\n",
    "            return False\n",
    "\n",
    "        return topic_parent_node.pop(topic_label, False)\n",
    "\n",
    "    def __getitem__(self, topic_path) -> Any:\n",
    "        return self.get(topic_path)\n",
    "\n",
    "    def __setitem__(self, topic_path, value):\n",
    "        self.set(topic_path, value)\n",
    "\n",
    "    def __delitem__(self, topic_path):\n",
    "        self._del(topic_path)\n",
    "\n",
    "    @property\n",
    "    def value(self):\n",
    "        return self._value\n",
    "\n",
    "    @value.setter\n",
    "    def value(self, value):\n",
    "        self._value = value\n",
    "\n",
    "        Observable._call_subscribers(self, \"\", value)"
   ]
  },
  {
   "cell_type": "code",
   "execution_count": 93,
   "id": "6bf0e745-1e64-4036-86ca-a256c945b795",
   "metadata": {},
   "outputs": [],
   "source": [
    "ciao = TopicDict()"
   ]
  },
  {
   "cell_type": "code",
   "execution_count": 96,
   "id": "55ae5fbd-67c1-4f2c-87df-68d07833e92e",
   "metadata": {},
   "outputs": [],
   "source": [
    "ciao.subscribe(lambda topic, value: print('listener', topic, value) )"
   ]
  },
  {
   "cell_type": "code",
   "execution_count": 97,
   "id": "189fb3ea-f872-40f5-ba6d-450756cf49df",
   "metadata": {},
   "outputs": [],
   "source": [
    "async def async_listner(topic, value):\n",
    "    print('async listner', topic, value)\n",
    "    \n",
    "ciao.subscribe(async_listner)"
   ]
  },
  {
   "cell_type": "code",
   "execution_count": 98,
   "id": "3d3d0efb-adf9-42da-ada6-699545636d4b",
   "metadata": {},
   "outputs": [
    {
     "name": "stdout",
     "output_type": "stream",
     "text": [
      "listener included/path/end included/path/end\n",
      "listener /included2/second/path /included2/second/path\n",
      "listener /included2/second/path2 /included2/second/path2\n"
     ]
    },
    {
     "data": {
      "text/plain": [
       "False"
      ]
     },
     "execution_count": 98,
     "metadata": {},
     "output_type": "execute_result"
    },
    {
     "name": "stdout",
     "output_type": "stream",
     "text": [
      "async listner included/path/end included/path/end\n",
      "async listner /included2/second/path /included2/second/path\n",
      "async listner /included2/second/path2 /included2/second/path2\n"
     ]
    }
   ],
   "source": [
    "ciao.add_include_topic(r\"^included/path\", r\"/included2/second/path\")\n",
    "ciao.set('included/path/end', 'included/path/end')\n",
    "ciao['/included2/second/path'] = '/included2/second/path'\n",
    "ciao['/included2/second/path2'] = '/included2/second/path2'\n",
    "ciao.set('root/path', 'root/path')\n",
    "ciao.set('root/xpath', 'root/xpath')\n",
    "ciao.set('root/xpath/ciao', 'root/xpath/ciao')"
   ]
  },
  {
   "cell_type": "code",
   "execution_count": 99,
   "id": "7c46730a-01e2-4b30-bec6-0e68969223df",
   "metadata": {},
   "outputs": [],
   "source": [
    "ciao.unsubscribe(async_listner)"
   ]
  },
  {
   "cell_type": "code",
   "execution_count": 100,
   "id": "0a63800a-956b-4363-8f52-36fe1d2af042",
   "metadata": {},
   "outputs": [
    {
     "name": "stdout",
     "output_type": "stream",
     "text": [
      "listener included/path/end included/path/end\n",
      "listener /included2/second/path /included2/second/path\n",
      "listener /included2/second/path2 /included2/second/path2\n"
     ]
    },
    {
     "data": {
      "text/plain": [
       "False"
      ]
     },
     "execution_count": 100,
     "metadata": {},
     "output_type": "execute_result"
    }
   ],
   "source": [
    "ciao.set('included/path/end', 'included/path/end')\n",
    "ciao['/included2/second/path'] = '/included2/second/path'\n",
    "ciao['/included2/second/path2'] = '/included2/second/path2'\n",
    "ciao.set('root/path', 'root/path')\n",
    "ciao.set('root/xpath', 'root/xpath')\n",
    "ciao.set('root/xpath/ciao', 'root/xpath/ciao')"
   ]
  },
  {
   "cell_type": "code",
   "execution_count": 101,
   "id": "7e991c55-4308-4df9-9409-dd8671d6bc91",
   "metadata": {},
   "outputs": [],
   "source": [
    "ciao.unsubscribe(async_listner)"
   ]
  },
  {
   "cell_type": "code",
   "execution_count": 2,
   "id": "2d9638b0-bd79-47c8-9a54-3fdea50aec4d",
   "metadata": {},
   "outputs": [
    {
     "data": {
      "text/plain": [
       "'sha1:7e1b6aa39294:7cf4db9c130ca551c0cf55bf0bc7ea29a55f8c0a'"
      ]
     },
     "execution_count": 2,
     "metadata": {},
     "output_type": "execute_result"
    }
   ],
   "source": [
    "from notebook.auth import passwd\n",
    "passwd('','sha1')"
   ]
  },
  {
   "cell_type": "code",
   "execution_count": 1,
   "id": "219fb74c-0faf-4b51-89ed-7163ae59b6fc",
   "metadata": {},
   "outputs": [],
   "source": [
    "class PrintObserver():\n",
    "\n",
    "    def on_next(self, value):\n",
    "        print(\"Received {0}\".format(value))\n",
    "\n",
    "    def on_completed(self):\n",
    "        print(\"Done!\")\n",
    "\n",
    "    def on_error(self, error):\n",
    "        print(\"Error Occurred: {0}\".format(error))"
   ]
  },
  {
   "cell_type": "code",
   "execution_count": 3,
   "id": "04f19963-d72c-4ff5-890a-3aa0433073db",
   "metadata": {},
   "outputs": [
    {
     "name": "stdout",
     "output_type": "stream",
     "text": [
      "Done!\n"
     ]
    }
   ],
   "source": [
    "PrintObserver().on_completed()"
   ]
  },
  {
   "cell_type": "code",
   "execution_count": 4,
   "id": "8460dc1d-ef68-4db7-a0f8-e2eb14507f9f",
   "metadata": {},
   "outputs": [
    {
     "name": "stdout",
     "output_type": "stream",
     "text": [
      "Received 10\n"
     ]
    }
   ],
   "source": [
    "PrintObserver().on_next(10)"
   ]
  },
  {
   "cell_type": "code",
   "execution_count": 5,
   "id": "d7ab7b5c-5fae-4662-b43a-d8c39b6c586e",
   "metadata": {},
   "outputs": [],
   "source": [
    "ciao = PrintObserver()\n"
   ]
  },
  {
   "cell_type": "code",
   "execution_count": 6,
   "id": "c48922d7-77b8-441d-be7d-a907ad39b003",
   "metadata": {},
   "outputs": [
    {
     "name": "stdout",
     "output_type": "stream",
     "text": [
      "Received 10\n"
     ]
    }
   ],
   "source": [
    "ciao.on_next(10)"
   ]
  },
  {
   "cell_type": "code",
   "execution_count": 30,
   "id": "ebebb034-43ed-4cc1-9e35-b6e15c91a294",
   "metadata": {},
   "outputs": [
    {
     "name": "stdout",
     "output_type": "stream",
     "text": [
      "Found existing installation: Rx 3.2.0\r\n",
      "Uninstalling Rx-3.2.0:\r\n",
      "  Would remove:\r\n",
      "    /home/muttley/.virtualenvs/playground/lib/python3.10/site-packages/Rx-3.2.0.dist-info/*\r\n",
      "    /home/muttley/.virtualenvs/playground/lib/python3.10/site-packages/rx/*\r\n",
      "Proceed (y/n)? ^C\r\n",
      "\u001B[31mERROR: Operation cancelled by user\u001B[0m\r\n"
     ]
    }
   ],
   "source": [
    "!pip uninstall rx"
   ]
  },
  {
   "cell_type": "code",
   "execution_count": 4,
   "id": "b579dcc1-6d1a-4e8f-a45e-4c8e025a845e",
   "metadata": {},
   "outputs": [],
   "source": [
    "from rx import create"
   ]
  },
  {
   "cell_type": "code",
   "execution_count": 5,
   "outputs": [],
   "source": [
    "def ciao(observer, scheduler):\n",
    "\n",
    "    observer.on_next(\"Alpha\")\n",
    "\n",
    "    def on_next(a):\n",
    "        observer.on_next(a)\n",
    "\n",
    "    def on_completed():\n",
    "        observer.on_completed()\n",
    "\n",
    "    ciao.go_on = on_next\n",
    "    ciao.finish = on_completed"
   ],
   "metadata": {
    "collapsed": false,
    "pycharm": {
     "name": "#%%\n"
    }
   }
  },
  {
   "cell_type": "code",
   "execution_count": 6,
   "outputs": [
    {
     "name": "stdout",
     "output_type": "stream",
     "text": [
      "Received Alpha\n"
     ]
    },
    {
     "data": {
      "text/plain": "<rx.disposable.disposable.Disposable at 0x7f6c4c2e0190>"
     },
     "execution_count": 6,
     "metadata": {},
     "output_type": "execute_result"
    }
   ],
   "source": [
    "source = create(ciao)\n",
    "\n",
    "source.subscribe(\n",
    "    on_next = lambda i: print(\"Received {0}\".format(i)),\n",
    "    on_error = lambda e: print(\"Error Occurred: {0}\".format(e)),\n",
    "    on_completed = lambda: print(\"Done!\"),\n",
    ")"
   ],
   "metadata": {
    "collapsed": false,
    "pycharm": {
     "name": "#%%\n"
    }
   }
  },
  {
   "cell_type": "code",
   "execution_count": 25,
   "outputs": [
    {
     "name": "stdout",
     "output_type": "stream",
     "text": [
      "Received test\n",
      "Done!\n"
     ]
    }
   ],
   "source": [
    "ciao.go_on(\"test\")\n",
    "ciao.finish()\n",
    "ciao.go_on(\"test\")"
   ],
   "metadata": {
    "collapsed": false,
    "pycharm": {
     "name": "#%%\n"
    }
   }
  },
  {
   "cell_type": "code",
   "execution_count": 2,
   "id": "db6c7005-0186-43bf-8e34-cd11c7e03175",
   "metadata": {},
   "outputs": [
    {
     "name": "stdout",
     "output_type": "stream",
     "text": [
      "Received Alpha\n",
      "Received Beta\n",
      "Received Gamma\n",
      "Received Delta\n",
      "Received Epsilon\n",
      "Done!\n"
     ]
    },
    {
     "data": {
      "text/plain": "<rx.disposable.disposable.Disposable at 0x7faab0588790>"
     },
     "execution_count": 2,
     "metadata": {},
     "output_type": "execute_result"
    }
   ],
   "source": [
    "def push_five_strings(observer, scheduler):\n",
    "    observer.on_next(\"Alpha\")\n",
    "    observer.on_next(\"Beta\")\n",
    "    observer.on_next(\"Gamma\")\n",
    "    observer.on_next(\"Delta\")\n",
    "    observer.on_next(\"Epsilon\")\n",
    "    observer.on_completed()\n",
    "\n",
    "source = create(push_five_strings)\n",
    "\n",
    "source.subscribe(\n",
    "    on_next = lambda i: print(\"Received {0}\".format(i)),\n",
    "    on_error = lambda e: print(\"Error Occurred: {0}\".format(e)),\n",
    "    on_completed = lambda: print(\"Done!\"),\n",
    ")"
   ]
  },
  {
   "cell_type": "code",
   "execution_count": 3,
   "id": "872b2196-b036-4cf8-a567-315b9f2ff582",
   "metadata": {},
   "outputs": [
    {
     "name": "stdout",
     "output_type": "stream",
     "text": [
      "Received Alpha\n",
      "Received Beta\n",
      "Received Gamma\n",
      "Received Delta\n",
      "Received Epsilon\n"
     ]
    },
    {
     "data": {
      "text/plain": "<rx.disposable.disposable.Disposable at 0x7faab05e1630>"
     },
     "execution_count": 3,
     "metadata": {},
     "output_type": "execute_result"
    }
   ],
   "source": [
    "from rx import of\n",
    "\n",
    "source = of(\"Alpha\", \"Beta\", \"Gamma\", \"Delta\", \"Epsilon\")\n",
    "\n",
    "source.subscribe(lambda value: print(\"Received {0}\".format(value)))"
   ]
  },
  {
   "cell_type": "code",
   "execution_count": 27,
   "id": "2c909b6d-c91b-4192-8b91-1f5e162817af",
   "metadata": {},
   "outputs": [
    {
     "name": "stdout",
     "output_type": "stream",
     "text": [
      "Received 1\n",
      "Received ciao\n",
      "Received 1\n",
      "Received ciao\n",
      "Received 1\n",
      "Received ciao\n",
      "Received 1\n",
      "Received ciao\n",
      "Received 1\n",
      "Received ciao\n"
     ]
    },
    {
     "data": {
      "text/plain": "<rx.disposable.disposable.Disposable at 0x7faab05e2e90>"
     },
     "execution_count": 27,
     "metadata": {},
     "output_type": "execute_result"
    }
   ],
   "source": [
    "import rx\n",
    "\n",
    "def lowercase():\n",
    "    def _lowercase(source):\n",
    "        def subscribe(observer, scheduler = None):\n",
    "\n",
    "\n",
    "            def on_next(value):\n",
    "                observer.on_next(\"1\")\n",
    "                observer.on_next(\"ciao\")\n",
    "\n",
    "            return source.subscribe(\n",
    "                on_next,\n",
    "                observer.on_error,\n",
    "                observer.on_completed,\n",
    "                scheduler)\n",
    "        return rx.create(subscribe)\n",
    "    return _lowercase\n",
    "\n",
    "rx.of(\"Alpha\", \"Beta\", \"Gamma\", \"Delta\", \"Epsilon\").pipe(\n",
    "        lowercase()\n",
    "     ).subscribe(lambda value: print(\"Received {0}\".format(value)))"
   ]
  },
  {
   "cell_type": "code",
   "execution_count": 1,
   "id": "288e20af-3e63-457c-8b57-a30d0c09b93c",
   "metadata": {},
   "outputs": [
    {
     "name": "stdout",
     "output_type": "stream",
     "text": [
      "1\n",
      "2\n",
      "3\n",
      "intense calculation: ThreadPoolExecutor-0_0\n",
      "PROCESS 1: ThreadPoolExecutor-0_0 Alpha\n",
      "intense calculation: ThreadPoolExecutor-0_1\n",
      "PROCESS 2: ThreadPoolExecutor-0_1 1\n",
      "intense calculation: ThreadPoolExecutor-0_1\n",
      "PROCESS 2: ThreadPoolExecutor-0_1 2\n",
      "intense calculation: Thread-8\n",
      "PROCESS 3: ThreadPoolExecutor-0_2 0\n",
      "intense calculation: ThreadPoolExecutor-0_0\n",
      "PROCESS 1: ThreadPoolExecutor-0_0 Beta\n",
      "intense calculation: Thread-9\n",
      "PROCESS 3: ThreadPoolExecutor-0_2 100\n",
      "intense calculation: ThreadPoolExecutor-0_1\n",
      "PROCESS 2: ThreadPoolExecutor-0_1 3\n",
      "intense calculation: ThreadPoolExecutor-0_0\n",
      "PROCESS 1: ThreadPoolExecutor-0_0 Gamma\n"
     ]
    },
    {
     "data": {
      "text/plain": "''"
     },
     "execution_count": 1,
     "metadata": {},
     "output_type": "execute_result"
    }
   ],
   "source": [
    "import multiprocessing\n",
    "import random\n",
    "import time\n",
    "from threading import current_thread\n",
    "\n",
    "import rx\n",
    "from rx.scheduler import ThreadPoolScheduler\n",
    "from rx import operators as ops\n",
    "\n",
    "\n",
    "def intense_calculation(value):\n",
    "    # sleep for a random short duration between 0.5 to 2.0 seconds to simulate a long-running calculation\n",
    "    time.sleep(random.randint(5, 20) * 0.1)\n",
    "    print(\"intense calculation: {0}\".format(current_thread().name))\n",
    "    return value\n",
    "\n",
    "\n",
    "# calculate number of CPUs, then create a ThreadPoolScheduler with that number of threads\n",
    "optimal_thread_count = multiprocessing.cpu_count()\n",
    "pool_scheduler = ThreadPoolScheduler(optimal_thread_count)\n",
    "\n",
    "# Create Process 1\n",
    "rx.of(\"Alpha\", \"Beta\", \"Gamma\", \"Delta\", \"Epsilon\").pipe(\n",
    "    ops.map(lambda s: intense_calculation(s)),\n",
    "    ops.subscribe_on(pool_scheduler)\n",
    ").subscribe(\n",
    "    on_next=lambda s: print(\"PROCESS 1: {0} {1}\".format(current_thread().name, s)),\n",
    "    on_error=lambda e: print(e),\n",
    "    on_completed=lambda: print(\"PROCESS 1 done!\"),\n",
    ")\n",
    "\n",
    "print(\"1\")\n",
    "\n",
    "# Create Process 2\n",
    "rx.range(1, 10).pipe(\n",
    "    ops.map(lambda s: intense_calculation(s)),\n",
    "    ops.subscribe_on(pool_scheduler)\n",
    ").subscribe(\n",
    "    on_next=lambda i: print(\"PROCESS 2: {0} {1}\".format(current_thread().name, i)),\n",
    "    on_error=lambda e: print(e),\n",
    "    on_completed=lambda: print(\"PROCESS 2 done!\"),\n",
    ")\n",
    "\n",
    "print(\"2\")\n",
    "\n",
    "# Create Process 3, which is infinite\n",
    "rx.interval(1).pipe(\n",
    "    ops.map(lambda i: i * 100),\n",
    "    ops.map(lambda s: intense_calculation(s)),\n",
    "    ops.observe_on(pool_scheduler),\n",
    ").subscribe(\n",
    "    on_next=lambda i: print(\"PROCESS 3: {0} {1}\".format(current_thread().name, i)),\n",
    "    on_error=lambda e: print(e),\n",
    ")\n",
    "\n",
    "print(\"3\")\n",
    "input(\"Press Enter key to exit\\n\")"
   ]
  },
  {
   "cell_type": "code",
   "execution_count": 23,
   "outputs": [
    {
     "name": "stdout",
     "output_type": "stream",
     "text": [
      "PROCESS 2 done!\n"
     ]
    },
    {
     "data": {
      "text/plain": "'d'"
     },
     "execution_count": 23,
     "metadata": {},
     "output_type": "execute_result"
    }
   ],
   "source": [
    "import rx\n",
    "from rx import operators as ops\n",
    "\n",
    "def customer_for_id(customer_id):\n",
    "    stmt = f\"SELECT * FROM CUSTOMER WHERE CUSTOMER_ID = {id}\"\n",
    "    return rx.of(f\"Alpha {customer_id}\")\n",
    "\n",
    "\n",
    "# Query customers with IDs 1, 3, and 5\n",
    "a = rx.from_([1, 3, 5])\n",
    "b = rx.from_([1, 3, 5])\n",
    "\n",
    "rx.zip(a,b).subscribe(\n",
    "    on_next=lambda i: print(\"PROCESS 2: {1}\".format(i)),\n",
    "    on_error=lambda e: print(e),\n",
    "    on_completed=lambda: print(\"PROCESS 2 done!\"),\n",
    ")\n",
    "\n",
    "input(\"Press Enter key to exit\\n\")"
   ],
   "metadata": {
    "collapsed": false,
    "pycharm": {
     "name": "#%%\n"
    }
   }
  },
  {
   "cell_type": "code",
   "execution_count": 22,
   "outputs": [
    {
     "name": "stdout",
     "output_type": "stream",
     "text": [
      "-------------\n",
      "foo(x) = 11 (expensive)\n",
      "bar(foo(x)) = 22\n",
      "foo(x) + bar(foo(x)) = 33\n",
      "-------------\n"
     ]
    }
   ],
   "source": [
    "import rx\n",
    "from rx import operators as op\n",
    "from rx.subject import Subject\n",
    "\n",
    "root = Subject()\n",
    "\n",
    "foo = root.pipe(\n",
    "    op.map( lambda x : x + 1 ),\n",
    "    op.do_action(lambda r: print(\"foo(x) = %s (expensive)\" % str(r))),\n",
    "    op.share()\n",
    ")\n",
    "\n",
    "bar_foo = foo.pipe(\n",
    "    op.map( lambda x : x * 2 ),\n",
    "    op.do_action(lambda r: print(\"bar(foo(x)) = %s\" % str(r)))\n",
    ")\n",
    "\n",
    "bar_foo.pipe(\n",
    "    op.zip(foo),\n",
    "    op.map(lambda i: i[0]+i[1]),\n",
    "    op.do_action(lambda r: print(\"foo(x) + bar(foo(x)) = %s\" % str(r)))\n",
    ").subscribe()\n",
    "\n",
    "\n",
    "print(\"-------------\")\n",
    "root.on_next(10)\n",
    "print(\"-------------\")"
   ],
   "metadata": {
    "collapsed": false,
    "pycharm": {
     "name": "#%%\n"
    }
   }
  },
  {
   "cell_type": "code",
   "execution_count": 21,
   "outputs": [
    {
     "ename": "KeyboardInterrupt",
     "evalue": "",
     "output_type": "error",
     "traceback": [
      "\u001B[0;31m---------------------------------------------------------------------------\u001B[0m",
      "\u001B[0;31mKeyboardInterrupt\u001B[0m                         Traceback (most recent call last)",
      "\u001B[0;32m/tmp/ipykernel_55004/997144241.py\u001B[0m in \u001B[0;36m<module>\u001B[0;34m\u001B[0m\n\u001B[1;32m      1\u001B[0m \u001B[0mxs\u001B[0m \u001B[0;34m=\u001B[0m \u001B[0mrx\u001B[0m\u001B[0;34m.\u001B[0m\u001B[0mfrom_marbles\u001B[0m\u001B[0;34m(\u001B[0m\u001B[0;34m\"1-2-3\"\u001B[0m\u001B[0;34m)\u001B[0m\u001B[0;34m\u001B[0m\u001B[0;34m\u001B[0m\u001B[0m\n\u001B[1;32m      2\u001B[0m \u001B[0mys\u001B[0m \u001B[0;34m=\u001B[0m \u001B[0mrx\u001B[0m\u001B[0;34m.\u001B[0m\u001B[0mfrom_marbles\u001B[0m\u001B[0;34m(\u001B[0m\u001B[0;34m\"1-2-3\"\u001B[0m\u001B[0;34m)\u001B[0m\u001B[0;34m\u001B[0m\u001B[0;34m\u001B[0m\u001B[0m\n\u001B[0;32m----> 3\u001B[0;31m \u001B[0mrx\u001B[0m\u001B[0;34m.\u001B[0m\u001B[0mmerge\u001B[0m\u001B[0;34m(\u001B[0m\u001B[0mxs\u001B[0m\u001B[0;34m,\u001B[0m\u001B[0mys\u001B[0m\u001B[0;34m)\u001B[0m\u001B[0;34m.\u001B[0m\u001B[0mpipe\u001B[0m\u001B[0;34m(\u001B[0m\u001B[0mops\u001B[0m\u001B[0;34m.\u001B[0m\u001B[0mto_list\u001B[0m\u001B[0;34m(\u001B[0m\u001B[0;34m)\u001B[0m\u001B[0;34m)\u001B[0m\u001B[0;34m.\u001B[0m\u001B[0mrun\u001B[0m\u001B[0;34m(\u001B[0m\u001B[0;34m)\u001B[0m\u001B[0;34m\u001B[0m\u001B[0;34m\u001B[0m\u001B[0m\n\u001B[0m",
      "\u001B[0;32m~/.virtualenvs/playground/lib/python3.10/site-packages/rx/core/observable/observable.py\u001B[0m in \u001B[0;36mrun\u001B[0;34m(self)\u001B[0m\n\u001B[1;32m    284\u001B[0m         \"\"\"\n\u001B[1;32m    285\u001B[0m         \u001B[0;32mfrom\u001B[0m \u001B[0;34m.\u001B[0m\u001B[0;34m.\u001B[0m\u001B[0mrun\u001B[0m \u001B[0;32mimport\u001B[0m \u001B[0mrun\u001B[0m\u001B[0;34m\u001B[0m\u001B[0;34m\u001B[0m\u001B[0m\n\u001B[0;32m--> 286\u001B[0;31m         \u001B[0;32mreturn\u001B[0m \u001B[0mrun\u001B[0m\u001B[0;34m(\u001B[0m\u001B[0mself\u001B[0m\u001B[0;34m)\u001B[0m\u001B[0;34m\u001B[0m\u001B[0;34m\u001B[0m\u001B[0m\n\u001B[0m\u001B[1;32m    287\u001B[0m \u001B[0;34m\u001B[0m\u001B[0m\n\u001B[1;32m    288\u001B[0m     \u001B[0;32mdef\u001B[0m \u001B[0m__await__\u001B[0m\u001B[0;34m(\u001B[0m\u001B[0mself\u001B[0m\u001B[0;34m)\u001B[0m \u001B[0;34m->\u001B[0m \u001B[0mAny\u001B[0m\u001B[0;34m:\u001B[0m\u001B[0;34m\u001B[0m\u001B[0;34m\u001B[0m\u001B[0m\n",
      "\u001B[0;32m~/.virtualenvs/playground/lib/python3.10/site-packages/rx/core/run.py\u001B[0m in \u001B[0;36mrun\u001B[0;34m(source)\u001B[0m\n\u001B[1;32m     57\u001B[0m \u001B[0;34m\u001B[0m\u001B[0m\n\u001B[1;32m     58\u001B[0m     \u001B[0;32mwhile\u001B[0m \u001B[0;32mnot\u001B[0m \u001B[0mdone\u001B[0m\u001B[0;34m:\u001B[0m\u001B[0;34m\u001B[0m\u001B[0;34m\u001B[0m\u001B[0m\n\u001B[0;32m---> 59\u001B[0;31m         \u001B[0mlatch\u001B[0m\u001B[0;34m.\u001B[0m\u001B[0mwait\u001B[0m\u001B[0;34m(\u001B[0m\u001B[0;34m)\u001B[0m\u001B[0;34m\u001B[0m\u001B[0;34m\u001B[0m\u001B[0m\n\u001B[0m\u001B[1;32m     60\u001B[0m \u001B[0;34m\u001B[0m\u001B[0m\n\u001B[1;32m     61\u001B[0m     \u001B[0;32mif\u001B[0m \u001B[0mexception\u001B[0m \u001B[0;32mand\u001B[0m \u001B[0misinstance\u001B[0m\u001B[0;34m(\u001B[0m\u001B[0mexception\u001B[0m\u001B[0;34m,\u001B[0m \u001B[0mException\u001B[0m\u001B[0;34m)\u001B[0m\u001B[0;34m:\u001B[0m\u001B[0;34m\u001B[0m\u001B[0;34m\u001B[0m\u001B[0m\n",
      "\u001B[0;32m/usr/lib/python3.10/threading.py\u001B[0m in \u001B[0;36mwait\u001B[0;34m(self, timeout)\u001B[0m\n\u001B[1;32m    598\u001B[0m             \u001B[0msignaled\u001B[0m \u001B[0;34m=\u001B[0m \u001B[0mself\u001B[0m\u001B[0;34m.\u001B[0m\u001B[0m_flag\u001B[0m\u001B[0;34m\u001B[0m\u001B[0;34m\u001B[0m\u001B[0m\n\u001B[1;32m    599\u001B[0m             \u001B[0;32mif\u001B[0m \u001B[0;32mnot\u001B[0m \u001B[0msignaled\u001B[0m\u001B[0;34m:\u001B[0m\u001B[0;34m\u001B[0m\u001B[0;34m\u001B[0m\u001B[0m\n\u001B[0;32m--> 600\u001B[0;31m                 \u001B[0msignaled\u001B[0m \u001B[0;34m=\u001B[0m \u001B[0mself\u001B[0m\u001B[0;34m.\u001B[0m\u001B[0m_cond\u001B[0m\u001B[0;34m.\u001B[0m\u001B[0mwait\u001B[0m\u001B[0;34m(\u001B[0m\u001B[0mtimeout\u001B[0m\u001B[0;34m)\u001B[0m\u001B[0;34m\u001B[0m\u001B[0;34m\u001B[0m\u001B[0m\n\u001B[0m\u001B[1;32m    601\u001B[0m             \u001B[0;32mreturn\u001B[0m \u001B[0msignaled\u001B[0m\u001B[0;34m\u001B[0m\u001B[0;34m\u001B[0m\u001B[0m\n\u001B[1;32m    602\u001B[0m \u001B[0;34m\u001B[0m\u001B[0m\n",
      "\u001B[0;32m/usr/lib/python3.10/threading.py\u001B[0m in \u001B[0;36mwait\u001B[0;34m(self, timeout)\u001B[0m\n\u001B[1;32m    318\u001B[0m         \u001B[0;32mtry\u001B[0m\u001B[0;34m:\u001B[0m    \u001B[0;31m# restore state no matter what (e.g., KeyboardInterrupt)\u001B[0m\u001B[0;34m\u001B[0m\u001B[0;34m\u001B[0m\u001B[0m\n\u001B[1;32m    319\u001B[0m             \u001B[0;32mif\u001B[0m \u001B[0mtimeout\u001B[0m \u001B[0;32mis\u001B[0m \u001B[0;32mNone\u001B[0m\u001B[0;34m:\u001B[0m\u001B[0;34m\u001B[0m\u001B[0;34m\u001B[0m\u001B[0m\n\u001B[0;32m--> 320\u001B[0;31m                 \u001B[0mwaiter\u001B[0m\u001B[0;34m.\u001B[0m\u001B[0macquire\u001B[0m\u001B[0;34m(\u001B[0m\u001B[0;34m)\u001B[0m\u001B[0;34m\u001B[0m\u001B[0;34m\u001B[0m\u001B[0m\n\u001B[0m\u001B[1;32m    321\u001B[0m                 \u001B[0mgotit\u001B[0m \u001B[0;34m=\u001B[0m \u001B[0;32mTrue\u001B[0m\u001B[0;34m\u001B[0m\u001B[0;34m\u001B[0m\u001B[0m\n\u001B[1;32m    322\u001B[0m             \u001B[0;32melse\u001B[0m\u001B[0;34m:\u001B[0m\u001B[0;34m\u001B[0m\u001B[0;34m\u001B[0m\u001B[0m\n",
      "\u001B[0;31mKeyboardInterrupt\u001B[0m: "
     ]
    }
   ],
   "source": [
    "xs = rx.from_marbles(\"1-2-3\")\n",
    "ys = rx.from_marbles(\"1-2-3\")\n",
    "rx.merge(xs,ys).pipe(ops.to_list()).run()"
   ],
   "metadata": {
    "collapsed": false,
    "pycharm": {
     "name": "#%%\n"
    }
   }
  },
  {
   "cell_type": "code",
   "execution_count": 26,
   "outputs": [
    {
     "data": {
      "text/plain": "<rx.disposable.disposable.Disposable at 0x7f27783e2860>"
     },
     "execution_count": 26,
     "metadata": {},
     "output_type": "execute_result"
    }
   ],
   "source": [
    "\n",
    "from rx import operators as op\n",
    "\n",
    "test = rx.of(1,2,3,4,5,6)\n",
    "test1 = rx.of(4,8,12,16,20)\n",
    "test2 = rx.of(5,10,15,20,25)\n",
    "sub1 = test.pipe(\n",
    "    op.zip(test1, test2)\n",
    ")\n",
    "sub1.subscribe(lambda x: print(\"The value is {0}\".format(x)))"
   ],
   "metadata": {
    "collapsed": false,
    "pycharm": {
     "name": "#%%\n"
    }
   }
  },
  {
   "cell_type": "code",
   "execution_count": 27,
   "outputs": [
    {
     "data": {
      "text/plain": "<rx.disposable.disposable.Disposable at 0x7f27783e2fe0>"
     },
     "execution_count": 27,
     "metadata": {},
     "output_type": "execute_result"
    }
   ],
   "source": [
    "import rx\n",
    "from rx import operators as ops\n",
    "import operator\n",
    "\n",
    "a = rx.of(1, 2, 3, 4)\n",
    "b = rx.of(2, 2, 4, 4)\n",
    "\n",
    "a.pipe(\n",
    "    ops.zip(b), # returns a tuple with the items of a and b\n",
    "    ops.map(lambda z: operator.mul(z[0], z[1]))\n",
    ").subscribe(print)"
   ],
   "metadata": {
    "collapsed": false,
    "pycharm": {
     "name": "#%%\n"
    }
   }
  },
  {
   "cell_type": "code",
   "execution_count": 39,
   "outputs": [
    {
     "name": "stdout",
     "output_type": "stream",
     "text": [
      "2\n",
      "4\n",
      "12\n",
      "16\n"
     ]
    },
    {
     "data": {
      "text/plain": "<rx.disposable.disposable.Disposable at 0x7faab01c4eb0>"
     },
     "execution_count": 39,
     "metadata": {},
     "output_type": "execute_result"
    }
   ],
   "source": [
    "import rx\n",
    "from rx import operators as ops\n",
    "import operator\n",
    "\n",
    "a = rx.of(1, 2, 3, 4)\n",
    "b = rx.of(2, 2, 4, 4)\n",
    "\n",
    "a.pipe(\n",
    "    ops.zip(b),\n",
    "    ops.starmap(operator.mul)\n",
    ").subscribe(print)"
   ],
   "metadata": {
    "collapsed": false,
    "pycharm": {
     "name": "#%%\n"
    }
   }
  },
  {
   "cell_type": "code",
   "execution_count": 40,
   "outputs": [
    {
     "name": "stdout",
     "output_type": "stream",
     "text": [
      "Got: 0\n",
      "Got: 1\n",
      "Got: 2\n",
      "Got: 3\n",
      "Got: 4\n",
      "Got: 5\n",
      "Got: 6\n",
      "Got: 7\n",
      "Got: 8\n",
      "Got: 9\n",
      "Sequence completed\n"
     ]
    }
   ],
   "source": [
    "class MyObserver(rx.core.Observer):\n",
    "    def on_next(self, x):\n",
    "        print(\"Got: %s\" % x)\n",
    "\n",
    "    def on_error(self, e):\n",
    "        print(\"Got error: %s\" % e)\n",
    "\n",
    "    def on_completed(self):\n",
    "        print(\"Sequence completed\")\n",
    "\n",
    "xs = rx.from_(range(10))\n",
    "d = xs.subscribe(MyObserver())"
   ],
   "metadata": {
    "collapsed": false,
    "pycharm": {
     "name": "#%%\n"
    }
   }
  },
  {
   "cell_type": "code",
   "execution_count": 56,
   "outputs": [
    {
     "name": "stdout",
     "output_type": "stream",
     "text": [
      "1\n",
      "a\n",
      "b\n",
      "c\n",
      "d\n",
      "e\n",
      "2\n",
      "3\n",
      "4\n"
     ]
    }
   ],
   "source": [
    "xs = rx.range(1, 5)\n",
    "ys = rx.from_(\"abcde\")\n",
    "zs = rx.merge(xs,ys).subscribe(print)"
   ],
   "metadata": {
    "collapsed": false,
    "pycharm": {
     "name": "#%%\n"
    }
   }
  },
  {
   "cell_type": "code",
   "execution_count": 57,
   "outputs": [
    {
     "name": "stdout",
     "output_type": "stream",
     "text": [
      "1\n",
      "a\n",
      "b\n",
      "c\n",
      "d\n",
      "e\n",
      "2\n",
      "3\n",
      "4\n"
     ]
    },
    {
     "data": {
      "text/plain": "<rx.disposable.disposable.Disposable at 0x7faab01f8be0>"
     },
     "execution_count": 57,
     "metadata": {},
     "output_type": "execute_result"
    }
   ],
   "source": [
    "xs.pipe(ops.merge(ys)).subscribe(print)"
   ],
   "metadata": {
    "collapsed": false,
    "pycharm": {
     "name": "#%%\n"
    }
   }
  },
  {
   "cell_type": "code",
   "execution_count": 69,
   "outputs": [
    {
     "data": {
      "text/plain": "'1---2---3--|'"
     },
     "execution_count": 69,
     "metadata": {},
     "output_type": "execute_result"
    }
   ],
   "source": [
    "marbles = rx.from_marbles('a--b--c-|', lookup={'a': 1, 'b': 2, 'c': 3}).pipe(ops.to_marbles())\n",
    "\n",
    "marbles.run()"
   ],
   "metadata": {
    "collapsed": false,
    "pycharm": {
     "name": "#%%\n"
    }
   }
  },
  {
   "cell_type": "code",
   "execution_count": 102,
   "outputs": [
    {
     "name": "stdout",
     "output_type": "stream",
     "text": [
      "merge 41\n",
      "merge 1\n",
      "merge 2\n",
      "merge 3\n",
      "merge 4\n",
      "merge 5\n",
      "merge 42\n",
      "merge 42\n",
      "merge 43\n"
     ]
    }
   ],
   "source": [
    "from rx.subject import ReplaySubject, Subject\n",
    "\n",
    "#stream = Subject()\n",
    "stream = ReplaySubject()\n",
    "stream.on_next(41)\n",
    "\n",
    "#d = stream.subscribe(lambda x: print(\"Got: %s\" % x))\n",
    "\n",
    "stream.on_next(42)\n",
    "stream.on_next(42)\n",
    "\n",
    "#marbles = rx.from_marbles('a--b--c-|', lookup={'a': 1, 'b': 2, 'c': 3}).pipe(ops.to_marbles())\n",
    "marbles = rx.from_([1,2,3,4,5])\n",
    "\n",
    "rx.merge(stream, marbles).subscribe(lambda x: print(\"merge %s\" % x))\n",
    "\n",
    "#d.dispose()\n",
    "stream.on_next(43)\n"
   ],
   "metadata": {
    "collapsed": false,
    "pycharm": {
     "name": "#%%\n"
    }
   }
  },
  {
   "cell_type": "code",
   "execution_count": 101,
   "outputs": [
    {
     "name": "stdout",
     "output_type": "stream",
     "text": [
      "merge 43\n"
     ]
    }
   ],
   "source": [
    "stream.on_next(43)"
   ],
   "metadata": {
    "collapsed": false,
    "pycharm": {
     "name": "#%%\n"
    }
   }
  },
  {
   "cell_type": "code",
   "execution_count": 72,
   "outputs": [
    {
     "name": "stdout",
     "output_type": "stream",
     "text": [
      "Requirement already satisfied: nest_asyncio in /home/muttley/Projects/SecondLevelDegrees/courses/Thesis/source/venv/lib/python3.10/site-packages (1.5.4)\r\n",
      "\u001B[33mWARNING: You are using pip version 21.2.4; however, version 21.3.1 is available.\r\n",
      "You should consider upgrading via the '/home/muttley/Projects/SecondLevelDegrees/courses/Thesis/source/venv/bin/python -m pip install --upgrade pip' command.\u001B[0m\r\n"
     ]
    }
   ],
   "source": [
    "!pip install nest_asyncio"
   ],
   "metadata": {
    "collapsed": false,
    "pycharm": {
     "name": "#%%\n"
    }
   }
  },
  {
   "cell_type": "code",
   "execution_count": 73,
   "outputs": [],
   "source": [
    "import nest_asyncio\n",
    "nest_asyncio.apply()"
   ],
   "metadata": {
    "collapsed": false,
    "pycharm": {
     "name": "#%%\n"
    }
   }
  },
  {
   "cell_type": "code",
   "execution_count": 76,
   "outputs": [
    {
     "name": "stdout",
     "output_type": "stream",
     "text": [
      "1: a\n",
      "1: b\n",
      "1: 3\n",
      "1: 4\n",
      "1 Done!\n"
     ]
    },
    {
     "ename": "RuntimeError",
     "evalue": "Cannot close a running event loop",
     "output_type": "error",
     "traceback": [
      "\u001B[0;31m---------------------------------------------------------------------------\u001B[0m",
      "\u001B[0;31mRuntimeError\u001B[0m                              Traceback (most recent call last)",
      "\u001B[0;32m/tmp/ipykernel_6257/2888350474.py\u001B[0m in \u001B[0;36m<module>\u001B[0;34m\u001B[0m\n\u001B[1;32m     18\u001B[0m \u001B[0mloop\u001B[0m \u001B[0;34m=\u001B[0m \u001B[0masyncio\u001B[0m\u001B[0;34m.\u001B[0m\u001B[0mget_event_loop\u001B[0m\u001B[0;34m(\u001B[0m\u001B[0;34m)\u001B[0m\u001B[0;34m\u001B[0m\u001B[0;34m\u001B[0m\u001B[0m\n\u001B[1;32m     19\u001B[0m \u001B[0mloop\u001B[0m\u001B[0;34m.\u001B[0m\u001B[0mrun_until_complete\u001B[0m\u001B[0;34m(\u001B[0m\u001B[0mmain\u001B[0m\u001B[0;34m(\u001B[0m\u001B[0mloop\u001B[0m\u001B[0;34m)\u001B[0m\u001B[0;34m)\u001B[0m\u001B[0;34m\u001B[0m\u001B[0;34m\u001B[0m\u001B[0m\n\u001B[0;32m---> 20\u001B[0;31m \u001B[0mloop\u001B[0m\u001B[0;34m.\u001B[0m\u001B[0mclose\u001B[0m\u001B[0;34m(\u001B[0m\u001B[0;34m)\u001B[0m\u001B[0;34m\u001B[0m\u001B[0;34m\u001B[0m\u001B[0m\n\u001B[0m\u001B[1;32m     21\u001B[0m \u001B[0mprint\u001B[0m\u001B[0;34m(\u001B[0m\u001B[0;34m'end'\u001B[0m\u001B[0;34m)\u001B[0m\u001B[0;34m\u001B[0m\u001B[0;34m\u001B[0m\u001B[0m\n",
      "\u001B[0;32m/usr/lib/python3.10/asyncio/unix_events.py\u001B[0m in \u001B[0;36mclose\u001B[0;34m(self)\u001B[0m\n\u001B[1;32m     66\u001B[0m \u001B[0;34m\u001B[0m\u001B[0m\n\u001B[1;32m     67\u001B[0m     \u001B[0;32mdef\u001B[0m \u001B[0mclose\u001B[0m\u001B[0;34m(\u001B[0m\u001B[0mself\u001B[0m\u001B[0;34m)\u001B[0m\u001B[0;34m:\u001B[0m\u001B[0;34m\u001B[0m\u001B[0;34m\u001B[0m\u001B[0m\n\u001B[0;32m---> 68\u001B[0;31m         \u001B[0msuper\u001B[0m\u001B[0;34m(\u001B[0m\u001B[0;34m)\u001B[0m\u001B[0;34m.\u001B[0m\u001B[0mclose\u001B[0m\u001B[0;34m(\u001B[0m\u001B[0;34m)\u001B[0m\u001B[0;34m\u001B[0m\u001B[0;34m\u001B[0m\u001B[0m\n\u001B[0m\u001B[1;32m     69\u001B[0m         \u001B[0;32mif\u001B[0m \u001B[0;32mnot\u001B[0m \u001B[0msys\u001B[0m\u001B[0;34m.\u001B[0m\u001B[0mis_finalizing\u001B[0m\u001B[0;34m(\u001B[0m\u001B[0;34m)\u001B[0m\u001B[0;34m:\u001B[0m\u001B[0;34m\u001B[0m\u001B[0;34m\u001B[0m\u001B[0m\n\u001B[1;32m     70\u001B[0m             \u001B[0;32mfor\u001B[0m \u001B[0msig\u001B[0m \u001B[0;32min\u001B[0m \u001B[0mlist\u001B[0m\u001B[0;34m(\u001B[0m\u001B[0mself\u001B[0m\u001B[0;34m.\u001B[0m\u001B[0m_signal_handlers\u001B[0m\u001B[0;34m)\u001B[0m\u001B[0;34m:\u001B[0m\u001B[0;34m\u001B[0m\u001B[0;34m\u001B[0m\u001B[0m\n",
      "\u001B[0;32m/usr/lib/python3.10/asyncio/selector_events.py\u001B[0m in \u001B[0;36mclose\u001B[0;34m(self)\u001B[0m\n\u001B[1;32m     87\u001B[0m     \u001B[0;32mdef\u001B[0m \u001B[0mclose\u001B[0m\u001B[0;34m(\u001B[0m\u001B[0mself\u001B[0m\u001B[0;34m)\u001B[0m\u001B[0;34m:\u001B[0m\u001B[0;34m\u001B[0m\u001B[0;34m\u001B[0m\u001B[0m\n\u001B[1;32m     88\u001B[0m         \u001B[0;32mif\u001B[0m \u001B[0mself\u001B[0m\u001B[0;34m.\u001B[0m\u001B[0mis_running\u001B[0m\u001B[0;34m(\u001B[0m\u001B[0;34m)\u001B[0m\u001B[0;34m:\u001B[0m\u001B[0;34m\u001B[0m\u001B[0;34m\u001B[0m\u001B[0m\n\u001B[0;32m---> 89\u001B[0;31m             \u001B[0;32mraise\u001B[0m \u001B[0mRuntimeError\u001B[0m\u001B[0;34m(\u001B[0m\u001B[0;34m\"Cannot close a running event loop\"\u001B[0m\u001B[0;34m)\u001B[0m\u001B[0;34m\u001B[0m\u001B[0;34m\u001B[0m\u001B[0m\n\u001B[0m\u001B[1;32m     90\u001B[0m         \u001B[0;32mif\u001B[0m \u001B[0mself\u001B[0m\u001B[0;34m.\u001B[0m\u001B[0mis_closed\u001B[0m\u001B[0;34m(\u001B[0m\u001B[0;34m)\u001B[0m\u001B[0;34m:\u001B[0m\u001B[0;34m\u001B[0m\u001B[0;34m\u001B[0m\u001B[0m\n\u001B[1;32m     91\u001B[0m             \u001B[0;32mreturn\u001B[0m\u001B[0;34m\u001B[0m\u001B[0;34m\u001B[0m\u001B[0m\n",
      "\u001B[0;31mRuntimeError\u001B[0m: Cannot close a running event loop"
     ]
    }
   ],
   "source": [
    "import asyncio\n",
    "import rx\n",
    "import rx.operators as op\n",
    "import time\n",
    "\n",
    "\n",
    "source1: rx.Observable = rx.from_marbles('a-b-3-4-|', )\n",
    "\n",
    "async def main(loop):\n",
    "    x = source1.subscribe(\n",
    "        on_next = lambda i: print(\"1: {0}\".format(i)),\n",
    "        on_error = lambda e: print(\"Error Occurred: {0}\".format(e)),\n",
    "        on_completed = lambda: print(\"1 Done!\"),p\n",
    "    )\n",
    "    await source1\n",
    "\n",
    "\n",
    "loop = asyncio.get_event_loop()\n",
    "loop.run_until_complete(main(loop))\n",
    "loop.close()\n",
    "print('end')"
   ],
   "metadata": {
    "collapsed": false,
    "pycharm": {
     "name": "#%%\n"
    }
   }
  },
  {
   "cell_type": "code",
   "execution_count": 109,
   "outputs": [
    {
     "name": "stdout",
     "output_type": "stream",
     "text": [
      "periodic 1\n",
      "periodic 3\n",
      "periodic 6\n",
      "periodic 2\n"
     ]
    },
    {
     "ename": "KeyboardInterrupt",
     "evalue": "",
     "output_type": "error",
     "traceback": [
      "\u001B[0;31m---------------------------------------------------------------------------\u001B[0m",
      "\u001B[0;31mKeyboardInterrupt\u001B[0m                         Traceback (most recent call last)",
      "\u001B[0;32m/tmp/ipykernel_6257/2302284346.py\u001B[0m in \u001B[0;36m<module>\u001B[0;34m\u001B[0m\n\u001B[1;32m     17\u001B[0m \u001B[0;34m\u001B[0m\u001B[0m\n\u001B[1;32m     18\u001B[0m \u001B[0;32mtry\u001B[0m\u001B[0;34m:\u001B[0m\u001B[0;34m\u001B[0m\u001B[0;34m\u001B[0m\u001B[0m\n\u001B[0;32m---> 19\u001B[0;31m     \u001B[0mloop\u001B[0m\u001B[0;34m.\u001B[0m\u001B[0mrun_until_complete\u001B[0m\u001B[0;34m(\u001B[0m\u001B[0mtask\u001B[0m\u001B[0;34m)\u001B[0m\u001B[0;34m\u001B[0m\u001B[0;34m\u001B[0m\u001B[0m\n\u001B[0m\u001B[1;32m     20\u001B[0m \u001B[0;32mexcept\u001B[0m \u001B[0masyncio\u001B[0m\u001B[0;34m.\u001B[0m\u001B[0mCancelledError\u001B[0m\u001B[0;34m:\u001B[0m\u001B[0;34m\u001B[0m\u001B[0;34m\u001B[0m\u001B[0m\n\u001B[1;32m     21\u001B[0m     \u001B[0;32mpass\u001B[0m\u001B[0;34m\u001B[0m\u001B[0;34m\u001B[0m\u001B[0m\n",
      "\u001B[0;32m~/Projects/SecondLevelDegrees/courses/Thesis/source/venv/lib/python3.10/site-packages/nest_asyncio.py\u001B[0m in \u001B[0;36mrun_until_complete\u001B[0;34m(self, future)\u001B[0m\n\u001B[1;32m     73\u001B[0m                 \u001B[0mf\u001B[0m\u001B[0;34m.\u001B[0m\u001B[0m_log_destroy_pending\u001B[0m \u001B[0;34m=\u001B[0m \u001B[0;32mFalse\u001B[0m\u001B[0;34m\u001B[0m\u001B[0;34m\u001B[0m\u001B[0m\n\u001B[1;32m     74\u001B[0m             \u001B[0;32mwhile\u001B[0m \u001B[0;32mnot\u001B[0m \u001B[0mf\u001B[0m\u001B[0;34m.\u001B[0m\u001B[0mdone\u001B[0m\u001B[0;34m(\u001B[0m\u001B[0;34m)\u001B[0m\u001B[0;34m:\u001B[0m\u001B[0;34m\u001B[0m\u001B[0;34m\u001B[0m\u001B[0m\n\u001B[0;32m---> 75\u001B[0;31m                 \u001B[0mself\u001B[0m\u001B[0;34m.\u001B[0m\u001B[0m_run_once\u001B[0m\u001B[0;34m(\u001B[0m\u001B[0;34m)\u001B[0m\u001B[0;34m\u001B[0m\u001B[0;34m\u001B[0m\u001B[0m\n\u001B[0m\u001B[1;32m     76\u001B[0m                 \u001B[0;32mif\u001B[0m \u001B[0mself\u001B[0m\u001B[0;34m.\u001B[0m\u001B[0m_stopping\u001B[0m\u001B[0;34m:\u001B[0m\u001B[0;34m\u001B[0m\u001B[0;34m\u001B[0m\u001B[0m\n\u001B[1;32m     77\u001B[0m                     \u001B[0;32mbreak\u001B[0m\u001B[0;34m\u001B[0m\u001B[0;34m\u001B[0m\u001B[0m\n",
      "\u001B[0;32m~/Projects/SecondLevelDegrees/courses/Thesis/source/venv/lib/python3.10/site-packages/nest_asyncio.py\u001B[0m in \u001B[0;36m_run_once\u001B[0;34m(self)\u001B[0m\n\u001B[1;32m     96\u001B[0m                 scheduled[0]._when - self.time(), 0), 86400) if scheduled\n\u001B[1;32m     97\u001B[0m             else None)\n\u001B[0;32m---> 98\u001B[0;31m         \u001B[0mevent_list\u001B[0m \u001B[0;34m=\u001B[0m \u001B[0mself\u001B[0m\u001B[0;34m.\u001B[0m\u001B[0m_selector\u001B[0m\u001B[0;34m.\u001B[0m\u001B[0mselect\u001B[0m\u001B[0;34m(\u001B[0m\u001B[0mtimeout\u001B[0m\u001B[0;34m)\u001B[0m\u001B[0;34m\u001B[0m\u001B[0;34m\u001B[0m\u001B[0m\n\u001B[0m\u001B[1;32m     99\u001B[0m         \u001B[0mself\u001B[0m\u001B[0;34m.\u001B[0m\u001B[0m_process_events\u001B[0m\u001B[0;34m(\u001B[0m\u001B[0mevent_list\u001B[0m\u001B[0;34m)\u001B[0m\u001B[0;34m\u001B[0m\u001B[0;34m\u001B[0m\u001B[0m\n\u001B[1;32m    100\u001B[0m \u001B[0;34m\u001B[0m\u001B[0m\n",
      "\u001B[0;32m/usr/lib/python3.10/selectors.py\u001B[0m in \u001B[0;36mselect\u001B[0;34m(self, timeout)\u001B[0m\n\u001B[1;32m    467\u001B[0m             \u001B[0mready\u001B[0m \u001B[0;34m=\u001B[0m \u001B[0;34m[\u001B[0m\u001B[0;34m]\u001B[0m\u001B[0;34m\u001B[0m\u001B[0;34m\u001B[0m\u001B[0m\n\u001B[1;32m    468\u001B[0m             \u001B[0;32mtry\u001B[0m\u001B[0;34m:\u001B[0m\u001B[0;34m\u001B[0m\u001B[0;34m\u001B[0m\u001B[0m\n\u001B[0;32m--> 469\u001B[0;31m                 \u001B[0mfd_event_list\u001B[0m \u001B[0;34m=\u001B[0m \u001B[0mself\u001B[0m\u001B[0;34m.\u001B[0m\u001B[0m_selector\u001B[0m\u001B[0;34m.\u001B[0m\u001B[0mpoll\u001B[0m\u001B[0;34m(\u001B[0m\u001B[0mtimeout\u001B[0m\u001B[0;34m,\u001B[0m \u001B[0mmax_ev\u001B[0m\u001B[0;34m)\u001B[0m\u001B[0;34m\u001B[0m\u001B[0;34m\u001B[0m\u001B[0m\n\u001B[0m\u001B[1;32m    470\u001B[0m             \u001B[0;32mexcept\u001B[0m \u001B[0mInterruptedError\u001B[0m\u001B[0;34m:\u001B[0m\u001B[0;34m\u001B[0m\u001B[0;34m\u001B[0m\u001B[0m\n\u001B[1;32m    471\u001B[0m                 \u001B[0;32mreturn\u001B[0m \u001B[0mready\u001B[0m\u001B[0;34m\u001B[0m\u001B[0;34m\u001B[0m\u001B[0m\n",
      "\u001B[0;31mKeyboardInterrupt\u001B[0m: "
     ]
    }
   ],
   "source": [
    "import asyncio\n",
    "from random import randint\n",
    "\n",
    "async def periodic():\n",
    "    while True:\n",
    "        delay = randint(1, 6)\n",
    "        await asyncio.sleep(delay)\n",
    "        print('periodic', delay)\n",
    "\n",
    "\n",
    "def stop():\n",
    "    task.cancel()\n",
    "\n",
    "loop = asyncio.get_event_loop()\n",
    "loop.call_later(50, stop)\n",
    "task = loop.create_task(periodic())\n",
    "\n",
    "try:\n",
    "    loop.run_until_complete(task)\n",
    "except asyncio.CancelledError:\n",
    "    pass"
   ],
   "metadata": {
    "collapsed": false,
    "pycharm": {
     "name": "#%%\n"
    }
   }
  },
  {
   "cell_type": "code",
   "execution_count": 128,
   "outputs": [],
   "source": [
    "async def delay_callback(fn):\n",
    "    delay = randint(1, 6)\n",
    "    await asyncio.sleep(delay)\n",
    "    print('delay_callback', delay)\n",
    "    fn()"
   ],
   "metadata": {
    "collapsed": false,
    "pycharm": {
     "name": "#%%\n"
    }
   }
  },
  {
   "cell_type": "code",
   "execution_count": 10,
   "outputs": [
    {
     "name": "stdout",
     "output_type": "stream",
     "text": [
      "tick\n",
      "tick\n",
      "tick\n",
      "tick\n",
      "tick\n",
      "tick\n"
     ]
    },
    {
     "ename": "KeyboardInterrupt",
     "evalue": "",
     "output_type": "error",
     "traceback": [
      "\u001B[0;31m---------------------------------------------------------------------------\u001B[0m",
      "\u001B[0;31mKeyboardInterrupt\u001B[0m                         Traceback (most recent call last)",
      "\u001B[0;32m/tmp/ipykernel_22801/1931085210.py\u001B[0m in \u001B[0;36m<module>\u001B[0;34m\u001B[0m\n\u001B[1;32m      4\u001B[0m \u001B[0;32mwhile\u001B[0m \u001B[0;32mTrue\u001B[0m\u001B[0;34m:\u001B[0m\u001B[0;34m\u001B[0m\u001B[0;34m\u001B[0m\u001B[0m\n\u001B[1;32m      5\u001B[0m     \u001B[0mprint\u001B[0m\u001B[0;34m(\u001B[0m\u001B[0;34m\"tick\"\u001B[0m\u001B[0;34m)\u001B[0m\u001B[0;34m\u001B[0m\u001B[0;34m\u001B[0m\u001B[0m\n\u001B[0;32m----> 6\u001B[0;31m     \u001B[0mtime\u001B[0m\u001B[0;34m.\u001B[0m\u001B[0msleep\u001B[0m\u001B[0;34m(\u001B[0m\u001B[0mrandint\u001B[0m\u001B[0;34m(\u001B[0m\u001B[0;36m1\u001B[0m\u001B[0;34m,\u001B[0m \u001B[0;36m6\u001B[0m\u001B[0;34m)\u001B[0m\u001B[0;34m)\u001B[0m\u001B[0;34m\u001B[0m\u001B[0;34m\u001B[0m\u001B[0m\n\u001B[0m",
      "\u001B[0;31mKeyboardInterrupt\u001B[0m: "
     ]
    }
   ],
   "source": [
    "import time\n",
    "from random import randint\n",
    "starttime = time.time()\n",
    "while True:\n",
    "    print(\"tick\")\n",
    "    time.sleep(randint(1, 6))"
   ],
   "metadata": {
    "collapsed": false,
    "pycharm": {
     "name": "#%%\n"
    }
   }
  },
  {
   "cell_type": "code",
   "execution_count": 12,
   "outputs": [
    {
     "name": "stdout",
     "output_type": "stream",
     "text": [
      "endciao + map\n",
      "end\n",
      "\n",
      "CIAO + map e due\n",
      "5 + map\n",
      "5 + map e due\n",
      "4 + map\n",
      "4 + map e due\n",
      "2 + map\n",
      "2 + map e due\n",
      "5 + map\n",
      "5 + map e due\n"
     ]
    }
   ],
   "source": [
    "import rx\n",
    "import rx.operators as op\n",
    "import time\n",
    "from random import randint\n",
    "\n",
    "import multiprocessing\n",
    "from rx.scheduler import ThreadPoolScheduler\n",
    "optimal_thread_count = multiprocessing.cpu_count()\n",
    "pool_scheduler = ThreadPoolScheduler(optimal_thread_count)\n",
    "\n",
    "\n",
    "def ciao(qualcosa):\n",
    "    def _ciao(observer, scheduler):\n",
    "        # def on_next(a):\n",
    "        #     observer.on_next(a)\n",
    "        #\n",
    "        # def on_completed():\n",
    "        #     observer.on_completed()\n",
    "        #\n",
    "        # ciao.go_on = on_next\n",
    "        # ciao.finish = on_completed\n",
    "\n",
    "        observer.on_next(qualcosa)\n",
    "\n",
    "        while True:\n",
    "            delay = randint(1, 6)\n",
    "            time.sleep(delay)\n",
    "            observer.on_next(delay)\n",
    "\n",
    "    return _ciao\n",
    "\n",
    "def lowercase():\n",
    "    memory = 0\n",
    "    def _lowercase(source):\n",
    "        def subscribe(observer, scheduler = None):\n",
    "            def on_next(value):\n",
    "                observer.on_next(value.lower())\n",
    "                observer.on_next(value + ' e due')\n",
    "\n",
    "                # nonlocal memory\n",
    "                # if memory >= 3:\n",
    "                #     observer.on_next(value.lower())\n",
    "                #     memory = 0\n",
    "                # else:\n",
    "                #     memory+=1\n",
    "\n",
    "\n",
    "            return source.subscribe(\n",
    "                on_next,\n",
    "                observer.on_error,\n",
    "                observer.on_completed,\n",
    "                scheduler)\n",
    "        return rx.create(subscribe)\n",
    "    return _lowercase\n",
    "\n",
    "ok = ciao(\"CIAO\")\n",
    "\n",
    "source = rx.create(ok).pipe(op.subscribe_on(pool_scheduler), op.share())\n",
    "\n",
    "forkA = source.pipe(op.do_action(lambda x: print(f\"forkA {x}\")))\n",
    "\n",
    "#forkA.subscribe(print)\n",
    "\n",
    "forkB = source.pipe(\n",
    "    op.map(lambda x: f\"{x} + map\"),\n",
    "    lowercase(),\n",
    "    #op.do_action(lambda x: print(f\"forkB {x}\"))\n",
    ").subscribe(print, scheduler=pool_scheduler)\n",
    "\n",
    "# forkA.pipe(op.merge(forkB)).subscribe(\n",
    "#     on_next = lambda i: print(\"\\nReceived {0}\\n\".format(i)),\n",
    "#     on_error = lambda e: print(\"Error Occurred: {0}\".format(e)),\n",
    "#     on_completed = lambda: print(\"Done!\")\n",
    "# )\n",
    "\n",
    "print('end')\n",
    "\n",
    "#source.connect()\n",
    "\n",
    "print('end')\n",
    "\n",
    "time.sleep(10)"
   ],
   "metadata": {
    "collapsed": false,
    "pycharm": {
     "name": "#%%\n"
    }
   }
  },
  {
   "cell_type": "code",
   "execution_count": 58,
   "outputs": [
    {
     "ename": "NameError",
     "evalue": "name 'of' is not defined",
     "output_type": "error",
     "traceback": [
      "\u001B[0;31m---------------------------------------------------------------------------\u001B[0m",
      "\u001B[0;31mNameError\u001B[0m                                 Traceback (most recent call last)",
      "\u001B[0;32m/tmp/ipykernel_22801/205527004.py\u001B[0m in \u001B[0;36m<module>\u001B[0;34m\u001B[0m\n\u001B[0;32m----> 1\u001B[0;31m \u001B[0msource\u001B[0m \u001B[0;34m=\u001B[0m \u001B[0mof\u001B[0m\u001B[0;34m(\u001B[0m\u001B[0;34m\"Alpha\"\u001B[0m\u001B[0;34m,\u001B[0m \u001B[0;34m\"Beta\"\u001B[0m\u001B[0;34m,\u001B[0m \u001B[0;34m\"Gamma\"\u001B[0m\u001B[0;34m,\u001B[0m \u001B[0;34m\"Delta\"\u001B[0m\u001B[0;34m,\u001B[0m \u001B[0;34m\"Epsilon\"\u001B[0m\u001B[0;34m)\u001B[0m\u001B[0;34m\u001B[0m\u001B[0;34m\u001B[0m\u001B[0m\n\u001B[0m\u001B[1;32m      2\u001B[0m \u001B[0;34m\u001B[0m\u001B[0m\n\u001B[1;32m      3\u001B[0m \u001B[0msource\u001B[0m\u001B[0;34m.\u001B[0m\u001B[0msubscribe\u001B[0m\u001B[0;34m(\u001B[0m\u001B[0;32mlambda\u001B[0m \u001B[0mvalue\u001B[0m\u001B[0;34m:\u001B[0m \u001B[0mprint\u001B[0m\u001B[0;34m(\u001B[0m\u001B[0;34m\"Received {0}\"\u001B[0m\u001B[0;34m.\u001B[0m\u001B[0mformat\u001B[0m\u001B[0;34m(\u001B[0m\u001B[0mvalue\u001B[0m\u001B[0;34m)\u001B[0m\u001B[0;34m)\u001B[0m\u001B[0;34m,\u001B[0m \u001B[0mscheduler\u001B[0m\u001B[0;34m=\u001B[0m\u001B[0mpool_scheduler\u001B[0m\u001B[0;34m)\u001B[0m\u001B[0;34m\u001B[0m\u001B[0;34m\u001B[0m\u001B[0m\n",
      "\u001B[0;31mNameError\u001B[0m: name 'of' is not defined"
     ]
    }
   ],
   "source": [
    "source = of(\"Alpha\", \"Beta\", \"Gamma\", \"Delta\", \"Epsilon\")\n",
    "\n",
    "source.subscribe(lambda value: print(\"Received {0}\".format(value)), scheduler=pool_scheduler)"
   ],
   "metadata": {
    "collapsed": false,
    "pycharm": {
     "name": "#%%\n"
    }
   }
  },
  {
   "cell_type": "code",
   "execution_count": 1,
   "outputs": [],
   "source": [
    "import rx\n",
    "import rx.operators as op\n",
    "import time\n",
    "from random import randint\n",
    "import asyncio\n",
    "\n",
    "import nest_asyncio\n",
    "nest_asyncio.apply()"
   ],
   "metadata": {
    "collapsed": false,
    "pycharm": {
     "name": "#%%\n"
    }
   }
  },
  {
   "cell_type": "code",
   "execution_count": 2,
   "outputs": [
    {
     "name": "stdout",
     "output_type": "stream",
     "text": [
      "end\n",
      "forkA 0\n",
      "\n",
      "Received: 0\n",
      "\n",
      "forkB 0 + MAP\n",
      "forkB lower 0 + map\n",
      "forkB upper 0 + MAP\n",
      "forkB append 0 + MAPciao\n",
      "\n",
      "Received: 0 + MAPciao\n",
      "\n",
      "forkA 1\n",
      "\n",
      "Received: 1\n",
      "\n",
      "forkB 1 + MAP\n",
      "forkB lower 1 + map\n",
      "forkB upper 1 + MAP\n",
      "forkB append 1 + MAPciao\n",
      "\n",
      "Received: 1 + MAPciao\n",
      "\n"
     ]
    },
    {
     "data": {
      "text/plain": "''"
     },
     "execution_count": 2,
     "metadata": {},
     "output_type": "execute_result"
    }
   ],
   "source": [
    "\n",
    "def lowercase():\n",
    "    memory = 0\n",
    "    def _lowercase(source):\n",
    "        def subscribe(observer, scheduler = None):\n",
    "            def on_next(value):\n",
    "                observer.on_next(value.lower())\n",
    "\n",
    "            return source.subscribe(\n",
    "                on_next,\n",
    "                observer.on_error,\n",
    "                observer.on_completed,\n",
    "                scheduler)\n",
    "        return rx.create(subscribe)\n",
    "    return _lowercase\n",
    "\n",
    "def uppercase(value):\n",
    "    return value.upper()\n",
    "\n",
    "def append(value):\n",
    "    def _append():\n",
    "        return value + \" ciao\"\n",
    "    return rx.from_callable(lambda: _append())\n",
    "\n",
    "source = rx.interval(1).pipe(op.publish())\n",
    "\n",
    "forkA = source.pipe(\n",
    "    op.do_action(lambda x: print(f\"forkA {x}\"))\n",
    ")\n",
    "\n",
    "#forkA.subscribe(print)\n",
    "\n",
    "forkB = source.pipe(\n",
    "    op.map(lambda x: f\"{x} + MAP\"),\n",
    "    op.do_action(lambda x: print(f\"forkB {x}\")),\n",
    "    lowercase(),\n",
    "    op.do_action(lambda x: print(f\"forkB lower {x}\")),\n",
    "    op.map(lambda x: uppercase(x)),\n",
    "    op.do_action(lambda x: print(f\"forkB upper {x}\")),\n",
    "    op.flat_map(lambda x: append(x)),\n",
    "    op.do_action(lambda x: print(f\"forkB append {x}\")),\n",
    ")\n",
    "\n",
    "#forkB.subscribe(print)\n",
    "\n",
    "forkA.pipe(op.merge(forkB)).subscribe(\n",
    "    on_next = lambda i: print(\"\\nReceived: {0}\\n\".format(i)),\n",
    "    on_error = lambda e: print(\"Error Occurred: {0}\".format(e)),\n",
    "    on_completed = lambda: print(\"Done!\")\n",
    ")\n",
    "\n",
    "source.connect()\n",
    "\n",
    "print('end')\n",
    "\n",
    "input(\"Press Enter key to exit\\n\")"
   ],
   "metadata": {
    "collapsed": false,
    "pycharm": {
     "name": "#%%\n"
    }
   }
  },
  {
   "cell_type": "code",
   "execution_count": 9,
   "outputs": [
    {
     "ename": "TypeError",
     "evalue": "'Future' object is not callable",
     "output_type": "error",
     "traceback": [
      "\u001B[0;31m---------------------------------------------------------------------------\u001B[0m",
      "\u001B[0;31mTypeError\u001B[0m                                 Traceback (most recent call last)",
      "\u001B[0;32m/tmp/ipykernel_4152/2736638555.py\u001B[0m in \u001B[0;36m<module>\u001B[0;34m\u001B[0m\n\u001B[1;32m      6\u001B[0m     \u001B[0;32mreturn\u001B[0m \u001B[0mfuture\u001B[0m\u001B[0;34m\u001B[0m\u001B[0;34m\u001B[0m\u001B[0m\n\u001B[1;32m      7\u001B[0m \u001B[0;34m\u001B[0m\u001B[0m\n\u001B[0;32m----> 8\u001B[0;31m \u001B[0mrx\u001B[0m\u001B[0;34m.\u001B[0m\u001B[0mstart_async\u001B[0m\u001B[0;34m(\u001B[0m\u001B[0mtest\u001B[0m\u001B[0;34m(\u001B[0m\u001B[0;34m)\u001B[0m\u001B[0;34m)\u001B[0m\u001B[0;34m.\u001B[0m\u001B[0msubscribe\u001B[0m\u001B[0;34m(\u001B[0m\u001B[0mprint\u001B[0m\u001B[0;34m)\u001B[0m\u001B[0;34m\u001B[0m\u001B[0;34m\u001B[0m\u001B[0m\n\u001B[0m",
      "\u001B[0;32m~/Projects/SecondLevelDegrees/courses/Thesis/source/venv/lib/python3.10/site-packages/rx/core/observable/observable.py\u001B[0m in \u001B[0;36msubscribe\u001B[0;34m(self, observer, on_error, on_completed, on_next, scheduler)\u001B[0m\n\u001B[1;32m     94\u001B[0m             \u001B[0;32melse\u001B[0m\u001B[0;34m:\u001B[0m\u001B[0;34m\u001B[0m\u001B[0;34m\u001B[0m\u001B[0m\n\u001B[1;32m     95\u001B[0m                 \u001B[0mon_next\u001B[0m \u001B[0;34m=\u001B[0m \u001B[0mobserver\u001B[0m\u001B[0;34m\u001B[0m\u001B[0;34m\u001B[0m\u001B[0m\n\u001B[0;32m---> 96\u001B[0;31m         \u001B[0;32mreturn\u001B[0m \u001B[0mself\u001B[0m\u001B[0;34m.\u001B[0m\u001B[0msubscribe_\u001B[0m\u001B[0;34m(\u001B[0m\u001B[0mon_next\u001B[0m\u001B[0;34m,\u001B[0m \u001B[0mon_error\u001B[0m\u001B[0;34m,\u001B[0m \u001B[0mon_completed\u001B[0m\u001B[0;34m,\u001B[0m \u001B[0mscheduler\u001B[0m\u001B[0;34m)\u001B[0m\u001B[0;34m\u001B[0m\u001B[0;34m\u001B[0m\u001B[0m\n\u001B[0m\u001B[1;32m     97\u001B[0m \u001B[0;34m\u001B[0m\u001B[0m\n\u001B[1;32m     98\u001B[0m     def subscribe_(self,\n",
      "\u001B[0;32m~/Projects/SecondLevelDegrees/courses/Thesis/source/venv/lib/python3.10/site-packages/rx/core/observable/observable.py\u001B[0m in \u001B[0;36msubscribe_\u001B[0;34m(self, on_next, on_error, on_completed, scheduler)\u001B[0m\n\u001B[1;32m    152\u001B[0m         \u001B[0mcurrent_thread_scheduler\u001B[0m \u001B[0;34m=\u001B[0m \u001B[0mCurrentThreadScheduler\u001B[0m\u001B[0;34m.\u001B[0m\u001B[0msingleton\u001B[0m\u001B[0;34m(\u001B[0m\u001B[0;34m)\u001B[0m\u001B[0;34m\u001B[0m\u001B[0;34m\u001B[0m\u001B[0m\n\u001B[1;32m    153\u001B[0m         \u001B[0;32mif\u001B[0m \u001B[0mcurrent_thread_scheduler\u001B[0m\u001B[0;34m.\u001B[0m\u001B[0mschedule_required\u001B[0m\u001B[0;34m(\u001B[0m\u001B[0;34m)\u001B[0m\u001B[0;34m:\u001B[0m\u001B[0;34m\u001B[0m\u001B[0;34m\u001B[0m\u001B[0m\n\u001B[0;32m--> 154\u001B[0;31m             \u001B[0mcurrent_thread_scheduler\u001B[0m\u001B[0;34m.\u001B[0m\u001B[0mschedule\u001B[0m\u001B[0;34m(\u001B[0m\u001B[0mset_disposable\u001B[0m\u001B[0;34m)\u001B[0m\u001B[0;34m\u001B[0m\u001B[0;34m\u001B[0m\u001B[0m\n\u001B[0m\u001B[1;32m    155\u001B[0m         \u001B[0;32melse\u001B[0m\u001B[0;34m:\u001B[0m\u001B[0;34m\u001B[0m\u001B[0;34m\u001B[0m\u001B[0m\n\u001B[1;32m    156\u001B[0m             \u001B[0mset_disposable\u001B[0m\u001B[0;34m(\u001B[0m\u001B[0;34m)\u001B[0m\u001B[0;34m\u001B[0m\u001B[0;34m\u001B[0m\u001B[0m\n",
      "\u001B[0;32m~/Projects/SecondLevelDegrees/courses/Thesis/source/venv/lib/python3.10/site-packages/rx/scheduler/trampolinescheduler.py\u001B[0m in \u001B[0;36mschedule\u001B[0;34m(self, action, state)\u001B[0m\n\u001B[1;32m     48\u001B[0m         \"\"\"\n\u001B[1;32m     49\u001B[0m \u001B[0;34m\u001B[0m\u001B[0m\n\u001B[0;32m---> 50\u001B[0;31m         \u001B[0;32mreturn\u001B[0m \u001B[0mself\u001B[0m\u001B[0;34m.\u001B[0m\u001B[0mschedule_absolute\u001B[0m\u001B[0;34m(\u001B[0m\u001B[0mself\u001B[0m\u001B[0;34m.\u001B[0m\u001B[0mnow\u001B[0m\u001B[0;34m,\u001B[0m \u001B[0maction\u001B[0m\u001B[0;34m,\u001B[0m \u001B[0mstate\u001B[0m\u001B[0;34m=\u001B[0m\u001B[0mstate\u001B[0m\u001B[0;34m)\u001B[0m\u001B[0;34m\u001B[0m\u001B[0;34m\u001B[0m\u001B[0m\n\u001B[0m\u001B[1;32m     51\u001B[0m \u001B[0;34m\u001B[0m\u001B[0m\n\u001B[1;32m     52\u001B[0m     def schedule_relative(self,\n",
      "\u001B[0;32m~/Projects/SecondLevelDegrees/courses/Thesis/source/venv/lib/python3.10/site-packages/rx/scheduler/trampolinescheduler.py\u001B[0m in \u001B[0;36mschedule_absolute\u001B[0;34m(self, duetime, action, state)\u001B[0m\n\u001B[1;32m     92\u001B[0m         \u001B[0mitem\u001B[0m\u001B[0;34m:\u001B[0m \u001B[0mScheduledItem\u001B[0m \u001B[0;34m=\u001B[0m \u001B[0mScheduledItem\u001B[0m\u001B[0;34m(\u001B[0m\u001B[0mself\u001B[0m\u001B[0;34m,\u001B[0m \u001B[0mstate\u001B[0m\u001B[0;34m,\u001B[0m \u001B[0maction\u001B[0m\u001B[0;34m,\u001B[0m \u001B[0mdt\u001B[0m\u001B[0;34m)\u001B[0m\u001B[0;34m\u001B[0m\u001B[0;34m\u001B[0m\u001B[0m\n\u001B[1;32m     93\u001B[0m \u001B[0;34m\u001B[0m\u001B[0m\n\u001B[0;32m---> 94\u001B[0;31m         \u001B[0mself\u001B[0m\u001B[0;34m.\u001B[0m\u001B[0mget_trampoline\u001B[0m\u001B[0;34m(\u001B[0m\u001B[0;34m)\u001B[0m\u001B[0;34m.\u001B[0m\u001B[0mrun\u001B[0m\u001B[0;34m(\u001B[0m\u001B[0mitem\u001B[0m\u001B[0;34m)\u001B[0m\u001B[0;34m\u001B[0m\u001B[0;34m\u001B[0m\u001B[0m\n\u001B[0m\u001B[1;32m     95\u001B[0m \u001B[0;34m\u001B[0m\u001B[0m\n\u001B[1;32m     96\u001B[0m         \u001B[0;32mreturn\u001B[0m \u001B[0mitem\u001B[0m\u001B[0;34m.\u001B[0m\u001B[0mdisposable\u001B[0m\u001B[0;34m\u001B[0m\u001B[0;34m\u001B[0m\u001B[0m\n",
      "\u001B[0;32m~/Projects/SecondLevelDegrees/courses/Thesis/source/venv/lib/python3.10/site-packages/rx/scheduler/trampoline.py\u001B[0m in \u001B[0;36mrun\u001B[0;34m(self, item)\u001B[0m\n\u001B[1;32m     29\u001B[0m                 \u001B[0;32mreturn\u001B[0m\u001B[0;34m\u001B[0m\u001B[0;34m\u001B[0m\u001B[0m\n\u001B[1;32m     30\u001B[0m         \u001B[0;32mtry\u001B[0m\u001B[0;34m:\u001B[0m\u001B[0;34m\u001B[0m\u001B[0;34m\u001B[0m\u001B[0m\n\u001B[0;32m---> 31\u001B[0;31m             \u001B[0mself\u001B[0m\u001B[0;34m.\u001B[0m\u001B[0m_run\u001B[0m\u001B[0;34m(\u001B[0m\u001B[0;34m)\u001B[0m\u001B[0;34m\u001B[0m\u001B[0;34m\u001B[0m\u001B[0m\n\u001B[0m\u001B[1;32m     32\u001B[0m         \u001B[0;32mfinally\u001B[0m\u001B[0;34m:\u001B[0m\u001B[0;34m\u001B[0m\u001B[0;34m\u001B[0m\u001B[0m\n\u001B[1;32m     33\u001B[0m             \u001B[0;32mwith\u001B[0m \u001B[0mself\u001B[0m\u001B[0;34m.\u001B[0m\u001B[0m_lock\u001B[0m\u001B[0;34m:\u001B[0m\u001B[0;34m\u001B[0m\u001B[0;34m\u001B[0m\u001B[0m\n",
      "\u001B[0;32m~/Projects/SecondLevelDegrees/courses/Thesis/source/venv/lib/python3.10/site-packages/rx/scheduler/trampoline.py\u001B[0m in \u001B[0;36m_run\u001B[0;34m(self)\u001B[0m\n\u001B[1;32m     50\u001B[0m                 \u001B[0mitem\u001B[0m \u001B[0;34m=\u001B[0m \u001B[0mready\u001B[0m\u001B[0;34m.\u001B[0m\u001B[0mpopleft\u001B[0m\u001B[0;34m(\u001B[0m\u001B[0;34m)\u001B[0m\u001B[0;34m\u001B[0m\u001B[0;34m\u001B[0m\u001B[0m\n\u001B[1;32m     51\u001B[0m                 \u001B[0;32mif\u001B[0m \u001B[0;32mnot\u001B[0m \u001B[0mitem\u001B[0m\u001B[0;34m.\u001B[0m\u001B[0mis_cancelled\u001B[0m\u001B[0;34m(\u001B[0m\u001B[0;34m)\u001B[0m\u001B[0;34m:\u001B[0m\u001B[0;34m\u001B[0m\u001B[0;34m\u001B[0m\u001B[0m\n\u001B[0;32m---> 52\u001B[0;31m                     \u001B[0mitem\u001B[0m\u001B[0;34m.\u001B[0m\u001B[0minvoke\u001B[0m\u001B[0;34m(\u001B[0m\u001B[0;34m)\u001B[0m\u001B[0;34m\u001B[0m\u001B[0;34m\u001B[0m\u001B[0m\n\u001B[0m\u001B[1;32m     53\u001B[0m \u001B[0;34m\u001B[0m\u001B[0m\n\u001B[1;32m     54\u001B[0m             \u001B[0;32mwith\u001B[0m \u001B[0mself\u001B[0m\u001B[0;34m.\u001B[0m\u001B[0m_lock\u001B[0m\u001B[0;34m:\u001B[0m\u001B[0;34m\u001B[0m\u001B[0;34m\u001B[0m\u001B[0m\n",
      "\u001B[0;32m~/Projects/SecondLevelDegrees/courses/Thesis/source/venv/lib/python3.10/site-packages/rx/scheduler/scheduleditem.py\u001B[0m in \u001B[0;36minvoke\u001B[0;34m(self)\u001B[0m\n\u001B[1;32m     23\u001B[0m \u001B[0;34m\u001B[0m\u001B[0m\n\u001B[1;32m     24\u001B[0m     \u001B[0;32mdef\u001B[0m \u001B[0minvoke\u001B[0m\u001B[0;34m(\u001B[0m\u001B[0mself\u001B[0m\u001B[0;34m)\u001B[0m \u001B[0;34m->\u001B[0m \u001B[0;32mNone\u001B[0m\u001B[0;34m:\u001B[0m\u001B[0;34m\u001B[0m\u001B[0;34m\u001B[0m\u001B[0m\n\u001B[0;32m---> 25\u001B[0;31m         \u001B[0mret\u001B[0m \u001B[0;34m=\u001B[0m \u001B[0mself\u001B[0m\u001B[0;34m.\u001B[0m\u001B[0mscheduler\u001B[0m\u001B[0;34m.\u001B[0m\u001B[0minvoke_action\u001B[0m\u001B[0;34m(\u001B[0m\u001B[0mself\u001B[0m\u001B[0;34m.\u001B[0m\u001B[0maction\u001B[0m\u001B[0;34m,\u001B[0m \u001B[0mstate\u001B[0m\u001B[0;34m=\u001B[0m\u001B[0mself\u001B[0m\u001B[0;34m.\u001B[0m\u001B[0mstate\u001B[0m\u001B[0;34m)\u001B[0m\u001B[0;34m\u001B[0m\u001B[0;34m\u001B[0m\u001B[0m\n\u001B[0m\u001B[1;32m     26\u001B[0m         \u001B[0mself\u001B[0m\u001B[0;34m.\u001B[0m\u001B[0mdisposable\u001B[0m\u001B[0;34m.\u001B[0m\u001B[0mdisposable\u001B[0m \u001B[0;34m=\u001B[0m \u001B[0mret\u001B[0m\u001B[0;34m\u001B[0m\u001B[0;34m\u001B[0m\u001B[0m\n\u001B[1;32m     27\u001B[0m \u001B[0;34m\u001B[0m\u001B[0m\n",
      "\u001B[0;32m~/Projects/SecondLevelDegrees/courses/Thesis/source/venv/lib/python3.10/site-packages/rx/scheduler/scheduler.py\u001B[0m in \u001B[0;36minvoke_action\u001B[0;34m(self, action, state)\u001B[0m\n\u001B[1;32m    101\u001B[0m         \"\"\"\n\u001B[1;32m    102\u001B[0m \u001B[0;34m\u001B[0m\u001B[0m\n\u001B[0;32m--> 103\u001B[0;31m         \u001B[0mret\u001B[0m \u001B[0;34m=\u001B[0m \u001B[0maction\u001B[0m\u001B[0;34m(\u001B[0m\u001B[0mself\u001B[0m\u001B[0;34m,\u001B[0m \u001B[0mstate\u001B[0m\u001B[0;34m)\u001B[0m\u001B[0;34m\u001B[0m\u001B[0;34m\u001B[0m\u001B[0m\n\u001B[0m\u001B[1;32m    104\u001B[0m         \u001B[0;32mif\u001B[0m \u001B[0misinstance\u001B[0m\u001B[0;34m(\u001B[0m\u001B[0mret\u001B[0m\u001B[0;34m,\u001B[0m \u001B[0mtyping\u001B[0m\u001B[0;34m.\u001B[0m\u001B[0mDisposable\u001B[0m\u001B[0;34m)\u001B[0m\u001B[0;34m:\u001B[0m\u001B[0;34m\u001B[0m\u001B[0;34m\u001B[0m\u001B[0m\n\u001B[1;32m    105\u001B[0m             \u001B[0;32mreturn\u001B[0m \u001B[0mret\u001B[0m\u001B[0;34m\u001B[0m\u001B[0;34m\u001B[0m\u001B[0m\n",
      "\u001B[0;32m~/Projects/SecondLevelDegrees/courses/Thesis/source/venv/lib/python3.10/site-packages/rx/core/observable/observable.py\u001B[0m in \u001B[0;36mset_disposable\u001B[0;34m(_, __)\u001B[0m\n\u001B[1;32m    135\u001B[0m         \u001B[0;32mdef\u001B[0m \u001B[0mset_disposable\u001B[0m\u001B[0;34m(\u001B[0m\u001B[0m_\u001B[0m\u001B[0;34m:\u001B[0m \u001B[0mabc\u001B[0m\u001B[0;34m.\u001B[0m\u001B[0mScheduler\u001B[0m \u001B[0;34m=\u001B[0m \u001B[0;32mNone\u001B[0m\u001B[0;34m,\u001B[0m \u001B[0m__\u001B[0m\u001B[0;34m:\u001B[0m \u001B[0mAny\u001B[0m \u001B[0;34m=\u001B[0m \u001B[0;32mNone\u001B[0m\u001B[0;34m)\u001B[0m\u001B[0;34m:\u001B[0m\u001B[0;34m\u001B[0m\u001B[0;34m\u001B[0m\u001B[0m\n\u001B[1;32m    136\u001B[0m             \u001B[0;32mtry\u001B[0m\u001B[0;34m:\u001B[0m\u001B[0;34m\u001B[0m\u001B[0;34m\u001B[0m\u001B[0m\n\u001B[0;32m--> 137\u001B[0;31m                 \u001B[0msubscriber\u001B[0m \u001B[0;34m=\u001B[0m \u001B[0mself\u001B[0m\u001B[0;34m.\u001B[0m\u001B[0m_subscribe_core\u001B[0m\u001B[0;34m(\u001B[0m\u001B[0mauto_detach_observer\u001B[0m\u001B[0;34m,\u001B[0m \u001B[0mscheduler\u001B[0m\u001B[0;34m)\u001B[0m\u001B[0;34m\u001B[0m\u001B[0;34m\u001B[0m\u001B[0m\n\u001B[0m\u001B[1;32m    138\u001B[0m             \u001B[0;32mexcept\u001B[0m \u001B[0mException\u001B[0m \u001B[0;32mas\u001B[0m \u001B[0mex\u001B[0m\u001B[0;34m:\u001B[0m  \u001B[0;31m# By design. pylint: disable=W0703\u001B[0m\u001B[0;34m\u001B[0m\u001B[0;34m\u001B[0m\u001B[0m\n\u001B[1;32m    139\u001B[0m                 \u001B[0;32mif\u001B[0m \u001B[0;32mnot\u001B[0m \u001B[0mauto_detach_observer\u001B[0m\u001B[0;34m.\u001B[0m\u001B[0mfail\u001B[0m\u001B[0;34m(\u001B[0m\u001B[0mex\u001B[0m\u001B[0;34m)\u001B[0m\u001B[0;34m:\u001B[0m\u001B[0;34m\u001B[0m\u001B[0;34m\u001B[0m\u001B[0m\n",
      "\u001B[0;32m~/Projects/SecondLevelDegrees/courses/Thesis/source/venv/lib/python3.10/site-packages/rx/core/observable/observable.py\u001B[0m in \u001B[0;36m_subscribe_core\u001B[0;34m(self, observer, scheduler)\u001B[0m\n\u001B[1;32m     42\u001B[0m                         \u001B[0mscheduler\u001B[0m\u001B[0;34m:\u001B[0m \u001B[0mOptional\u001B[0m\u001B[0;34m[\u001B[0m\u001B[0mtyping\u001B[0m\u001B[0;34m.\u001B[0m\u001B[0mScheduler\u001B[0m\u001B[0;34m]\u001B[0m \u001B[0;34m=\u001B[0m \u001B[0;32mNone\u001B[0m\u001B[0;34m\u001B[0m\u001B[0;34m\u001B[0m\u001B[0m\n\u001B[1;32m     43\u001B[0m                         ) -> typing.Disposable:\n\u001B[0;32m---> 44\u001B[0;31m         \u001B[0;32mreturn\u001B[0m \u001B[0mself\u001B[0m\u001B[0;34m.\u001B[0m\u001B[0m_subscribe\u001B[0m\u001B[0;34m(\u001B[0m\u001B[0mobserver\u001B[0m\u001B[0;34m,\u001B[0m \u001B[0mscheduler\u001B[0m\u001B[0;34m)\u001B[0m \u001B[0;32mif\u001B[0m \u001B[0mself\u001B[0m\u001B[0;34m.\u001B[0m\u001B[0m_subscribe\u001B[0m \u001B[0;32melse\u001B[0m \u001B[0mDisposable\u001B[0m\u001B[0;34m(\u001B[0m\u001B[0;34m)\u001B[0m\u001B[0;34m\u001B[0m\u001B[0;34m\u001B[0m\u001B[0m\n\u001B[0m\u001B[1;32m     45\u001B[0m \u001B[0;34m\u001B[0m\u001B[0m\n\u001B[1;32m     46\u001B[0m     def subscribe(self,  # pylint: disable=too-many-arguments,arguments-differ\n",
      "\u001B[0;32m~/Projects/SecondLevelDegrees/courses/Thesis/source/venv/lib/python3.10/site-packages/rx/core/observable/throw.py\u001B[0m in \u001B[0;36msubscribe\u001B[0;34m(observer, scheduler)\u001B[0m\n\u001B[1;32m     16\u001B[0m             \u001B[0mobserver\u001B[0m\u001B[0;34m.\u001B[0m\u001B[0mon_error\u001B[0m\u001B[0;34m(\u001B[0m\u001B[0mexception\u001B[0m\u001B[0;34m)\u001B[0m\u001B[0;34m\u001B[0m\u001B[0;34m\u001B[0m\u001B[0m\n\u001B[1;32m     17\u001B[0m \u001B[0;34m\u001B[0m\u001B[0m\n\u001B[0;32m---> 18\u001B[0;31m         \u001B[0;32mreturn\u001B[0m \u001B[0m_scheduler\u001B[0m\u001B[0;34m.\u001B[0m\u001B[0mschedule\u001B[0m\u001B[0;34m(\u001B[0m\u001B[0maction\u001B[0m\u001B[0;34m)\u001B[0m\u001B[0;34m\u001B[0m\u001B[0;34m\u001B[0m\u001B[0m\n\u001B[0m\u001B[1;32m     19\u001B[0m     \u001B[0;32mreturn\u001B[0m \u001B[0mObservable\u001B[0m\u001B[0;34m(\u001B[0m\u001B[0msubscribe\u001B[0m\u001B[0;34m)\u001B[0m\u001B[0;34m\u001B[0m\u001B[0;34m\u001B[0m\u001B[0m\n",
      "\u001B[0;32m~/Projects/SecondLevelDegrees/courses/Thesis/source/venv/lib/python3.10/site-packages/rx/scheduler/immediatescheduler.py\u001B[0m in \u001B[0;36mschedule\u001B[0;34m(self, action, state)\u001B[0m\n\u001B[1;32m     48\u001B[0m         \"\"\"\n\u001B[1;32m     49\u001B[0m \u001B[0;34m\u001B[0m\u001B[0m\n\u001B[0;32m---> 50\u001B[0;31m         \u001B[0;32mreturn\u001B[0m \u001B[0mself\u001B[0m\u001B[0;34m.\u001B[0m\u001B[0minvoke_action\u001B[0m\u001B[0;34m(\u001B[0m\u001B[0maction\u001B[0m\u001B[0;34m,\u001B[0m \u001B[0mstate\u001B[0m\u001B[0;34m)\u001B[0m\u001B[0;34m\u001B[0m\u001B[0;34m\u001B[0m\u001B[0m\n\u001B[0m\u001B[1;32m     51\u001B[0m \u001B[0;34m\u001B[0m\u001B[0m\n\u001B[1;32m     52\u001B[0m     def schedule_relative(self,\n",
      "\u001B[0;32m~/Projects/SecondLevelDegrees/courses/Thesis/source/venv/lib/python3.10/site-packages/rx/scheduler/scheduler.py\u001B[0m in \u001B[0;36minvoke_action\u001B[0;34m(self, action, state)\u001B[0m\n\u001B[1;32m    101\u001B[0m         \"\"\"\n\u001B[1;32m    102\u001B[0m \u001B[0;34m\u001B[0m\u001B[0m\n\u001B[0;32m--> 103\u001B[0;31m         \u001B[0mret\u001B[0m \u001B[0;34m=\u001B[0m \u001B[0maction\u001B[0m\u001B[0;34m(\u001B[0m\u001B[0mself\u001B[0m\u001B[0;34m,\u001B[0m \u001B[0mstate\u001B[0m\u001B[0;34m)\u001B[0m\u001B[0;34m\u001B[0m\u001B[0;34m\u001B[0m\u001B[0m\n\u001B[0m\u001B[1;32m    104\u001B[0m         \u001B[0;32mif\u001B[0m \u001B[0misinstance\u001B[0m\u001B[0;34m(\u001B[0m\u001B[0mret\u001B[0m\u001B[0;34m,\u001B[0m \u001B[0mtyping\u001B[0m\u001B[0;34m.\u001B[0m\u001B[0mDisposable\u001B[0m\u001B[0;34m)\u001B[0m\u001B[0;34m:\u001B[0m\u001B[0;34m\u001B[0m\u001B[0;34m\u001B[0m\u001B[0m\n\u001B[1;32m    105\u001B[0m             \u001B[0;32mreturn\u001B[0m \u001B[0mret\u001B[0m\u001B[0;34m\u001B[0m\u001B[0;34m\u001B[0m\u001B[0m\n",
      "\u001B[0;32m~/Projects/SecondLevelDegrees/courses/Thesis/source/venv/lib/python3.10/site-packages/rx/core/observable/throw.py\u001B[0m in \u001B[0;36maction\u001B[0;34m(scheduler, state)\u001B[0m\n\u001B[1;32m     14\u001B[0m \u001B[0;34m\u001B[0m\u001B[0m\n\u001B[1;32m     15\u001B[0m         \u001B[0;32mdef\u001B[0m \u001B[0maction\u001B[0m\u001B[0;34m(\u001B[0m\u001B[0mscheduler\u001B[0m\u001B[0;34m:\u001B[0m \u001B[0mtyping\u001B[0m\u001B[0;34m.\u001B[0m\u001B[0mScheduler\u001B[0m\u001B[0;34m,\u001B[0m \u001B[0mstate\u001B[0m\u001B[0;34m:\u001B[0m \u001B[0mAny\u001B[0m\u001B[0;34m)\u001B[0m\u001B[0;34m:\u001B[0m\u001B[0;34m\u001B[0m\u001B[0;34m\u001B[0m\u001B[0m\n\u001B[0;32m---> 16\u001B[0;31m             \u001B[0mobserver\u001B[0m\u001B[0;34m.\u001B[0m\u001B[0mon_error\u001B[0m\u001B[0;34m(\u001B[0m\u001B[0mexception\u001B[0m\u001B[0;34m)\u001B[0m\u001B[0;34m\u001B[0m\u001B[0;34m\u001B[0m\u001B[0m\n\u001B[0m\u001B[1;32m     17\u001B[0m \u001B[0;34m\u001B[0m\u001B[0m\n\u001B[1;32m     18\u001B[0m         \u001B[0;32mreturn\u001B[0m \u001B[0m_scheduler\u001B[0m\u001B[0;34m.\u001B[0m\u001B[0mschedule\u001B[0m\u001B[0;34m(\u001B[0m\u001B[0maction\u001B[0m\u001B[0;34m)\u001B[0m\u001B[0;34m\u001B[0m\u001B[0;34m\u001B[0m\u001B[0m\n",
      "\u001B[0;32m~/Projects/SecondLevelDegrees/courses/Thesis/source/venv/lib/python3.10/site-packages/rx/core/observer/autodetachobserver.py\u001B[0m in \u001B[0;36mon_error\u001B[0;34m(self, error)\u001B[0m\n\u001B[1;32m     32\u001B[0m \u001B[0;34m\u001B[0m\u001B[0m\n\u001B[1;32m     33\u001B[0m         \u001B[0;32mtry\u001B[0m\u001B[0;34m:\u001B[0m\u001B[0;34m\u001B[0m\u001B[0;34m\u001B[0m\u001B[0m\n\u001B[0;32m---> 34\u001B[0;31m             \u001B[0mself\u001B[0m\u001B[0;34m.\u001B[0m\u001B[0m_on_error\u001B[0m\u001B[0;34m(\u001B[0m\u001B[0merror\u001B[0m\u001B[0;34m)\u001B[0m\u001B[0;34m\u001B[0m\u001B[0;34m\u001B[0m\u001B[0m\n\u001B[0m\u001B[1;32m     35\u001B[0m         \u001B[0;32mfinally\u001B[0m\u001B[0;34m:\u001B[0m\u001B[0;34m\u001B[0m\u001B[0;34m\u001B[0m\u001B[0m\n\u001B[1;32m     36\u001B[0m             \u001B[0mself\u001B[0m\u001B[0;34m.\u001B[0m\u001B[0mdispose\u001B[0m\u001B[0;34m(\u001B[0m\u001B[0;34m)\u001B[0m\u001B[0;34m\u001B[0m\u001B[0;34m\u001B[0m\u001B[0m\n",
      "\u001B[0;32m~/Projects/SecondLevelDegrees/courses/Thesis/source/venv/lib/python3.10/site-packages/rx/internal/basic.py\u001B[0m in \u001B[0;36mdefault_error\u001B[0;34m(err)\u001B[0m\n\u001B[1;32m     32\u001B[0m \u001B[0;32mdef\u001B[0m \u001B[0mdefault_error\u001B[0m\u001B[0;34m(\u001B[0m\u001B[0merr\u001B[0m\u001B[0;34m)\u001B[0m \u001B[0;34m->\u001B[0m \u001B[0mException\u001B[0m\u001B[0;34m:\u001B[0m\u001B[0;34m\u001B[0m\u001B[0;34m\u001B[0m\u001B[0m\n\u001B[1;32m     33\u001B[0m     \u001B[0;32mif\u001B[0m \u001B[0misinstance\u001B[0m\u001B[0;34m(\u001B[0m\u001B[0merr\u001B[0m\u001B[0;34m,\u001B[0m \u001B[0mBaseException\u001B[0m\u001B[0;34m)\u001B[0m\u001B[0;34m:\u001B[0m\u001B[0;34m\u001B[0m\u001B[0;34m\u001B[0m\u001B[0m\n\u001B[0;32m---> 34\u001B[0;31m         \u001B[0;32mraise\u001B[0m \u001B[0merr\u001B[0m\u001B[0;34m\u001B[0m\u001B[0;34m\u001B[0m\u001B[0m\n\u001B[0m\u001B[1;32m     35\u001B[0m     \u001B[0;32melse\u001B[0m\u001B[0;34m:\u001B[0m\u001B[0;34m\u001B[0m\u001B[0;34m\u001B[0m\u001B[0m\n\u001B[1;32m     36\u001B[0m         \u001B[0;32mraise\u001B[0m \u001B[0mException\u001B[0m\u001B[0;34m(\u001B[0m\u001B[0merr\u001B[0m\u001B[0;34m)\u001B[0m\u001B[0;34m\u001B[0m\u001B[0;34m\u001B[0m\u001B[0m\n",
      "\u001B[0;32m~/Projects/SecondLevelDegrees/courses/Thesis/source/venv/lib/python3.10/site-packages/rx/core/observable/startasync.py\u001B[0m in \u001B[0;36m_start_async\u001B[0;34m(function_async)\u001B[0m\n\u001B[1;32m      8\u001B[0m \u001B[0;32mdef\u001B[0m \u001B[0m_start_async\u001B[0m\u001B[0;34m(\u001B[0m\u001B[0mfunction_async\u001B[0m\u001B[0;34m:\u001B[0m \u001B[0mCallable\u001B[0m\u001B[0;34m[\u001B[0m\u001B[0;34m[\u001B[0m\u001B[0;34m]\u001B[0m\u001B[0;34m,\u001B[0m \u001B[0mFuture\u001B[0m\u001B[0;34m]\u001B[0m\u001B[0;34m)\u001B[0m \u001B[0;34m->\u001B[0m \u001B[0mObservable\u001B[0m\u001B[0;34m:\u001B[0m\u001B[0;34m\u001B[0m\u001B[0;34m\u001B[0m\u001B[0m\n\u001B[1;32m      9\u001B[0m     \u001B[0;32mtry\u001B[0m\u001B[0;34m:\u001B[0m\u001B[0;34m\u001B[0m\u001B[0;34m\u001B[0m\u001B[0m\n\u001B[0;32m---> 10\u001B[0;31m         \u001B[0mfuture\u001B[0m \u001B[0;34m=\u001B[0m \u001B[0mfunction_async\u001B[0m\u001B[0;34m(\u001B[0m\u001B[0;34m)\u001B[0m\u001B[0;34m\u001B[0m\u001B[0;34m\u001B[0m\u001B[0m\n\u001B[0m\u001B[1;32m     11\u001B[0m     \u001B[0;32mexcept\u001B[0m \u001B[0mException\u001B[0m \u001B[0;32mas\u001B[0m \u001B[0mex\u001B[0m\u001B[0;34m:\u001B[0m  \u001B[0;31m# pylint: disable=broad-except\u001B[0m\u001B[0;34m\u001B[0m\u001B[0;34m\u001B[0m\u001B[0m\n\u001B[1;32m     12\u001B[0m         \u001B[0;32mreturn\u001B[0m \u001B[0mthrow\u001B[0m\u001B[0;34m(\u001B[0m\u001B[0mex\u001B[0m\u001B[0;34m)\u001B[0m\u001B[0;34m\u001B[0m\u001B[0;34m\u001B[0m\u001B[0m\n",
      "\u001B[0;31mTypeError\u001B[0m: 'Future' object is not callable"
     ]
    }
   ],
   "source": [
    "from asyncio import Future\n",
    "\n",
    "def test():\n",
    "    future = Future()\n",
    "    future.set_result(42)\n",
    "    return future\n",
    "\n",
    "rx.start_async(test()).subscribe(print)"
   ],
   "metadata": {
    "collapsed": false,
    "pycharm": {
     "name": "#%%\n"
    }
   }
  },
  {
   "cell_type": "code",
   "execution_count": 2,
   "outputs": [
    {
     "name": "stdout",
     "output_type": "stream",
     "text": [
      "after source\n",
      "1: 1\n",
      "1: 2\n"
     ]
    },
    {
     "ename": "KeyboardInterrupt",
     "evalue": "",
     "output_type": "error",
     "traceback": [
      "\u001B[0;31m---------------------------------------------------------------------------\u001B[0m",
      "\u001B[0;31mKeyboardInterrupt\u001B[0m                         Traceback (most recent call last)",
      "\u001B[0;32m/tmp/ipykernel_8248/1426967856.py\u001B[0m in \u001B[0;36m<module>\u001B[0;34m\u001B[0m\n\u001B[1;32m     45\u001B[0m \u001B[0;34m\u001B[0m\u001B[0m\n\u001B[1;32m     46\u001B[0m \u001B[0mloop\u001B[0m\u001B[0;34m.\u001B[0m\u001B[0mcreate_task\u001B[0m\u001B[0;34m(\u001B[0m\u001B[0mmain\u001B[0m\u001B[0;34m(\u001B[0m\u001B[0mloop\u001B[0m\u001B[0;34m,\u001B[0m \u001B[0mscheduler\u001B[0m\u001B[0;34m)\u001B[0m\u001B[0;34m)\u001B[0m\u001B[0;34m\u001B[0m\u001B[0;34m\u001B[0m\u001B[0m\n\u001B[0;32m---> 47\u001B[0;31m \u001B[0mloop\u001B[0m\u001B[0;34m.\u001B[0m\u001B[0mrun_forever\u001B[0m\u001B[0;34m(\u001B[0m\u001B[0;34m)\u001B[0m\u001B[0;34m\u001B[0m\u001B[0;34m\u001B[0m\u001B[0m\n\u001B[0m\u001B[1;32m     48\u001B[0m \u001B[0mprint\u001B[0m\u001B[0;34m(\u001B[0m\u001B[0;34m'end'\u001B[0m\u001B[0;34m)\u001B[0m\u001B[0;34m\u001B[0m\u001B[0;34m\u001B[0m\u001B[0m\n",
      "\u001B[0;32m~/Projects/SecondLevelDegrees/courses/Thesis/source/venv/lib/python3.10/site-packages/nest_asyncio.py\u001B[0m in \u001B[0;36mrun_forever\u001B[0;34m(self)\u001B[0m\n\u001B[1;32m     62\u001B[0m         \u001B[0;32mwith\u001B[0m \u001B[0mmanage_run\u001B[0m\u001B[0;34m(\u001B[0m\u001B[0mself\u001B[0m\u001B[0;34m)\u001B[0m\u001B[0;34m,\u001B[0m \u001B[0mmanage_asyncgens\u001B[0m\u001B[0;34m(\u001B[0m\u001B[0mself\u001B[0m\u001B[0;34m)\u001B[0m\u001B[0;34m:\u001B[0m\u001B[0;34m\u001B[0m\u001B[0;34m\u001B[0m\u001B[0m\n\u001B[1;32m     63\u001B[0m             \u001B[0;32mwhile\u001B[0m \u001B[0;32mTrue\u001B[0m\u001B[0;34m:\u001B[0m\u001B[0;34m\u001B[0m\u001B[0;34m\u001B[0m\u001B[0m\n\u001B[0;32m---> 64\u001B[0;31m                 \u001B[0mself\u001B[0m\u001B[0;34m.\u001B[0m\u001B[0m_run_once\u001B[0m\u001B[0;34m(\u001B[0m\u001B[0;34m)\u001B[0m\u001B[0;34m\u001B[0m\u001B[0;34m\u001B[0m\u001B[0m\n\u001B[0m\u001B[1;32m     65\u001B[0m                 \u001B[0;32mif\u001B[0m \u001B[0mself\u001B[0m\u001B[0;34m.\u001B[0m\u001B[0m_stopping\u001B[0m\u001B[0;34m:\u001B[0m\u001B[0;34m\u001B[0m\u001B[0;34m\u001B[0m\u001B[0m\n\u001B[1;32m     66\u001B[0m                     \u001B[0;32mbreak\u001B[0m\u001B[0;34m\u001B[0m\u001B[0;34m\u001B[0m\u001B[0m\n",
      "\u001B[0;32m~/Projects/SecondLevelDegrees/courses/Thesis/source/venv/lib/python3.10/site-packages/nest_asyncio.py\u001B[0m in \u001B[0;36m_run_once\u001B[0;34m(self)\u001B[0m\n\u001B[1;32m     96\u001B[0m                 scheduled[0]._when - self.time(), 0), 86400) if scheduled\n\u001B[1;32m     97\u001B[0m             else None)\n\u001B[0;32m---> 98\u001B[0;31m         \u001B[0mevent_list\u001B[0m \u001B[0;34m=\u001B[0m \u001B[0mself\u001B[0m\u001B[0;34m.\u001B[0m\u001B[0m_selector\u001B[0m\u001B[0;34m.\u001B[0m\u001B[0mselect\u001B[0m\u001B[0;34m(\u001B[0m\u001B[0mtimeout\u001B[0m\u001B[0;34m)\u001B[0m\u001B[0;34m\u001B[0m\u001B[0;34m\u001B[0m\u001B[0m\n\u001B[0m\u001B[1;32m     99\u001B[0m         \u001B[0mself\u001B[0m\u001B[0;34m.\u001B[0m\u001B[0m_process_events\u001B[0m\u001B[0;34m(\u001B[0m\u001B[0mevent_list\u001B[0m\u001B[0;34m)\u001B[0m\u001B[0;34m\u001B[0m\u001B[0;34m\u001B[0m\u001B[0m\n\u001B[1;32m    100\u001B[0m \u001B[0;34m\u001B[0m\u001B[0m\n",
      "\u001B[0;32m/usr/lib/python3.10/selectors.py\u001B[0m in \u001B[0;36mselect\u001B[0;34m(self, timeout)\u001B[0m\n\u001B[1;32m    467\u001B[0m             \u001B[0mready\u001B[0m \u001B[0;34m=\u001B[0m \u001B[0;34m[\u001B[0m\u001B[0;34m]\u001B[0m\u001B[0;34m\u001B[0m\u001B[0;34m\u001B[0m\u001B[0m\n\u001B[1;32m    468\u001B[0m             \u001B[0;32mtry\u001B[0m\u001B[0;34m:\u001B[0m\u001B[0;34m\u001B[0m\u001B[0;34m\u001B[0m\u001B[0m\n\u001B[0;32m--> 469\u001B[0;31m                 \u001B[0mfd_event_list\u001B[0m \u001B[0;34m=\u001B[0m \u001B[0mself\u001B[0m\u001B[0;34m.\u001B[0m\u001B[0m_selector\u001B[0m\u001B[0;34m.\u001B[0m\u001B[0mpoll\u001B[0m\u001B[0;34m(\u001B[0m\u001B[0mtimeout\u001B[0m\u001B[0;34m,\u001B[0m \u001B[0mmax_ev\u001B[0m\u001B[0;34m)\u001B[0m\u001B[0;34m\u001B[0m\u001B[0;34m\u001B[0m\u001B[0m\n\u001B[0m\u001B[1;32m    470\u001B[0m             \u001B[0;32mexcept\u001B[0m \u001B[0mInterruptedError\u001B[0m\u001B[0;34m:\u001B[0m\u001B[0;34m\u001B[0m\u001B[0;34m\u001B[0m\u001B[0m\n\u001B[1;32m    471\u001B[0m                 \u001B[0;32mreturn\u001B[0m \u001B[0mready\u001B[0m\u001B[0;34m\u001B[0m\u001B[0;34m\u001B[0m\u001B[0m\n",
      "\u001B[0;31mKeyboardInterrupt\u001B[0m: "
     ]
    }
   ],
   "source": [
    "import asyncio\n",
    "import functools\n",
    "import rx\n",
    "from rx.scheduler.eventloop import AsyncIOScheduler\n",
    "from rx.disposable import Disposable\n",
    "\n",
    "import nest_asyncio\n",
    "nest_asyncio.apply()\n",
    "\n",
    "loop = asyncio.get_event_loop()\n",
    "scheduler = AsyncIOScheduler(loop)\n",
    "\n",
    "def from_aiter(loop):\n",
    "    def on_subscribe(observer, scheduler):\n",
    "        async def _aio_sub():\n",
    "            try:\n",
    "                await asyncio.sleep(1)\n",
    "                observer.on_next(1)\n",
    "                await asyncio.sleep(1)\n",
    "                observer.on_next(2)\n",
    "\n",
    "                # loop.call_soon(\n",
    "                #     observer.on_completed)\n",
    "            except Exception as e:\n",
    "                loop.call_soon(\n",
    "                    functools.partial(observer.on_error, e))\n",
    "\n",
    "        task = loop.create_task(_aio_sub())\n",
    "        return Disposable(lambda: task.cancel())\n",
    "\n",
    "    return rx.create(on_subscribe)\n",
    "\n",
    "async def main(loop, scheduler):\n",
    "\n",
    "    source1: rx.Observable = from_aiter(loop)\n",
    "\n",
    "    source1.subscribe(\n",
    "        on_next = lambda i: print(\"1: {0}\".format(i)),\n",
    "        on_error = lambda e: print(\"Error Occurred: {0}\".format(e)),\n",
    "        on_completed = lambda: print(\"1 Done!\"),\n",
    "        scheduler=scheduler\n",
    "    )\n",
    "    print(\"after source\")\n",
    "\n",
    "\n",
    "loop.create_task(main(loop, scheduler))\n",
    "loop.run_forever()\n",
    "print('end')"
   ],
   "metadata": {
    "collapsed": false,
    "pycharm": {
     "name": "#%%\n"
    }
   }
  },
  {
   "cell_type": "code",
   "execution_count": 1,
   "outputs": [
    {
     "ename": "KeyboardInterrupt",
     "evalue": "",
     "output_type": "error",
     "traceback": [
      "\u001B[0;31m---------------------------------------------------------------------------\u001B[0m",
      "\u001B[0;31mKeyboardInterrupt\u001B[0m                         Traceback (most recent call last)",
      "Input \u001B[0;32mIn [1]\u001B[0m, in \u001B[0;36m<module>\u001B[0;34m\u001B[0m\n\u001B[1;32m     38\u001B[0m loop \u001B[38;5;241m=\u001B[39m asyncio\u001B[38;5;241m.\u001B[39mget_event_loop()\n\u001B[1;32m     39\u001B[0m loop\u001B[38;5;241m.\u001B[39mcreate_task(main(loop))\n\u001B[0;32m---> 40\u001B[0m \u001B[43mloop\u001B[49m\u001B[38;5;241;43m.\u001B[39;49m\u001B[43mrun_forever\u001B[49m\u001B[43m(\u001B[49m\u001B[43m)\u001B[49m\n",
      "File \u001B[0;32m~/.pyenv/versions/3.8.12/envs/venv-3.8.12/lib/python3.8/site-packages/nest_asyncio.py:64\u001B[0m, in \u001B[0;36m_patch_loop.<locals>.run_forever\u001B[0;34m(self)\u001B[0m\n\u001B[1;32m     62\u001B[0m \u001B[38;5;28;01mwith\u001B[39;00m manage_run(\u001B[38;5;28mself\u001B[39m), manage_asyncgens(\u001B[38;5;28mself\u001B[39m):\n\u001B[1;32m     63\u001B[0m     \u001B[38;5;28;01mwhile\u001B[39;00m \u001B[38;5;28;01mTrue\u001B[39;00m:\n\u001B[0;32m---> 64\u001B[0m         \u001B[38;5;28;43mself\u001B[39;49m\u001B[38;5;241;43m.\u001B[39;49m\u001B[43m_run_once\u001B[49m\u001B[43m(\u001B[49m\u001B[43m)\u001B[49m\n\u001B[1;32m     65\u001B[0m         \u001B[38;5;28;01mif\u001B[39;00m \u001B[38;5;28mself\u001B[39m\u001B[38;5;241m.\u001B[39m_stopping:\n\u001B[1;32m     66\u001B[0m             \u001B[38;5;28;01mbreak\u001B[39;00m\n",
      "File \u001B[0;32m~/.pyenv/versions/3.8.12/envs/venv-3.8.12/lib/python3.8/site-packages/nest_asyncio.py:98\u001B[0m, in \u001B[0;36m_patch_loop.<locals>._run_once\u001B[0;34m(self)\u001B[0m\n\u001B[1;32m     91\u001B[0m     heappop(scheduled)\n\u001B[1;32m     93\u001B[0m timeout \u001B[38;5;241m=\u001B[39m (\n\u001B[1;32m     94\u001B[0m     \u001B[38;5;241m0\u001B[39m \u001B[38;5;28;01mif\u001B[39;00m ready \u001B[38;5;129;01mor\u001B[39;00m \u001B[38;5;28mself\u001B[39m\u001B[38;5;241m.\u001B[39m_stopping\n\u001B[1;32m     95\u001B[0m     \u001B[38;5;28;01melse\u001B[39;00m \u001B[38;5;28mmin\u001B[39m(\u001B[38;5;28mmax\u001B[39m(\n\u001B[1;32m     96\u001B[0m         scheduled[\u001B[38;5;241m0\u001B[39m]\u001B[38;5;241m.\u001B[39m_when \u001B[38;5;241m-\u001B[39m \u001B[38;5;28mself\u001B[39m\u001B[38;5;241m.\u001B[39mtime(), \u001B[38;5;241m0\u001B[39m), \u001B[38;5;241m86400\u001B[39m) \u001B[38;5;28;01mif\u001B[39;00m scheduled\n\u001B[1;32m     97\u001B[0m     \u001B[38;5;28;01melse\u001B[39;00m \u001B[38;5;28;01mNone\u001B[39;00m)\n\u001B[0;32m---> 98\u001B[0m event_list \u001B[38;5;241m=\u001B[39m \u001B[38;5;28;43mself\u001B[39;49m\u001B[38;5;241;43m.\u001B[39;49m\u001B[43m_selector\u001B[49m\u001B[38;5;241;43m.\u001B[39;49m\u001B[43mselect\u001B[49m\u001B[43m(\u001B[49m\u001B[43mtimeout\u001B[49m\u001B[43m)\u001B[49m\n\u001B[1;32m     99\u001B[0m \u001B[38;5;28mself\u001B[39m\u001B[38;5;241m.\u001B[39m_process_events(event_list)\n\u001B[1;32m    101\u001B[0m end_time \u001B[38;5;241m=\u001B[39m \u001B[38;5;28mself\u001B[39m\u001B[38;5;241m.\u001B[39mtime() \u001B[38;5;241m+\u001B[39m \u001B[38;5;28mself\u001B[39m\u001B[38;5;241m.\u001B[39m_clock_resolution\n",
      "File \u001B[0;32m~/.pyenv/versions/3.8.12/lib/python3.8/selectors.py:468\u001B[0m, in \u001B[0;36mEpollSelector.select\u001B[0;34m(self, timeout)\u001B[0m\n\u001B[1;32m    466\u001B[0m ready \u001B[38;5;241m=\u001B[39m []\n\u001B[1;32m    467\u001B[0m \u001B[38;5;28;01mtry\u001B[39;00m:\n\u001B[0;32m--> 468\u001B[0m     fd_event_list \u001B[38;5;241m=\u001B[39m \u001B[38;5;28;43mself\u001B[39;49m\u001B[38;5;241;43m.\u001B[39;49m\u001B[43m_selector\u001B[49m\u001B[38;5;241;43m.\u001B[39;49m\u001B[43mpoll\u001B[49m\u001B[43m(\u001B[49m\u001B[43mtimeout\u001B[49m\u001B[43m,\u001B[49m\u001B[43m \u001B[49m\u001B[43mmax_ev\u001B[49m\u001B[43m)\u001B[49m\n\u001B[1;32m    469\u001B[0m \u001B[38;5;28;01mexcept\u001B[39;00m \u001B[38;5;167;01mInterruptedError\u001B[39;00m:\n\u001B[1;32m    470\u001B[0m     \u001B[38;5;28;01mreturn\u001B[39;00m ready\n",
      "\u001B[0;31mKeyboardInterrupt\u001B[0m: "
     ]
    }
   ],
   "source": [
    "import asyncio\n",
    "import rx\n",
    "import rx.operators as ops\n",
    "from rx.scheduler.eventloop import AsyncIOScheduler\n",
    "\n",
    "import nest_asyncio\n",
    "nest_asyncio.apply()\n",
    "\n",
    "import threading\n",
    "import time\n",
    "start = time.time()\n",
    "\n",
    "\n",
    "def log(value: str):\n",
    "    print(f\"{time.time() - start:.3f} {current_thread().name} {value}\")\n",
    "\n",
    "async def foo():\n",
    "    await asyncio.sleep(random.randint(1, 6))\n",
    "    return 42\n",
    "\n",
    "\n",
    "def intervalRead(rate, fun) -> rx.Observable:\n",
    "    loop = asyncio.get_event_loop()\n",
    "    return rx.interval(rate).pipe(\n",
    "        ops.map(lambda i: rx.from_future(loop.create_task(fun()))),\n",
    "        ops.merge_all(),\n",
    "        # ops.debounce(3.0)\n",
    "    )\n",
    "\n",
    "async def main(loop):\n",
    "\n",
    "    obs = intervalRead(2, foo)\n",
    "    obs.subscribe(\n",
    "        on_next=lambda item: log(item),\n",
    "        # scheduler=AsyncIOScheduler(loop)\n",
    "    )\n",
    "\n",
    "loop = asyncio.get_event_loop()\n",
    "loop.create_task(main(loop))\n",
    "loop.run_forever()"
   ],
   "metadata": {
    "collapsed": false,
    "pycharm": {
     "name": "#%%\n"
    }
   }
  },
  {
   "cell_type": "code",
   "execution_count": 1,
   "outputs": [
    {
     "name": "stdout",
     "output_type": "stream",
     "text": [
      "ciao\n",
      "inside\n",
      "42\n"
     ]
    },
    {
     "ename": "KeyboardInterrupt",
     "evalue": "",
     "output_type": "error",
     "traceback": [
      "\u001B[0;31m---------------------------------------------------------------------------\u001B[0m",
      "\u001B[0;31mKeyboardInterrupt\u001B[0m                         Traceback (most recent call last)",
      "Input \u001B[0;32mIn [1]\u001B[0m, in \u001B[0;36m<module>\u001B[0;34m\u001B[0m\n\u001B[1;32m     25\u001B[0m loop\u001B[38;5;241m.\u001B[39mcreate_task(main(loop))\n\u001B[1;32m     26\u001B[0m \u001B[38;5;28mprint\u001B[39m(\u001B[38;5;124m\"\u001B[39m\u001B[38;5;124mciao\u001B[39m\u001B[38;5;124m\"\u001B[39m)\n\u001B[0;32m---> 27\u001B[0m \u001B[43mloop\u001B[49m\u001B[38;5;241;43m.\u001B[39;49m\u001B[43mrun_forever\u001B[49m\u001B[43m(\u001B[49m\u001B[43m)\u001B[49m\n",
      "File \u001B[0;32m~/.pyenv/versions/3.8.12/envs/venv-3.8.12/lib/python3.8/site-packages/nest_asyncio.py:64\u001B[0m, in \u001B[0;36m_patch_loop.<locals>.run_forever\u001B[0;34m(self)\u001B[0m\n\u001B[1;32m     62\u001B[0m \u001B[38;5;28;01mwith\u001B[39;00m manage_run(\u001B[38;5;28mself\u001B[39m), manage_asyncgens(\u001B[38;5;28mself\u001B[39m):\n\u001B[1;32m     63\u001B[0m     \u001B[38;5;28;01mwhile\u001B[39;00m \u001B[38;5;28;01mTrue\u001B[39;00m:\n\u001B[0;32m---> 64\u001B[0m         \u001B[38;5;28;43mself\u001B[39;49m\u001B[38;5;241;43m.\u001B[39;49m\u001B[43m_run_once\u001B[49m\u001B[43m(\u001B[49m\u001B[43m)\u001B[49m\n\u001B[1;32m     65\u001B[0m         \u001B[38;5;28;01mif\u001B[39;00m \u001B[38;5;28mself\u001B[39m\u001B[38;5;241m.\u001B[39m_stopping:\n\u001B[1;32m     66\u001B[0m             \u001B[38;5;28;01mbreak\u001B[39;00m\n",
      "File \u001B[0;32m~/.pyenv/versions/3.8.12/envs/venv-3.8.12/lib/python3.8/site-packages/nest_asyncio.py:98\u001B[0m, in \u001B[0;36m_patch_loop.<locals>._run_once\u001B[0;34m(self)\u001B[0m\n\u001B[1;32m     91\u001B[0m     heappop(scheduled)\n\u001B[1;32m     93\u001B[0m timeout \u001B[38;5;241m=\u001B[39m (\n\u001B[1;32m     94\u001B[0m     \u001B[38;5;241m0\u001B[39m \u001B[38;5;28;01mif\u001B[39;00m ready \u001B[38;5;129;01mor\u001B[39;00m \u001B[38;5;28mself\u001B[39m\u001B[38;5;241m.\u001B[39m_stopping\n\u001B[1;32m     95\u001B[0m     \u001B[38;5;28;01melse\u001B[39;00m \u001B[38;5;28mmin\u001B[39m(\u001B[38;5;28mmax\u001B[39m(\n\u001B[1;32m     96\u001B[0m         scheduled[\u001B[38;5;241m0\u001B[39m]\u001B[38;5;241m.\u001B[39m_when \u001B[38;5;241m-\u001B[39m \u001B[38;5;28mself\u001B[39m\u001B[38;5;241m.\u001B[39mtime(), \u001B[38;5;241m0\u001B[39m), \u001B[38;5;241m86400\u001B[39m) \u001B[38;5;28;01mif\u001B[39;00m scheduled\n\u001B[1;32m     97\u001B[0m     \u001B[38;5;28;01melse\u001B[39;00m \u001B[38;5;28;01mNone\u001B[39;00m)\n\u001B[0;32m---> 98\u001B[0m event_list \u001B[38;5;241m=\u001B[39m \u001B[38;5;28;43mself\u001B[39;49m\u001B[38;5;241;43m.\u001B[39;49m\u001B[43m_selector\u001B[49m\u001B[38;5;241;43m.\u001B[39;49m\u001B[43mselect\u001B[49m\u001B[43m(\u001B[49m\u001B[43mtimeout\u001B[49m\u001B[43m)\u001B[49m\n\u001B[1;32m     99\u001B[0m \u001B[38;5;28mself\u001B[39m\u001B[38;5;241m.\u001B[39m_process_events(event_list)\n\u001B[1;32m    101\u001B[0m end_time \u001B[38;5;241m=\u001B[39m \u001B[38;5;28mself\u001B[39m\u001B[38;5;241m.\u001B[39mtime() \u001B[38;5;241m+\u001B[39m \u001B[38;5;28mself\u001B[39m\u001B[38;5;241m.\u001B[39m_clock_resolution\n",
      "File \u001B[0;32m~/.pyenv/versions/3.8.12/lib/python3.8/selectors.py:468\u001B[0m, in \u001B[0;36mEpollSelector.select\u001B[0;34m(self, timeout)\u001B[0m\n\u001B[1;32m    466\u001B[0m ready \u001B[38;5;241m=\u001B[39m []\n\u001B[1;32m    467\u001B[0m \u001B[38;5;28;01mtry\u001B[39;00m:\n\u001B[0;32m--> 468\u001B[0m     fd_event_list \u001B[38;5;241m=\u001B[39m \u001B[38;5;28;43mself\u001B[39;49m\u001B[38;5;241;43m.\u001B[39;49m\u001B[43m_selector\u001B[49m\u001B[38;5;241;43m.\u001B[39;49m\u001B[43mpoll\u001B[49m\u001B[43m(\u001B[49m\u001B[43mtimeout\u001B[49m\u001B[43m,\u001B[49m\u001B[43m \u001B[49m\u001B[43mmax_ev\u001B[49m\u001B[43m)\u001B[49m\n\u001B[1;32m    469\u001B[0m \u001B[38;5;28;01mexcept\u001B[39;00m \u001B[38;5;167;01mInterruptedError\u001B[39;00m:\n\u001B[1;32m    470\u001B[0m     \u001B[38;5;28;01mreturn\u001B[39;00m ready\n",
      "\u001B[0;31mKeyboardInterrupt\u001B[0m: "
     ]
    }
   ],
   "source": [
    "import asyncio\n",
    "import rx\n",
    "import rx.operators as ops\n",
    "from rx.scheduler.eventloop import AsyncIOScheduler\n",
    "\n",
    "import nest_asyncio\n",
    "nest_asyncio.apply()\n",
    "\n",
    "async def test(a, b):\n",
    "    await asyncio.sleep(1)\n",
    "    print(\"inside\")\n",
    "    await asyncio.sleep(1)\n",
    "    return 42\n",
    "\n",
    "async def main(loop):\n",
    "\n",
    "    rx.from_future(\n",
    "        loop.create_task(test(1,2))\n",
    "    ).subscribe(\n",
    "        on_next=lambda item: print(item),\n",
    "        scheduler=AsyncIOScheduler(loop)\n",
    "    )\n",
    "\n",
    "loop = asyncio.get_event_loop()\n",
    "loop.create_task(main(loop))\n",
    "print(\"ciao\")\n",
    "loop.run_forever()"
   ],
   "metadata": {
    "collapsed": false,
    "pycharm": {
     "name": "#%%\n"
    }
   }
  },
  {
   "cell_type": "code",
   "execution_count": 1,
   "outputs": [
    {
     "name": "stdout",
     "output_type": "stream",
     "text": [
      "next: 0\n",
      "next: 1\n",
      "next: 2\n",
      "next: 3\n",
      "next: 4\n",
      "next: 5\n",
      "next: 6\n",
      "next: 7\n",
      "next: 8\n",
      "next: 9\n",
      "completed\n"
     ]
    }
   ],
   "source": [
    "import asyncio\n",
    "import functools\n",
    "import rx\n",
    "from rx.scheduler.eventloop import AsyncIOScheduler\n",
    "from rx.disposable import Disposable\n",
    "\n",
    "import nest_asyncio\n",
    "nest_asyncio.apply()\n",
    "\n",
    "def from_aiter(iter, loop):\n",
    "    def on_subscribe(observer, scheduler):\n",
    "        async def _aio_sub():\n",
    "            try:\n",
    "                async for i in iter:\n",
    "                    observer.on_next(i)\n",
    "                loop.call_soon(\n",
    "                    observer.on_completed)\n",
    "            except Exception as e:\n",
    "                loop.call_soon(\n",
    "                    functools.partial(observer.on_error, e))\n",
    "\n",
    "        task = asyncio.ensure_future(_aio_sub(), loop=loop)\n",
    "        return Disposable(lambda: task.cancel())\n",
    "\n",
    "    return rx.create(on_subscribe)\n",
    "\n",
    "\n",
    "async def ticker(delay, to):\n",
    "    \"\"\"Yield numbers from 0 to `to` every `delay` seconds.\"\"\"\n",
    "    for i in range(to):\n",
    "        yield i\n",
    "        await asyncio.sleep(delay)\n",
    "\n",
    "\n",
    "async def main(loop):\n",
    "    done = asyncio.Future()\n",
    "\n",
    "    def on_completed():\n",
    "        print(\"completed\")\n",
    "        done.set_result(0)\n",
    "\n",
    "    disposable = from_aiter(ticker(2, 10), loop).subscribe(\n",
    "        on_next=lambda i: print(\"next: {}\".format(i)),\n",
    "        on_error=lambda e: print(\"error: {}\".format(e)),\n",
    "        on_completed=on_completed,\n",
    "    )\n",
    "\n",
    "    await done\n",
    "    disposable.dispose()\n",
    "\n",
    "loop = asyncio.get_event_loop()\n",
    "loop.run_until_complete(main(loop))"
   ],
   "metadata": {
    "collapsed": false,
    "pycharm": {
     "name": "#%%\n"
    }
   }
  },
  {
   "cell_type": "code",
   "execution_count": 2,
   "outputs": [
    {
     "name": "stdout",
     "output_type": "stream",
     "text": [
      "intervalRead: MainThread\n"
     ]
    },
    {
     "ename": "KeyboardInterrupt",
     "evalue": "",
     "output_type": "error",
     "traceback": [
      "\u001B[0;31m---------------------------------------------------------------------------\u001B[0m",
      "\u001B[0;31mKeyboardInterrupt\u001B[0m                         Traceback (most recent call last)",
      "\u001B[0;32m/tmp/ipykernel_318534/821062279.py\u001B[0m in \u001B[0;36m<module>\u001B[0;34m\u001B[0m\n\u001B[1;32m     56\u001B[0m \u001B[0;34m\u001B[0m\u001B[0m\n\u001B[1;32m     57\u001B[0m \u001B[0mloop\u001B[0m\u001B[0;34m.\u001B[0m\u001B[0mcreate_task\u001B[0m\u001B[0;34m(\u001B[0m\u001B[0mmain\u001B[0m\u001B[0;34m(\u001B[0m\u001B[0mloop\u001B[0m\u001B[0;34m)\u001B[0m\u001B[0;34m)\u001B[0m\u001B[0;34m\u001B[0m\u001B[0;34m\u001B[0m\u001B[0m\n\u001B[0;32m---> 58\u001B[0;31m \u001B[0mloop\u001B[0m\u001B[0;34m.\u001B[0m\u001B[0mrun_forever\u001B[0m\u001B[0;34m(\u001B[0m\u001B[0;34m)\u001B[0m\u001B[0;34m\u001B[0m\u001B[0;34m\u001B[0m\u001B[0m\n\u001B[0m",
      "\u001B[0;32m~/Projects/SecondLevelDegrees/courses/Thesis/source/venv/lib/python3.10/site-packages/nest_asyncio.py\u001B[0m in \u001B[0;36mrun_forever\u001B[0;34m(self)\u001B[0m\n\u001B[1;32m     62\u001B[0m         \u001B[0;32mwith\u001B[0m \u001B[0mmanage_run\u001B[0m\u001B[0;34m(\u001B[0m\u001B[0mself\u001B[0m\u001B[0;34m)\u001B[0m\u001B[0;34m,\u001B[0m \u001B[0mmanage_asyncgens\u001B[0m\u001B[0;34m(\u001B[0m\u001B[0mself\u001B[0m\u001B[0;34m)\u001B[0m\u001B[0;34m:\u001B[0m\u001B[0;34m\u001B[0m\u001B[0;34m\u001B[0m\u001B[0m\n\u001B[1;32m     63\u001B[0m             \u001B[0;32mwhile\u001B[0m \u001B[0;32mTrue\u001B[0m\u001B[0;34m:\u001B[0m\u001B[0;34m\u001B[0m\u001B[0;34m\u001B[0m\u001B[0m\n\u001B[0;32m---> 64\u001B[0;31m                 \u001B[0mself\u001B[0m\u001B[0;34m.\u001B[0m\u001B[0m_run_once\u001B[0m\u001B[0;34m(\u001B[0m\u001B[0;34m)\u001B[0m\u001B[0;34m\u001B[0m\u001B[0;34m\u001B[0m\u001B[0m\n\u001B[0m\u001B[1;32m     65\u001B[0m                 \u001B[0;32mif\u001B[0m \u001B[0mself\u001B[0m\u001B[0;34m.\u001B[0m\u001B[0m_stopping\u001B[0m\u001B[0;34m:\u001B[0m\u001B[0;34m\u001B[0m\u001B[0;34m\u001B[0m\u001B[0m\n\u001B[1;32m     66\u001B[0m                     \u001B[0;32mbreak\u001B[0m\u001B[0;34m\u001B[0m\u001B[0;34m\u001B[0m\u001B[0m\n",
      "\u001B[0;32m~/Projects/SecondLevelDegrees/courses/Thesis/source/venv/lib/python3.10/site-packages/nest_asyncio.py\u001B[0m in \u001B[0;36m_run_once\u001B[0;34m(self)\u001B[0m\n\u001B[1;32m    109\u001B[0m             \u001B[0mhandle\u001B[0m \u001B[0;34m=\u001B[0m \u001B[0mready\u001B[0m\u001B[0;34m.\u001B[0m\u001B[0mpopleft\u001B[0m\u001B[0;34m(\u001B[0m\u001B[0;34m)\u001B[0m\u001B[0;34m\u001B[0m\u001B[0;34m\u001B[0m\u001B[0m\n\u001B[1;32m    110\u001B[0m             \u001B[0;32mif\u001B[0m \u001B[0;32mnot\u001B[0m \u001B[0mhandle\u001B[0m\u001B[0;34m.\u001B[0m\u001B[0m_cancelled\u001B[0m\u001B[0;34m:\u001B[0m\u001B[0;34m\u001B[0m\u001B[0;34m\u001B[0m\u001B[0m\n\u001B[0;32m--> 111\u001B[0;31m                 \u001B[0mhandle\u001B[0m\u001B[0;34m.\u001B[0m\u001B[0m_run\u001B[0m\u001B[0;34m(\u001B[0m\u001B[0;34m)\u001B[0m\u001B[0;34m\u001B[0m\u001B[0;34m\u001B[0m\u001B[0m\n\u001B[0m\u001B[1;32m    112\u001B[0m         \u001B[0mhandle\u001B[0m \u001B[0;34m=\u001B[0m \u001B[0;32mNone\u001B[0m\u001B[0;34m\u001B[0m\u001B[0;34m\u001B[0m\u001B[0m\n\u001B[1;32m    113\u001B[0m \u001B[0;34m\u001B[0m\u001B[0m\n",
      "\u001B[0;32m/usr/lib/python3.10/asyncio/events.py\u001B[0m in \u001B[0;36m_run\u001B[0;34m(self)\u001B[0m\n\u001B[1;32m     78\u001B[0m     \u001B[0;32mdef\u001B[0m \u001B[0m_run\u001B[0m\u001B[0;34m(\u001B[0m\u001B[0mself\u001B[0m\u001B[0;34m)\u001B[0m\u001B[0;34m:\u001B[0m\u001B[0;34m\u001B[0m\u001B[0;34m\u001B[0m\u001B[0m\n\u001B[1;32m     79\u001B[0m         \u001B[0;32mtry\u001B[0m\u001B[0;34m:\u001B[0m\u001B[0;34m\u001B[0m\u001B[0;34m\u001B[0m\u001B[0m\n\u001B[0;32m---> 80\u001B[0;31m             \u001B[0mself\u001B[0m\u001B[0;34m.\u001B[0m\u001B[0m_context\u001B[0m\u001B[0;34m.\u001B[0m\u001B[0mrun\u001B[0m\u001B[0;34m(\u001B[0m\u001B[0mself\u001B[0m\u001B[0;34m.\u001B[0m\u001B[0m_callback\u001B[0m\u001B[0;34m,\u001B[0m \u001B[0;34m*\u001B[0m\u001B[0mself\u001B[0m\u001B[0;34m.\u001B[0m\u001B[0m_args\u001B[0m\u001B[0;34m)\u001B[0m\u001B[0;34m\u001B[0m\u001B[0;34m\u001B[0m\u001B[0m\n\u001B[0m\u001B[1;32m     81\u001B[0m         \u001B[0;32mexcept\u001B[0m \u001B[0;34m(\u001B[0m\u001B[0mSystemExit\u001B[0m\u001B[0;34m,\u001B[0m \u001B[0mKeyboardInterrupt\u001B[0m\u001B[0;34m)\u001B[0m\u001B[0;34m:\u001B[0m\u001B[0;34m\u001B[0m\u001B[0;34m\u001B[0m\u001B[0m\n\u001B[1;32m     82\u001B[0m             \u001B[0;32mraise\u001B[0m\u001B[0;34m\u001B[0m\u001B[0;34m\u001B[0m\u001B[0m\n",
      "\u001B[0;32m~/Projects/SecondLevelDegrees/courses/Thesis/source/venv/lib/python3.10/site-packages/nest_asyncio.py\u001B[0m in \u001B[0;36mstep\u001B[0;34m(task, exc)\u001B[0m\n\u001B[1;32m    181\u001B[0m         \u001B[0mcurr_task\u001B[0m \u001B[0;34m=\u001B[0m \u001B[0mcurr_tasks\u001B[0m\u001B[0;34m.\u001B[0m\u001B[0mget\u001B[0m\u001B[0;34m(\u001B[0m\u001B[0mtask\u001B[0m\u001B[0;34m.\u001B[0m\u001B[0m_loop\u001B[0m\u001B[0;34m)\u001B[0m\u001B[0;34m\u001B[0m\u001B[0;34m\u001B[0m\u001B[0m\n\u001B[1;32m    182\u001B[0m         \u001B[0;32mtry\u001B[0m\u001B[0;34m:\u001B[0m\u001B[0;34m\u001B[0m\u001B[0;34m\u001B[0m\u001B[0m\n\u001B[0;32m--> 183\u001B[0;31m             \u001B[0mstep_orig\u001B[0m\u001B[0;34m(\u001B[0m\u001B[0mtask\u001B[0m\u001B[0;34m,\u001B[0m \u001B[0mexc\u001B[0m\u001B[0;34m)\u001B[0m\u001B[0;34m\u001B[0m\u001B[0;34m\u001B[0m\u001B[0m\n\u001B[0m\u001B[1;32m    184\u001B[0m         \u001B[0;32mfinally\u001B[0m\u001B[0;34m:\u001B[0m\u001B[0;34m\u001B[0m\u001B[0;34m\u001B[0m\u001B[0m\n\u001B[1;32m    185\u001B[0m             \u001B[0;32mif\u001B[0m \u001B[0mcurr_task\u001B[0m \u001B[0;32mis\u001B[0m \u001B[0;32mNone\u001B[0m\u001B[0;34m:\u001B[0m\u001B[0;34m\u001B[0m\u001B[0;34m\u001B[0m\u001B[0m\n",
      "\u001B[0;32m/usr/lib/python3.10/asyncio/tasks.py\u001B[0m in \u001B[0;36m__step\u001B[0;34m(***failed resolving arguments***)\u001B[0m\n\u001B[1;32m    230\u001B[0m                 \u001B[0;31m# We use the `send` method directly, because coroutines\u001B[0m\u001B[0;34m\u001B[0m\u001B[0;34m\u001B[0m\u001B[0m\n\u001B[1;32m    231\u001B[0m                 \u001B[0;31m# don't have `__iter__` and `__next__` methods.\u001B[0m\u001B[0;34m\u001B[0m\u001B[0;34m\u001B[0m\u001B[0m\n\u001B[0;32m--> 232\u001B[0;31m                 \u001B[0mresult\u001B[0m \u001B[0;34m=\u001B[0m \u001B[0mcoro\u001B[0m\u001B[0;34m.\u001B[0m\u001B[0msend\u001B[0m\u001B[0;34m(\u001B[0m\u001B[0;32mNone\u001B[0m\u001B[0;34m)\u001B[0m\u001B[0;34m\u001B[0m\u001B[0;34m\u001B[0m\u001B[0m\n\u001B[0m\u001B[1;32m    233\u001B[0m             \u001B[0;32melse\u001B[0m\u001B[0;34m:\u001B[0m\u001B[0;34m\u001B[0m\u001B[0;34m\u001B[0m\u001B[0m\n\u001B[1;32m    234\u001B[0m                 \u001B[0mresult\u001B[0m \u001B[0;34m=\u001B[0m \u001B[0mcoro\u001B[0m\u001B[0;34m.\u001B[0m\u001B[0mthrow\u001B[0m\u001B[0;34m(\u001B[0m\u001B[0mexc\u001B[0m\u001B[0;34m)\u001B[0m\u001B[0;34m\u001B[0m\u001B[0;34m\u001B[0m\u001B[0m\n",
      "\u001B[0;32m/tmp/ipykernel_318534/821062279.py\u001B[0m in \u001B[0;36mmain\u001B[0;34m(loop)\u001B[0m\n\u001B[1;32m     45\u001B[0m \u001B[0;34m\u001B[0m\u001B[0m\n\u001B[1;32m     46\u001B[0m \u001B[0;32masync\u001B[0m \u001B[0;32mdef\u001B[0m \u001B[0mmain\u001B[0m\u001B[0;34m(\u001B[0m\u001B[0mloop\u001B[0m\u001B[0;34m)\u001B[0m\u001B[0;34m:\u001B[0m\u001B[0;34m\u001B[0m\u001B[0;34m\u001B[0m\u001B[0m\n\u001B[0;32m---> 47\u001B[0;31m     \u001B[0mobs\u001B[0m \u001B[0;34m=\u001B[0m \u001B[0mintervalRead\u001B[0m\u001B[0;34m(\u001B[0m\u001B[0;36m1\u001B[0m\u001B[0;34m,\u001B[0m \u001B[0mfoo\u001B[0m\u001B[0;34m)\u001B[0m\u001B[0;34m\u001B[0m\u001B[0;34m\u001B[0m\u001B[0m\n\u001B[0m\u001B[1;32m     48\u001B[0m     obs.subscribe(\n\u001B[1;32m     49\u001B[0m         \u001B[0mon_next\u001B[0m\u001B[0;34m=\u001B[0m\u001B[0;32mlambda\u001B[0m \u001B[0mitem\u001B[0m\u001B[0;34m:\u001B[0m \u001B[0mprint\u001B[0m\u001B[0;34m(\u001B[0m\u001B[0;34m\"subscribe: {} ({})\"\u001B[0m\u001B[0;34m.\u001B[0m\u001B[0mformat\u001B[0m\u001B[0;34m(\u001B[0m\u001B[0mcurrent_thread\u001B[0m\u001B[0;34m(\u001B[0m\u001B[0;34m)\u001B[0m\u001B[0;34m.\u001B[0m\u001B[0mname\u001B[0m\u001B[0;34m,\u001B[0m \u001B[0mitem\u001B[0m\u001B[0;34m)\u001B[0m\u001B[0;34m)\u001B[0m\u001B[0;34m,\u001B[0m\u001B[0;34m\u001B[0m\u001B[0;34m\u001B[0m\u001B[0m\n",
      "\u001B[0;32m/tmp/ipykernel_318534/821062279.py\u001B[0m in \u001B[0;36mintervalRead\u001B[0;34m(rate, fun)\u001B[0m\n\u001B[1;32m     30\u001B[0m     \u001B[0;31m#loop = asyncio.get_event_loop()\u001B[0m\u001B[0;34m\u001B[0m\u001B[0;34m\u001B[0m\u001B[0m\n\u001B[1;32m     31\u001B[0m \u001B[0;34m\u001B[0m\u001B[0m\n\u001B[0;32m---> 32\u001B[0;31m     return rx.interval(rate,\n\u001B[0m\u001B[1;32m     33\u001B[0m                        \u001B[0;31m# Alternative\u001B[0m\u001B[0;34m\u001B[0m\u001B[0;34m\u001B[0m\u001B[0m\n\u001B[1;32m     34\u001B[0m                        \u001B[0;31m# do the same of \"scheduler=\" param in obs.subscribe()\u001B[0m\u001B[0;34m\u001B[0m\u001B[0;34m\u001B[0m\u001B[0m\n",
      "\u001B[0;32m~/Projects/SecondLevelDegrees/courses/Thesis/source/venv/lib/python3.10/site-packages/rx/__init__.py\u001B[0m in \u001B[0;36minterval\u001B[0;34m(period, scheduler)\u001B[0m\n\u001B[1;32m    693\u001B[0m     \"\"\"\n\u001B[1;32m    694\u001B[0m     \u001B[0;32mfrom\u001B[0m \u001B[0;34m.\u001B[0m\u001B[0mcore\u001B[0m\u001B[0;34m.\u001B[0m\u001B[0mobservable\u001B[0m\u001B[0;34m.\u001B[0m\u001B[0minterval\u001B[0m \u001B[0;32mimport\u001B[0m \u001B[0m_interval\u001B[0m\u001B[0;34m\u001B[0m\u001B[0;34m\u001B[0m\u001B[0m\n\u001B[0;32m--> 695\u001B[0;31m     \u001B[0;32mreturn\u001B[0m \u001B[0m_interval\u001B[0m\u001B[0;34m(\u001B[0m\u001B[0mperiod\u001B[0m\u001B[0;34m,\u001B[0m \u001B[0mscheduler\u001B[0m\u001B[0;34m)\u001B[0m\u001B[0;34m\u001B[0m\u001B[0;34m\u001B[0m\u001B[0m\n\u001B[0m\u001B[1;32m    696\u001B[0m \u001B[0;34m\u001B[0m\u001B[0m\n\u001B[1;32m    697\u001B[0m \u001B[0;34m\u001B[0m\u001B[0m\n",
      "\u001B[0;32m~/Projects/SecondLevelDegrees/courses/Thesis/source/venv/lib/python3.10/site-packages/rx/core/observable/interval.py\u001B[0m in \u001B[0;36m_interval\u001B[0;34m(period, scheduler)\u001B[0m\n\u001B[1;32m      9\u001B[0m               ) -> Observable:\n\u001B[1;32m     10\u001B[0m \u001B[0;34m\u001B[0m\u001B[0m\n\u001B[0;32m---> 11\u001B[0;31m     \u001B[0;32mreturn\u001B[0m \u001B[0mtimer\u001B[0m\u001B[0;34m(\u001B[0m\u001B[0mperiod\u001B[0m\u001B[0;34m,\u001B[0m \u001B[0mperiod\u001B[0m\u001B[0;34m,\u001B[0m \u001B[0mscheduler\u001B[0m\u001B[0;34m)\u001B[0m\u001B[0;34m\u001B[0m\u001B[0;34m\u001B[0m\u001B[0m\n\u001B[0m",
      "\u001B[0;32m~/Projects/SecondLevelDegrees/courses/Thesis/source/venv/lib/python3.10/site-packages/rx/__init__.py\u001B[0m in \u001B[0;36mtimer\u001B[0;34m(duetime, period, scheduler)\u001B[0m\n\u001B[1;32m    999\u001B[0m     \"\"\"\n\u001B[1;32m   1000\u001B[0m     \u001B[0;32mfrom\u001B[0m \u001B[0;34m.\u001B[0m\u001B[0mcore\u001B[0m\u001B[0;34m.\u001B[0m\u001B[0mobservable\u001B[0m\u001B[0;34m.\u001B[0m\u001B[0mtimer\u001B[0m \u001B[0;32mimport\u001B[0m \u001B[0m_timer\u001B[0m\u001B[0;34m\u001B[0m\u001B[0;34m\u001B[0m\u001B[0m\n\u001B[0;32m-> 1001\u001B[0;31m     \u001B[0;32mreturn\u001B[0m \u001B[0m_timer\u001B[0m\u001B[0;34m(\u001B[0m\u001B[0mduetime\u001B[0m\u001B[0;34m,\u001B[0m \u001B[0mperiod\u001B[0m\u001B[0;34m,\u001B[0m \u001B[0mscheduler\u001B[0m\u001B[0;34m)\u001B[0m\u001B[0;34m\u001B[0m\u001B[0;34m\u001B[0m\u001B[0m\n\u001B[0m\u001B[1;32m   1002\u001B[0m \u001B[0;34m\u001B[0m\u001B[0m\n\u001B[1;32m   1003\u001B[0m \u001B[0;34m\u001B[0m\u001B[0m\n",
      "\u001B[0;32m~/Projects/SecondLevelDegrees/courses/Thesis/source/venv/lib/python3.10/site-packages/rx/core/observable/timer.py\u001B[0m in \u001B[0;36m_timer\u001B[0;34m(duetime, period, scheduler)\u001B[0m\n\u001B[1;32m     95\u001B[0m         \u001B[0;32mreturn\u001B[0m \u001B[0mobservable_timer_timespan\u001B[0m\u001B[0;34m(\u001B[0m\u001B[0mduetime\u001B[0m\u001B[0;34m,\u001B[0m \u001B[0mscheduler\u001B[0m\u001B[0;34m)\u001B[0m\u001B[0;34m\u001B[0m\u001B[0;34m\u001B[0m\u001B[0m\n\u001B[1;32m     96\u001B[0m \u001B[0;34m\u001B[0m\u001B[0m\n\u001B[0;32m---> 97\u001B[0;31m     \u001B[0;32mreturn\u001B[0m \u001B[0mobservable_timer_timespan_and_period\u001B[0m\u001B[0;34m(\u001B[0m\u001B[0mduetime\u001B[0m\u001B[0;34m,\u001B[0m \u001B[0mperiod\u001B[0m\u001B[0;34m,\u001B[0m \u001B[0mscheduler\u001B[0m\u001B[0;34m)\u001B[0m\u001B[0;34m\u001B[0m\u001B[0;34m\u001B[0m\u001B[0m\n\u001B[0m",
      "\u001B[0;32m~/Projects/SecondLevelDegrees/courses/Thesis/source/venv/lib/python3.10/site-packages/rx/core/observable/timer.py\u001B[0m in \u001B[0;36m_timer\u001B[0;34m(duetime, period, scheduler)\u001B[0m\n\u001B[1;32m     95\u001B[0m         \u001B[0;32mreturn\u001B[0m \u001B[0mobservable_timer_timespan\u001B[0m\u001B[0;34m(\u001B[0m\u001B[0mduetime\u001B[0m\u001B[0;34m,\u001B[0m \u001B[0mscheduler\u001B[0m\u001B[0;34m)\u001B[0m\u001B[0;34m\u001B[0m\u001B[0;34m\u001B[0m\u001B[0m\n\u001B[1;32m     96\u001B[0m \u001B[0;34m\u001B[0m\u001B[0m\n\u001B[0;32m---> 97\u001B[0;31m     \u001B[0;32mreturn\u001B[0m \u001B[0mobservable_timer_timespan_and_period\u001B[0m\u001B[0;34m(\u001B[0m\u001B[0mduetime\u001B[0m\u001B[0;34m,\u001B[0m \u001B[0mperiod\u001B[0m\u001B[0;34m,\u001B[0m \u001B[0mscheduler\u001B[0m\u001B[0;34m)\u001B[0m\u001B[0;34m\u001B[0m\u001B[0;34m\u001B[0m\u001B[0m\n\u001B[0m",
      "\u001B[0;32m~/.local/share/JetBrains/IntelliJIdea2021.3/python/helpers/pydev/_pydevd_bundle/pydevd_frame.py\u001B[0m in \u001B[0;36mtrace_dispatch\u001B[0;34m(self, frame, event, arg)\u001B[0m\n\u001B[1;32m    882\u001B[0m                     \u001B[0;32mif\u001B[0m \u001B[0mis_line\u001B[0m\u001B[0;34m:\u001B[0m\u001B[0;34m\u001B[0m\u001B[0;34m\u001B[0m\u001B[0m\n\u001B[1;32m    883\u001B[0m                         \u001B[0mself\u001B[0m\u001B[0;34m.\u001B[0m\u001B[0mset_suspend\u001B[0m\u001B[0;34m(\u001B[0m\u001B[0mthread\u001B[0m\u001B[0;34m,\u001B[0m \u001B[0mstep_cmd\u001B[0m\u001B[0;34m)\u001B[0m\u001B[0;34m\u001B[0m\u001B[0;34m\u001B[0m\u001B[0m\n\u001B[0;32m--> 884\u001B[0;31m                         \u001B[0mself\u001B[0m\u001B[0;34m.\u001B[0m\u001B[0mdo_wait_suspend\u001B[0m\u001B[0;34m(\u001B[0m\u001B[0mthread\u001B[0m\u001B[0;34m,\u001B[0m \u001B[0mframe\u001B[0m\u001B[0;34m,\u001B[0m \u001B[0mevent\u001B[0m\u001B[0;34m,\u001B[0m \u001B[0marg\u001B[0m\u001B[0;34m)\u001B[0m\u001B[0;34m\u001B[0m\u001B[0;34m\u001B[0m\u001B[0m\n\u001B[0m\u001B[1;32m    885\u001B[0m                     \u001B[0;32melse\u001B[0m\u001B[0;34m:\u001B[0m  \u001B[0;31m# return event\u001B[0m\u001B[0;34m\u001B[0m\u001B[0;34m\u001B[0m\u001B[0m\n\u001B[1;32m    886\u001B[0m                         \u001B[0mback\u001B[0m \u001B[0;34m=\u001B[0m \u001B[0mframe\u001B[0m\u001B[0;34m.\u001B[0m\u001B[0mf_back\u001B[0m\u001B[0;34m\u001B[0m\u001B[0;34m\u001B[0m\u001B[0m\n",
      "\u001B[0;32m~/.local/share/JetBrains/IntelliJIdea2021.3/python/helpers/pydev/_pydevd_bundle/pydevd_frame.py\u001B[0m in \u001B[0;36mdo_wait_suspend\u001B[0;34m(self, *args, **kwargs)\u001B[0m\n\u001B[1;32m    142\u001B[0m \u001B[0;34m\u001B[0m\u001B[0m\n\u001B[1;32m    143\u001B[0m     \u001B[0;32mdef\u001B[0m \u001B[0mdo_wait_suspend\u001B[0m\u001B[0;34m(\u001B[0m\u001B[0mself\u001B[0m\u001B[0;34m,\u001B[0m \u001B[0;34m*\u001B[0m\u001B[0margs\u001B[0m\u001B[0;34m,\u001B[0m \u001B[0;34m**\u001B[0m\u001B[0mkwargs\u001B[0m\u001B[0;34m)\u001B[0m\u001B[0;34m:\u001B[0m\u001B[0;34m\u001B[0m\u001B[0;34m\u001B[0m\u001B[0m\n\u001B[0;32m--> 144\u001B[0;31m         \u001B[0mself\u001B[0m\u001B[0;34m.\u001B[0m\u001B[0m_args\u001B[0m\u001B[0;34m[\u001B[0m\u001B[0;36m0\u001B[0m\u001B[0;34m]\u001B[0m\u001B[0;34m.\u001B[0m\u001B[0mdo_wait_suspend\u001B[0m\u001B[0;34m(\u001B[0m\u001B[0;34m*\u001B[0m\u001B[0margs\u001B[0m\u001B[0;34m,\u001B[0m \u001B[0;34m**\u001B[0m\u001B[0mkwargs\u001B[0m\u001B[0;34m)\u001B[0m\u001B[0;34m\u001B[0m\u001B[0;34m\u001B[0m\u001B[0m\n\u001B[0m\u001B[1;32m    145\u001B[0m \u001B[0;34m\u001B[0m\u001B[0m\n\u001B[1;32m    146\u001B[0m     \u001B[0;31m# IFDEF CYTHON\u001B[0m\u001B[0;34m\u001B[0m\u001B[0;34m\u001B[0m\u001B[0m\n",
      "\u001B[0;32m~/.local/share/JetBrains/IntelliJIdea2021.3/python/helpers/pydev/pydevd.py\u001B[0m in \u001B[0;36mdo_wait_suspend\u001B[0;34m(self, thread, frame, event, arg, send_suspend_message, is_unhandled_exception)\u001B[0m\n\u001B[1;32m   1145\u001B[0m \u001B[0;34m\u001B[0m\u001B[0m\n\u001B[1;32m   1146\u001B[0m         \u001B[0;32mwith\u001B[0m \u001B[0mself\u001B[0m\u001B[0;34m.\u001B[0m\u001B[0m_threads_suspended_single_notification\u001B[0m\u001B[0;34m.\u001B[0m\u001B[0mnotify_thread_suspended\u001B[0m\u001B[0;34m(\u001B[0m\u001B[0mthread_id\u001B[0m\u001B[0;34m,\u001B[0m \u001B[0mstop_reason\u001B[0m\u001B[0;34m)\u001B[0m\u001B[0;34m:\u001B[0m\u001B[0;34m\u001B[0m\u001B[0;34m\u001B[0m\u001B[0m\n\u001B[0;32m-> 1147\u001B[0;31m             \u001B[0mself\u001B[0m\u001B[0;34m.\u001B[0m\u001B[0m_do_wait_suspend\u001B[0m\u001B[0;34m(\u001B[0m\u001B[0mthread\u001B[0m\u001B[0;34m,\u001B[0m \u001B[0mframe\u001B[0m\u001B[0;34m,\u001B[0m \u001B[0mevent\u001B[0m\u001B[0;34m,\u001B[0m \u001B[0marg\u001B[0m\u001B[0;34m,\u001B[0m \u001B[0msuspend_type\u001B[0m\u001B[0;34m,\u001B[0m \u001B[0mfrom_this_thread\u001B[0m\u001B[0;34m)\u001B[0m\u001B[0;34m\u001B[0m\u001B[0;34m\u001B[0m\u001B[0m\n\u001B[0m\u001B[1;32m   1148\u001B[0m \u001B[0;34m\u001B[0m\u001B[0m\n\u001B[1;32m   1149\u001B[0m     \u001B[0;32mdef\u001B[0m \u001B[0m_do_wait_suspend\u001B[0m\u001B[0;34m(\u001B[0m\u001B[0mself\u001B[0m\u001B[0;34m,\u001B[0m \u001B[0mthread\u001B[0m\u001B[0;34m,\u001B[0m \u001B[0mframe\u001B[0m\u001B[0;34m,\u001B[0m \u001B[0mevent\u001B[0m\u001B[0;34m,\u001B[0m \u001B[0marg\u001B[0m\u001B[0;34m,\u001B[0m \u001B[0msuspend_type\u001B[0m\u001B[0;34m,\u001B[0m \u001B[0mfrom_this_thread\u001B[0m\u001B[0;34m)\u001B[0m\u001B[0;34m:\u001B[0m\u001B[0;34m\u001B[0m\u001B[0;34m\u001B[0m\u001B[0m\n",
      "\u001B[0;32m~/.local/share/JetBrains/IntelliJIdea2021.3/python/helpers/pydev/pydevd.py\u001B[0m in \u001B[0;36m_do_wait_suspend\u001B[0;34m(self, thread, frame, event, arg, suspend_type, from_this_thread)\u001B[0m\n\u001B[1;32m   1160\u001B[0m \u001B[0;34m\u001B[0m\u001B[0m\n\u001B[1;32m   1161\u001B[0m                 \u001B[0mself\u001B[0m\u001B[0;34m.\u001B[0m\u001B[0mprocess_internal_commands\u001B[0m\u001B[0;34m(\u001B[0m\u001B[0;34m)\u001B[0m\u001B[0;34m\u001B[0m\u001B[0;34m\u001B[0m\u001B[0m\n\u001B[0;32m-> 1162\u001B[0;31m                 \u001B[0mtime\u001B[0m\u001B[0;34m.\u001B[0m\u001B[0msleep\u001B[0m\u001B[0;34m(\u001B[0m\u001B[0;36m0.01\u001B[0m\u001B[0;34m)\u001B[0m\u001B[0;34m\u001B[0m\u001B[0;34m\u001B[0m\u001B[0m\n\u001B[0m\u001B[1;32m   1163\u001B[0m \u001B[0;34m\u001B[0m\u001B[0m\n\u001B[1;32m   1164\u001B[0m         \u001B[0mself\u001B[0m\u001B[0;34m.\u001B[0m\u001B[0mcancel_async_evaluation\u001B[0m\u001B[0;34m(\u001B[0m\u001B[0mget_current_thread_id\u001B[0m\u001B[0;34m(\u001B[0m\u001B[0mthread\u001B[0m\u001B[0;34m)\u001B[0m\u001B[0;34m,\u001B[0m \u001B[0mstr\u001B[0m\u001B[0;34m(\u001B[0m\u001B[0mid\u001B[0m\u001B[0;34m(\u001B[0m\u001B[0mframe\u001B[0m\u001B[0;34m)\u001B[0m\u001B[0;34m)\u001B[0m\u001B[0;34m)\u001B[0m\u001B[0;34m\u001B[0m\u001B[0;34m\u001B[0m\u001B[0m\n",
      "\u001B[0;31mKeyboardInterrupt\u001B[0m: "
     ]
    }
   ],
   "source": [
    "# subscribe(..., scheduler=) / interval(..., scheduler=), ops.observe_on(scheduler)\n",
    "\n",
    "import asyncio\n",
    "import rx\n",
    "import rx.operators as ops\n",
    "from rx.scheduler.eventloop import AsyncIOScheduler\n",
    "\n",
    "from threading import current_thread\n",
    "\n",
    "import multiprocessing\n",
    "from rx.scheduler import ThreadPoolScheduler\n",
    "optimal_thread_count = multiprocessing.cpu_count()\n",
    "pool_scheduler = ThreadPoolScheduler(optimal_thread_count)\n",
    "\n",
    "import nest_asyncio\n",
    "nest_asyncio.apply()\n",
    "\n",
    "loop = asyncio.get_event_loop()\n",
    "_scheduler = AsyncIOScheduler(loop)\n",
    "\n",
    "async def foo():\n",
    "    print(\"foo: {}\".format(current_thread().name))\n",
    "    await asyncio.sleep(1)\n",
    "    return 42\n",
    "\n",
    "\n",
    "def intervalRead(rate, fun) -> rx.Observable:\n",
    "    print(\"intervalRead: {}\".format(current_thread().name))\n",
    "\n",
    "    #loop = asyncio.get_event_loop()\n",
    "\n",
    "    return rx.interval(rate,\n",
    "                       # Alternative\n",
    "                       # do the same of \"scheduler=\" param in obs.subscribe()\n",
    "                       #scheduler=_scheduler\n",
    "    ).pipe(\n",
    "        ops.do_action(lambda _: print(\"do_action1: {}\".format(current_thread().name))),\n",
    "        ops.map(lambda i: rx.from_future(loop.create_task(fun()))),\n",
    "        # switch following operators on another thread\n",
    "        ops.observe_on(pool_scheduler),\n",
    "        ops.do_action(lambda _: print(\"do_action2: {}\".format(current_thread().name))),\n",
    "        ops.merge_all()\n",
    "    )\n",
    "\n",
    "\n",
    "async def main(loop):\n",
    "    obs = intervalRead(1, foo)\n",
    "    obs.subscribe(\n",
    "        on_next=lambda item: print(\"subscribe: {} ({})\".format(current_thread().name, item)),\n",
    "        # set scheduler for interval (ie. observable/create/on_subscribe fn)\n",
    "        scheduler=AsyncIOScheduler(loop)\n",
    "    )\n",
    "\n",
    "    print('end')\n",
    "\n",
    "\n",
    "loop.create_task(main(loop))\n",
    "loop.run_forever()"
   ],
   "metadata": {
    "collapsed": false,
    "pycharm": {
     "name": "#%%\n"
    }
   }
  },
  {
   "cell_type": "code",
   "execution_count": 1,
   "outputs": [
    {
     "name": "stdout",
     "output_type": "stream",
     "text": [
      "0.001 before 1\n",
      "0.002 Async action  started 1\n",
      "2.004 Async action finished 1\n",
      "2.004 after  1\n",
      "2.105 before 2\n",
      "2.105 Async action  started 2\n",
      "4.105 Async action finished 2\n",
      "4.105 after  2\n",
      "4.105 before 4, 5, 6\n",
      "4.106 Async action  started 4\n",
      "4.106 Async action  started 5\n",
      "4.106 Async action  started 6\n",
      "6.108 Async action finished 4\n",
      "6.108 Async action finished 5\n",
      "6.109 Async action finished 6\n",
      "6.109 after  4, 5, 6\n"
     ]
    }
   ],
   "source": [
    "# Add Item to Subject and wait the end of computation (by future.set_result())\n",
    "# the order is not preserved on parallelized/asyncio.gather() (ie. wait the end of computation, before start the new one)\n",
    "# SOLUTION WITH QUEUE IN THE NEXT CEL!!\n",
    "\n",
    "import asyncio\n",
    "from asyncio.futures import Future\n",
    "import time\n",
    "from typing import NamedTuple\n",
    "import rx.operators as ops\n",
    "from rx.subject import Subject\n",
    "from rx.scheduler.eventloop import AsyncIOScheduler\n",
    "\n",
    "import nest_asyncio\n",
    "nest_asyncio.apply()\n",
    "\n",
    "start = time.time()\n",
    "def ts():\n",
    "    return f\"{time.time() - start:.3f}\"\n",
    "\n",
    "ACTION_DURATION = 2.0\n",
    "Data = NamedTuple('Data', [('id', int), ('future', Future[int])])\n",
    "subject = Subject()\n",
    "\n",
    "async def async_action(id: int = 0):\n",
    "    \"\"\" Some async processing, like sending/writing data. \"\"\"\n",
    "    print(f\"{ts()} Async action  started {id}\")\n",
    "    await asyncio.sleep(ACTION_DURATION)\n",
    "    print(f\"{ts()} Async action finished {id}\")\n",
    "    return id\n",
    "\n",
    "\n",
    "async def setup():\n",
    "    \"\"\" Setting up the Rx subject to make sure all work is done\n",
    "        in sequence without overlaps.\n",
    "    \"\"\"\n",
    "\n",
    "    def sequencer(data: Data):\n",
    "        task = asyncio.create_task(async_action(data.id))\n",
    "        task.add_done_callback(\n",
    "            lambda f: data.future.set_result(f.result())\n",
    "        )\n",
    "        return task\n",
    "\n",
    "    subject.pipe(\n",
    "        ops.do_action(lambda f: sequencer(f))\n",
    "    ).subscribe(\n",
    "        scheduler=AsyncIOScheduler(asyncio.get_event_loop())\n",
    "    )\n",
    "\n",
    "\n",
    "async def add(id: int):\n",
    "    \"\"\" Add \"some work\" and await until it is done. \"\"\"\n",
    "    future = asyncio.Future()\n",
    "    subject.on_next(Data(id, future))\n",
    "    return await future\n",
    "\n",
    "\n",
    "async def main():\n",
    "    await setup()\n",
    "\n",
    "    # add work in any fashion (code I cannot influence)\n",
    "    print(f\"{ts()} before 1\")\n",
    "    await add(1)\n",
    "    print(f\"{ts()} after  1\")\n",
    "\n",
    "    await asyncio.sleep(0.1)\n",
    "\n",
    "    print(f\"{ts()} before 2\")\n",
    "    await add(2)\n",
    "    print(f\"{ts()} after  2\")\n",
    "\n",
    "    print(f\"{ts()} before 4, 5, 6\")\n",
    "    await asyncio.gather(add(4), add(5), add(6))\n",
    "    print(f\"{ts()} after  4, 5, 6\")\n",
    "\n",
    "\n",
    "asyncio.run(main())"
   ],
   "metadata": {
    "collapsed": false,
    "pycharm": {
     "name": "#%%\n"
    }
   }
  },
  {
   "cell_type": "code",
   "execution_count": 1,
   "outputs": [
    {
     "name": "stdout",
     "output_type": "stream",
     "text": [
      "0.001 before 1\n",
      "0.002 Async action  started 1\n",
      "2.004 Async action finished 1\n",
      "2.004 after  1\n",
      "2.105 before 2\n",
      "2.105 Async action  started 2\n",
      "4.107 Async action finished 2\n",
      "4.107 after  2\n",
      "4.107 before 4, 5, 6\n",
      "4.108 Async action  started 4\n",
      "6.110 Async action finished 4\n",
      "6.111 Async action  started 5\n",
      "8.112 Async action finished 5\n",
      "8.113 Async action  started 6\n",
      "10.116 Async action finished 6\n",
      "10.116 after  4, 5, 6\n"
     ]
    }
   ],
   "source": [
    "# Wait the end of computation (async_action()) before get the next Item\n",
    "# It's done introducing the queue in a custom operator (serialize_map_async())\n",
    "\n",
    "import asyncio\n",
    "from asyncio.futures import Future\n",
    "import time\n",
    "from collections import namedtuple\n",
    "import rx\n",
    "import rx.operators as ops\n",
    "from rx.disposable import Disposable\n",
    "from rx.subject import Subject\n",
    "from rx.scheduler.eventloop import AsyncIOScheduler\n",
    "\n",
    "import nest_asyncio\n",
    "nest_asyncio.apply()\n",
    "\n",
    "start = time.time()\n",
    "def ts():\n",
    "    return f\"{time.time() - start:.3f}\"\n",
    "\n",
    "ACTION_DURATION = 2.0\n",
    "Data = namedtuple('Data', ['id', 'future'])\n",
    "subject = Subject()\n",
    "\n",
    "async def async_action(id: int = 0):\n",
    "    \"\"\" Some async processing, like sending/writing data. \"\"\"\n",
    "    print(f\"{ts()} Async action  started {id}\")\n",
    "    await asyncio.sleep(ACTION_DURATION)\n",
    "    print(f\"{ts()} Async action finished {id}\")\n",
    "    return id\n",
    "\n",
    "\n",
    "def serialize_map_async(mapper):\n",
    "    def _serialize_map_async(source):\n",
    "        def on_subscribe(observer, scheduler):\n",
    "            q = asyncio.Queue()\n",
    "\n",
    "            async def map_async(q):\n",
    "                try:\n",
    "                    while True:\n",
    "                        i = await q.get()\n",
    "                        ii = await mapper(i.id)\n",
    "                        observer.on_next(ii)\n",
    "                        i.future.set_result(ii)\n",
    "                except Exception as e:\n",
    "                    observer.on_error(e)\n",
    "\n",
    "            def on_next(i):\n",
    "                try:\n",
    "                    q.put_nowait(i)\n",
    "                except Exception as e:\n",
    "                    observer.on_error(e)\n",
    "\n",
    "            task = asyncio.create_task(map_async(q))\n",
    "            d = source.subscribe(\n",
    "                on_next=on_next,\n",
    "                on_error=observer.on_error,\n",
    "                on_completed=observer.on_completed,\n",
    "            )\n",
    "\n",
    "            def dispose():\n",
    "                d.dispose()\n",
    "                task.cancel()\n",
    "\n",
    "            return Disposable(dispose)\n",
    "        return rx.create(on_subscribe)\n",
    "    return _serialize_map_async\n",
    "\n",
    "\n",
    "async def setup():\n",
    "    \"\"\" Setting up the Rx subject to make sure all work is done\n",
    "        in sequence without overlaps.\n",
    "    \"\"\"\n",
    "\n",
    "    subject.pipe(\n",
    "        serialize_map_async(async_action),\n",
    "    ).subscribe(\n",
    "        scheduler=AsyncIOScheduler(asyncio.get_event_loop())\n",
    "    )\n",
    "\n",
    "\n",
    "async def add(id: int):\n",
    "    \"\"\" Add \"some work\" and await until it is done. \"\"\"\n",
    "    future = asyncio.Future()\n",
    "    subject.on_next(Data(id, future))\n",
    "    return await future\n",
    "\n",
    "\n",
    "async def main():\n",
    "    await setup()\n",
    "\n",
    "    # add work in any fashion (code I cannot influence)\n",
    "    print(f\"{ts()} before 1\")\n",
    "    await add(1)\n",
    "    print(f\"{ts()} after  1\")\n",
    "\n",
    "    await asyncio.sleep(0.1)\n",
    "\n",
    "    print(f\"{ts()} before 2\")\n",
    "    await add(2)\n",
    "    print(f\"{ts()} after  2\")\n",
    "\n",
    "    print(f\"{ts()} before 4, 5, 6\")\n",
    "    await asyncio.gather(add(4), add(5), add(6))\n",
    "    print(f\"{ts()} after  4, 5, 6\")\n",
    "\n",
    "\n",
    "asyncio.run(main())"
   ],
   "metadata": {
    "collapsed": false,
    "pycharm": {
     "name": "#%%\n"
    }
   }
  },
  {
   "cell_type": "code",
   "execution_count": 32,
   "outputs": [],
   "source": [
    "import enum\n",
    "\n",
    "test = enum.Flag(\"Test\",  [('CYAN', 4), ('MAGENTA', 5), ('YELLOW', 6)])\n",
    "ok = test.CYAN | test.MAGENTA"
   ],
   "metadata": {
    "collapsed": false,
    "pycharm": {
     "name": "#%%\n"
    }
   }
  },
  {
   "cell_type": "code",
   "execution_count": 36,
   "outputs": [
    {
     "data": {
      "text/plain": "True"
     },
     "execution_count": 36,
     "metadata": {},
     "output_type": "execute_result"
    }
   ],
   "source": [
    "test.CYAN in ok"
   ],
   "metadata": {
    "collapsed": false,
    "pycharm": {
     "name": "#%%\n"
    }
   }
  },
  {
   "cell_type": "code",
   "execution_count": 34,
   "outputs": [
    {
     "data": {
      "text/plain": "False"
     },
     "execution_count": 34,
     "metadata": {},
     "output_type": "execute_result"
    }
   ],
   "source": [
    "test.YELLOW in ok"
   ],
   "metadata": {
    "collapsed": false,
    "pycharm": {
     "name": "#%%\n"
    }
   }
  },
  {
   "cell_type": "code",
   "execution_count": 39,
   "outputs": [
    {
     "data": {
      "text/plain": "<enum 'Test'>"
     },
     "execution_count": 39,
     "metadata": {},
     "output_type": "execute_result"
    }
   ],
   "source": [
    "type(ok)"
   ],
   "metadata": {
    "collapsed": false,
    "pycharm": {
     "name": "#%%\n"
    }
   }
  },
  {
   "cell_type": "code",
   "execution_count": 40,
   "outputs": [
    {
     "ename": "NameError",
     "evalue": "name 'python' is not defined",
     "output_type": "error",
     "traceback": [
      "\u001B[0;31m---------------------------------------------------------------------------\u001B[0m",
      "\u001B[0;31mNameError\u001B[0m                                 Traceback (most recent call last)",
      "\u001B[0;32m/tmp/ipykernel_27746/1510789129.py\u001B[0m in \u001B[0;36m<module>\u001B[0;34m\u001B[0m\n\u001B[0;32m----> 1\u001B[0;31m \u001B[0mpython\u001B[0m\u001B[0;34m.\u001B[0m\u001B[0m__version__\u001B[0m\u001B[0;34m\u001B[0m\u001B[0;34m\u001B[0m\u001B[0m\n\u001B[0m",
      "\u001B[0;31mNameError\u001B[0m: name 'python' is not defined"
     ]
    }
   ],
   "source": [],
   "metadata": {
    "collapsed": false,
    "pycharm": {
     "name": "#%%\n"
    }
   }
  },
  {
   "cell_type": "code",
   "execution_count": 1,
   "outputs": [
    {
     "data": {
      "text/plain": "{'CYAN', 'MAGENTA', 'YELLOW'}"
     },
     "execution_count": 1,
     "metadata": {},
     "output_type": "execute_result"
    }
   ],
   "source": [
    "testSet = {'CYAN', 'MAGENTA', 'YELLOW'}\n",
    "testSet"
   ],
   "metadata": {
    "collapsed": false,
    "pycharm": {
     "name": "#%%\n"
    }
   }
  },
  {
   "cell_type": "code",
   "execution_count": 3,
   "outputs": [
    {
     "data": {
      "text/plain": "False"
     },
     "execution_count": 3,
     "metadata": {},
     "output_type": "execute_result"
    }
   ],
   "source": [
    "'CYANS' in testSet"
   ],
   "metadata": {
    "collapsed": false,
    "pycharm": {
     "name": "#%%\n"
    }
   }
  },
  {
   "cell_type": "code",
   "execution_count": 4,
   "outputs": [
    {
     "data": {
      "text/plain": "{'CYAN', 'MAGENTA', 'RED', 'YELLOW'}"
     },
     "execution_count": 4,
     "metadata": {},
     "output_type": "execute_result"
    }
   ],
   "source": [
    "testSet.add('RED')\n",
    "testSet"
   ],
   "metadata": {
    "collapsed": false,
    "pycharm": {
     "name": "#%%\n"
    }
   }
  },
  {
   "cell_type": "code",
   "execution_count": 6,
   "outputs": [
    {
     "data": {
      "text/plain": "1"
     },
     "execution_count": 6,
     "metadata": {},
     "output_type": "execute_result"
    }
   ],
   "source": [
    "len({\"ciao\", \"pao\"} & {\"1\", \"ciao\", \"3\"})"
   ],
   "metadata": {
    "collapsed": false,
    "pycharm": {
     "name": "#%%\n"
    }
   }
  },
  {
   "cell_type": "code",
   "execution_count": 16,
   "outputs": [
    {
     "name": "stdout",
     "output_type": "stream",
     "text": [
      "1\n",
      "2\n",
      "3\n",
      "4\n",
      "5\n",
      "6\n",
      "3\n",
      "\n"
     ]
    },
    {
     "data": {
      "text/plain": "<rx.disposable.disposable.Disposable at 0x7f58083230d0>"
     },
     "execution_count": 16,
     "metadata": {},
     "output_type": "execute_result"
    }
   ],
   "source": [
    "def test(item):\n",
    "   return item\n",
    "\n",
    "def test_scan(acc, x):\n",
    "    if acc != x:\n",
    "        return x\n",
    "    else:\n",
    "        return 0\n",
    "\n",
    "rx.from_([1,2,3,3,3,4,4,4,5,6,6,3,3]).pipe(\n",
    "    ops.distinct_until_changed(lambda item: item),\n",
    "    # ops.group_by(lambda item: item),\n",
    "    # ops.flat_map(lambda obs: obs.pipe(ops.first())),\n",
    ").subscribe(print, print, print)"
   ],
   "metadata": {
    "collapsed": false,
    "pycharm": {
     "name": "#%%\n"
    }
   }
  },
  {
   "cell_type": "code",
   "execution_count": 63,
   "outputs": [
    {
     "name": "stdout",
     "output_type": "stream",
     "text": [
      "shared_mem: ok = 3\n",
      "shared_mem: ciao = 3\n",
      "3\n",
      "3\n"
     ]
    }
   ],
   "source": [
    "class ShareMem:\n",
    "    def __setattr__(self, key, value):\n",
    "        print(f\"shared_mem: {key} = {value}\")\n",
    "        return super().__setattr__(key, value)\n",
    "\n",
    "    def __getattribute__(self, key):\n",
    "        return super().__getattribute__(key)\n",
    "\n",
    "    def setdefault(self, key, value):\n",
    "        if not hasattr(self, key):\n",
    "            setattr(self, key, value)\n",
    "        return getattr(self, key)\n",
    "\n",
    "\n",
    "ciao = ShareMem()\n",
    "ciao.ok = 3\n",
    "\n",
    "ciao.setdefault('ciao', 3)\n",
    "ciao.setdefault('ok', 4)\n",
    "print(ciao.ciao)\n",
    "print(ciao.ok)\n"
   ],
   "metadata": {
    "collapsed": false,
    "pycharm": {
     "name": "#%%\n"
    }
   }
  },
  {
   "cell_type": "code",
   "execution_count": 1,
   "outputs": [],
   "source": [
    "\"\"\" IMPORT RXPY \"\"\"\n",
    "import rx\n",
    "import rx.operators as ops\n",
    "from rx.disposable import Disposable\n",
    "from rx.subject import Subject\n",
    "from rx.scheduler.eventloop import AsyncIOScheduler\n",
    "\n",
    "from mape.utils import LogObserver"
   ],
   "metadata": {
    "collapsed": false,
    "pycharm": {
     "name": "#%%\n"
    }
   }
  },
  {
   "cell_type": "code",
   "execution_count": null,
   "outputs": [],
   "source": [
    "\n",
    "virtual_room_temp = Subject().pipe(ops.start_with(False))\n",
    "\n",
    "virtual_room_temp.pipe(ops.do_action(print)).subscribe()"
   ],
   "metadata": {
    "collapsed": false,
    "pycharm": {
     "name": "#%%\n"
    }
   }
  },
  {
   "cell_type": "code",
   "execution_count": 26,
   "outputs": [],
   "source": [
    "import functools\n",
    "\n",
    "def decorator_test(func):\n",
    "    print(\"decorator\")\n",
    "\n",
    "    @functools.wraps(func)\n",
    "    def wrapper_test(*args, **kwargs):\n",
    "        # Do something before\n",
    "        value = func(*args, **kwargs)\n",
    "        # Do something after\n",
    "        return value\n",
    "    return wrapper_test"
   ],
   "metadata": {
    "collapsed": false,
    "pycharm": {
     "name": "#%%\n"
    }
   }
  },
  {
   "cell_type": "code",
   "execution_count": 32,
   "outputs": [
    {
     "name": "stdout",
     "output_type": "stream",
     "text": [
      "decorator\n"
     ]
    },
    {
     "data": {
      "text/plain": "<function __main__.ciao(a, b)>"
     },
     "execution_count": 32,
     "metadata": {},
     "output_type": "execute_result"
    }
   ],
   "source": [
    "@decorator_test\n",
    "def ciao(a, b):\n",
    "    print(a, b)\n",
    "\n",
    "# ciao = decorator_test(ciao)\n",
    "ciao"
   ],
   "metadata": {
    "collapsed": false,
    "pycharm": {
     "name": "#%%\n"
    }
   }
  },
  {
   "cell_type": "code",
   "execution_count": 34,
   "outputs": [
    {
     "name": "stdout",
     "output_type": "stream",
     "text": [
      "1 2\n"
     ]
    }
   ],
   "source": [
    "ciao(1,2)"
   ],
   "metadata": {
    "collapsed": false,
    "pycharm": {
     "name": "#%%\n"
    }
   }
  },
  {
   "cell_type": "code",
   "execution_count": 37,
   "outputs": [
    {
     "name": "stdout",
     "output_type": "stream",
     "text": [
      "decorator\n"
     ]
    },
    {
     "data": {
      "text/plain": "<function __main__.ciao(a, b)>"
     },
     "execution_count": 37,
     "metadata": {},
     "output_type": "execute_result"
    }
   ],
   "source": [
    "ciao = decorator_test(ciao)\n",
    "ciao"
   ],
   "metadata": {
    "collapsed": false,
    "pycharm": {
     "name": "#%%\n"
    }
   }
  },
  {
   "cell_type": "code",
   "execution_count": 38,
   "outputs": [
    {
     "name": "stdout",
     "output_type": "stream",
     "text": [
      "1 2\n"
     ]
    }
   ],
   "source": [
    "ciao(1,2)"
   ],
   "metadata": {
    "collapsed": false,
    "pycharm": {
     "name": "#%%\n"
    }
   }
  },
  {
   "cell_type": "code",
   "execution_count": 59,
   "outputs": [
    {
     "name": "stdout",
     "output_type": "stream",
     "text": [
      "without parentesi\n",
      "end\n",
      "with parentesi\n",
      "without parentesi\n",
      "end\n",
      "with parentesi\n",
      "without parentesi\n",
      "end\n",
      "Spam!\n"
     ]
    }
   ],
   "source": [
    "from functools import wraps, partial\n",
    "import logging\n",
    "\n",
    "def logged(func=None, *, level=logging.DEBUG, name=None, message=None):\n",
    "\n",
    "    if func is None:\n",
    "        print(\"with parentesi\")\n",
    "        return partial(logged, level=level, name=name, message=message)\n",
    "    print(\"without parentesi\")\n",
    "\n",
    "    logname = name if name else func.__module__\n",
    "    log = logging.getLogger(logname)\n",
    "    logmsg = message if message else func.__name__\n",
    "    @wraps(func)\n",
    "    def wrapper(*args, **kwargs):\n",
    "        #log.log(level, logmsg)\n",
    "        return func(*args, **kwargs)\n",
    "    return wrapper\n",
    "\n",
    "# Example use\n",
    "@logged\n",
    "def add(x, y):\n",
    "    return x + y\n",
    "\n",
    "print(\"end\")\n",
    "\n",
    "@logged()\n",
    "def sub(x, y):\n",
    "    return x - y\n",
    "\n",
    "print(\"end\")\n",
    "\n",
    "@logged(level=logging.CRITICAL, name='example')\n",
    "def spam():\n",
    "    print('Spam!')\n",
    "\n",
    "print(\"end\")\n",
    "\n",
    "if __name__ == '__main__':\n",
    "    import logging\n",
    "    logging.basicConfig(level=logging.DEBUG)\n",
    "    add(2,3)\n",
    "    sub(2,3)\n",
    "    spam()"
   ],
   "metadata": {
    "collapsed": false,
    "pycharm": {
     "name": "#%%\n"
    }
   }
  },
  {
   "cell_type": "code",
   "execution_count": 21,
   "outputs": [],
   "source": [
    "class MyDecorator(object):\n",
    "\n",
    "    ok = \"ok\"\n",
    "\n",
    "    \"\"\"Decorator example mixing class and function definitions.\"\"\"\n",
    "    def __init__(self, func, param1, param2):\n",
    "        self.func = func\n",
    "        self.param1, self.param2 = param1, param2\n",
    "\n",
    "    def __call__(self, *args, **kwargs):\n",
    "        ...\n",
    "        #use self.param1\n",
    "        result = self.func(*args, **kwargs)\n",
    "        #use self.param2\n",
    "        return result\n",
    "\n",
    "    def ciao(self):\n",
    "        print(\"ciao\")\n",
    "\n",
    "def my_dec_factory(param1, param2):\n",
    "    def decorator(func):\n",
    "        ok = MyDecorator(func, param1, param2)\n",
    "        ok.ciao = func\n",
    "        return ok\n",
    "    return decorator"
   ],
   "metadata": {
    "collapsed": false,
    "pycharm": {
     "name": "#%%\n"
    }
   }
  },
  {
   "cell_type": "code",
   "execution_count": 22,
   "outputs": [],
   "source": [
    "@my_dec_factory(1, 2)\n",
    "def say_whee():\n",
    "    print(\"Whee!\")"
   ],
   "metadata": {
    "collapsed": false,
    "pycharm": {
     "name": "#%%\n"
    }
   }
  },
  {
   "cell_type": "code",
   "execution_count": 23,
   "outputs": [
    {
     "name": "stdout",
     "output_type": "stream",
     "text": [
      "Whee!\n"
     ]
    }
   ],
   "source": [
    "say_whee()"
   ],
   "metadata": {
    "collapsed": false,
    "pycharm": {
     "name": "#%%\n"
    }
   }
  },
  {
   "cell_type": "code",
   "execution_count": 24,
   "outputs": [
    {
     "name": "stdout",
     "output_type": "stream",
     "text": [
      "Whee!\n"
     ]
    },
    {
     "data": {
      "text/plain": "'ok'"
     },
     "execution_count": 24,
     "metadata": {},
     "output_type": "execute_result"
    }
   ],
   "source": [
    "say_whee.ciao()\n",
    "say_whee.ok"
   ],
   "metadata": {
    "collapsed": false,
    "pycharm": {
     "name": "#%%\n"
    }
   }
  },
  {
   "cell_type": "code",
   "execution_count": 1,
   "outputs": [
    {
     "data": {
      "text/plain": "[(0, 0),\n (0, 1),\n (0, 2),\n (0, 3),\n (0, 4),\n (0, 5),\n (0, 6),\n (0, 7),\n (0, 8),\n (0, 9),\n (1, 0),\n (1, 1),\n (1, 2),\n (1, 3),\n (1, 4),\n (1, 5),\n (1, 6),\n (1, 7),\n (1, 8),\n (1, 9),\n (2, 0),\n (2, 1),\n (2, 2),\n (2, 3),\n (2, 4),\n (2, 5),\n (2, 6),\n (2, 7),\n (2, 8),\n (2, 9),\n (3, 0),\n (3, 1),\n (3, 2),\n (3, 3),\n (3, 4),\n (3, 5),\n (3, 6),\n (3, 7),\n (3, 8),\n (3, 9),\n (4, 0),\n (4, 1),\n (4, 2),\n (4, 3),\n (4, 4),\n (4, 5),\n (4, 6),\n (4, 7),\n (4, 8),\n (4, 9),\n (5, 0),\n (5, 1),\n (5, 2),\n (5, 3),\n (5, 4),\n (5, 5),\n (5, 6),\n (5, 7),\n (5, 8),\n (5, 9),\n (6, 0),\n (6, 1),\n (6, 2),\n (6, 3),\n (6, 4),\n (6, 5),\n (6, 6),\n (6, 7),\n (6, 8),\n (6, 9)]"
     },
     "execution_count": 1,
     "metadata": {},
     "output_type": "execute_result"
    }
   ],
   "source": [
    "[(i, j) for i in range(7) for j in range(10)]"
   ],
   "metadata": {
    "collapsed": false,
    "pycharm": {
     "name": "#%%\n"
    }
   }
  },
  {
   "cell_type": "code",
   "execution_count": 12,
   "outputs": [
    {
     "name": "stdout",
     "output_type": "stream",
     "text": [
      "Requirement already satisfied: ray in /home/muttley/.pyenv/versions/3.8.12/envs/venv-3.8.12/lib/python3.8/site-packages (1.9.2)\r\n",
      "Requirement already satisfied: rx in /home/muttley/.pyenv/versions/3.8.12/envs/venv-3.8.12/lib/python3.8/site-packages (3.2.0)\r\n",
      "Collecting rxray\r\n",
      "  Using cached rxray-1.0.0.tar.gz (5.3 kB)\r\n",
      "Requirement already satisfied: protobuf>=3.15.3 in /home/muttley/.pyenv/versions/3.8.12/envs/venv-3.8.12/lib/python3.8/site-packages (from ray) (3.19.3)\r\n",
      "Requirement already satisfied: msgpack<2.0.0,>=1.0.0 in /home/muttley/.pyenv/versions/3.8.12/envs/venv-3.8.12/lib/python3.8/site-packages (from ray) (1.0.3)\r\n",
      "Requirement already satisfied: jsonschema in /home/muttley/.pyenv/versions/3.8.12/envs/venv-3.8.12/lib/python3.8/site-packages (from ray) (4.4.0)\r\n",
      "Requirement already satisfied: filelock in /home/muttley/.pyenv/versions/3.8.12/envs/venv-3.8.12/lib/python3.8/site-packages (from ray) (3.4.2)\r\n",
      "Requirement already satisfied: grpcio>=1.28.1 in /home/muttley/.pyenv/versions/3.8.12/envs/venv-3.8.12/lib/python3.8/site-packages (from ray) (1.43.0)\r\n",
      "Requirement already satisfied: numpy>=1.16 in /home/muttley/.pyenv/versions/3.8.12/envs/venv-3.8.12/lib/python3.8/site-packages (from ray) (1.22.0)\r\n",
      "Requirement already satisfied: attrs in /home/muttley/.pyenv/versions/3.8.12/envs/venv-3.8.12/lib/python3.8/site-packages (from ray) (21.4.0)\r\n",
      "Requirement already satisfied: pyyaml in /home/muttley/.pyenv/versions/3.8.12/envs/venv-3.8.12/lib/python3.8/site-packages (from ray) (6.0)\r\n",
      "Requirement already satisfied: click>=7.0 in /home/muttley/.pyenv/versions/3.8.12/envs/venv-3.8.12/lib/python3.8/site-packages (from ray) (8.0.3)\r\n",
      "Requirement already satisfied: redis>=3.5.0 in /home/muttley/.pyenv/versions/3.8.12/envs/venv-3.8.12/lib/python3.8/site-packages (from ray) (4.1.0)\r\n",
      "Requirement already satisfied: six>=1.5.2 in /home/muttley/.pyenv/versions/3.8.12/envs/venv-3.8.12/lib/python3.8/site-packages (from grpcio>=1.28.1->ray) (1.16.0)\r\n",
      "Requirement already satisfied: deprecated>=1.2.3 in /home/muttley/.pyenv/versions/3.8.12/envs/venv-3.8.12/lib/python3.8/site-packages (from redis>=3.5.0->ray) (1.2.13)\r\n",
      "Requirement already satisfied: packaging>=21.3 in /home/muttley/.pyenv/versions/3.8.12/envs/venv-3.8.12/lib/python3.8/site-packages (from redis>=3.5.0->ray) (21.3)\r\n",
      "Requirement already satisfied: wrapt<2,>=1.10 in /home/muttley/.pyenv/versions/3.8.12/envs/venv-3.8.12/lib/python3.8/site-packages (from deprecated>=1.2.3->redis>=3.5.0->ray) (1.13.3)\r\n",
      "Requirement already satisfied: pyparsing!=3.0.5,>=2.0.2 in /home/muttley/.pyenv/versions/3.8.12/envs/venv-3.8.12/lib/python3.8/site-packages (from packaging>=21.3->redis>=3.5.0->ray) (3.0.6)\r\n",
      "Requirement already satisfied: pyrsistent!=0.17.0,!=0.17.1,!=0.17.2,>=0.14.0 in /home/muttley/.pyenv/versions/3.8.12/envs/venv-3.8.12/lib/python3.8/site-packages (from jsonschema->ray) (0.18.0)\r\n",
      "Requirement already satisfied: importlib-resources>=1.4.0 in /home/muttley/.pyenv/versions/3.8.12/envs/venv-3.8.12/lib/python3.8/site-packages (from jsonschema->ray) (5.4.0)\r\n",
      "Requirement already satisfied: zipp>=3.1.0 in /home/muttley/.pyenv/versions/3.8.12/envs/venv-3.8.12/lib/python3.8/site-packages (from importlib-resources>=1.4.0->jsonschema->ray) (3.7.0)\r\n",
      "Using legacy 'setup.py install' for rxray, since package 'wheel' is not installed.\r\n",
      "Installing collected packages: rxray\r\n",
      "    Running setup.py install for rxray ... \u001B[?25ldone\r\n",
      "\u001B[?25hSuccessfully installed rxray-1.0.0\r\n",
      "\u001B[33mWARNING: You are using pip version 21.1.1; however, version 21.3.1 is available.\r\n",
      "You should consider upgrading via the '/home/muttley/.pyenv/versions/3.8.12/envs/venv-3.8.12/bin/python3.8 -m pip install --upgrade pip' command.\u001B[0m\r\n"
     ]
    }
   ],
   "source": [
    "!pip install ray rx rxray"
   ],
   "metadata": {
    "collapsed": false,
    "pycharm": {
     "name": "#%%\n"
    }
   }
  },
  {
   "cell_type": "code",
   "execution_count": 25,
   "outputs": [],
   "source": [
    "import random\n",
    "\n",
    "import rx\n",
    "import rx.operators as ops\n",
    "from rx.disposable import Disposable\n",
    "from rx.subject import Subject\n",
    "from rx.scheduler.eventloop import AsyncIOScheduler\n",
    "\n",
    "import ray, rxray"
   ],
   "metadata": {
    "collapsed": false,
    "pycharm": {
     "name": "#%%\n"
    }
   }
  },
  {
   "cell_type": "code",
   "execution_count": 28,
   "outputs": [
    {
     "data": {
      "text/plain": "[(3, 499.5),\n (7, 499.5),\n (15, 499.5),\n (11, 499.5),\n (8, 499.5),\n (12, 499.5),\n (4, 499.5),\n (16, 499.5),\n (0, 499.5),\n (13, 499.5),\n (5, 499.5),\n (9, 499.5),\n (1, 499.5),\n (2, 499.5),\n (10, 499.5),\n (14, 499.5),\n (6, 499.5)]"
     },
     "execution_count": 28,
     "metadata": {},
     "output_type": "execute_result"
    }
   ],
   "source": [
    "data = [(i, j) for i in range(17) for j in range(1000)]\n",
    "random.shuffle(data)\n",
    "ray.init()\n",
    "\n",
    "result = rx.from_(data).pipe(\n",
    "    rxray.distribute(\n",
    "        lambda: rx.pipe(\n",
    "            ops.group_by(lambda i: i[0]),\n",
    "            ops.flat_map(lambda g: g.pipe(\n",
    "                ops.map(lambda i: i[1]),\n",
    "                ops.average(),\n",
    "                ops.map(lambda i: (g.key, i)),\n",
    "            ))\n",
    "        ),\n",
    "        actor_selector=rxray.partition_by_key(lambda i: i[0]),\n",
    "    ),\n",
    "    ops.to_list(),\n",
    ").run()\n",
    "\n",
    "ray.shutdown()\n",
    "\n",
    "# check that items are ordered by key\n",
    "result"
   ],
   "metadata": {
    "collapsed": false,
    "pycharm": {
     "name": "#%%\n"
    }
   }
  },
  {
   "cell_type": "code",
   "execution_count": 59,
   "outputs": [],
   "source": [
    "ray.shutdown()"
   ],
   "metadata": {
    "collapsed": false,
    "pycharm": {
     "name": "#%%\n"
    }
   }
  },
  {
   "cell_type": "code",
   "execution_count": 76,
   "outputs": [
    {
     "name": "stdout",
     "output_type": "stream",
     "text": [
      "duration = 4.391823053359985\n"
     ]
    }
   ],
   "source": [
    "import time\n",
    "import ray\n",
    "import os\n",
    "import numpy as np\n",
    "\n",
    "from threading import current_thread\n",
    "\n",
    "start = time.time()\n",
    "\n",
    "def log(value: str):\n",
    "    print(f\"{time.time() - start:.3f} pid: {os.getpid()} {value}\")\n",
    "\n",
    "@ray.remote\n",
    "def no_work(a):\n",
    "    return\n",
    "\n",
    "a_id = ray.put(np.zeros((100000, 2000)))\n",
    "result_ids = [no_work.remote(a_id) for x in range(10)]\n",
    "results = ray.get(result_ids)\n",
    "print(\"duration =\", time.time() - start)\n",
    "\n",
    "ray.shutdown()"
   ],
   "metadata": {
    "collapsed": false,
    "pycharm": {
     "name": "#%%\n"
    }
   }
  },
  {
   "cell_type": "code",
   "execution_count": 77,
   "outputs": [
    {
     "data": {
      "text/plain": "['__annotations__',\n '__call__',\n '__class__',\n '__closure__',\n '__code__',\n '__defaults__',\n '__delattr__',\n '__dict__',\n '__dir__',\n '__doc__',\n '__eq__',\n '__format__',\n '__ge__',\n '__get__',\n '__getattribute__',\n '__globals__',\n '__gt__',\n '__hash__',\n '__init__',\n '__init_subclass__',\n '__kwdefaults__',\n '__le__',\n '__lt__',\n '__module__',\n '__name__',\n '__ne__',\n '__new__',\n '__qualname__',\n '__reduce__',\n '__reduce_ex__',\n '__repr__',\n '__setattr__',\n '__sizeof__',\n '__str__',\n '__subclasshook__']"
     },
     "execution_count": 77,
     "metadata": {},
     "output_type": "execute_result"
    }
   ],
   "source": [
    "def ciao():\n",
    "    return 1\n",
    "\n",
    "dir(ciao)"
   ],
   "metadata": {
    "collapsed": false,
    "pycharm": {
     "name": "#%%\n"
    }
   }
  },
  {
   "cell_type": "code",
   "execution_count": 78,
   "outputs": [
    {
     "data": {
      "text/plain": "['__call__',\n '__class__',\n '__delattr__',\n '__dict__',\n '__dir__',\n '__doc__',\n '__eq__',\n '__format__',\n '__ge__',\n '__getattribute__',\n '__gt__',\n '__hash__',\n '__init__',\n '__init_subclass__',\n '__le__',\n '__lt__',\n '__module__',\n '__ne__',\n '__new__',\n '__reduce__',\n '__reduce_ex__',\n '__repr__',\n '__setattr__',\n '__sizeof__',\n '__str__',\n '__subclasshook__',\n '__weakref__',\n '_accelerator_type',\n '_decorator',\n '_function',\n '_function_descriptor',\n '_function_name',\n '_function_signature',\n '_is_cross_language',\n '_language',\n '_last_export_session_and_job',\n '_max_calls',\n '_max_retries',\n '_memory',\n '_num_cpus',\n '_num_gpus',\n '_num_returns',\n '_object_store_memory',\n '_placement_group',\n '_remote',\n '_resources',\n '_retry_exceptions',\n '_runtime_env',\n '_uuid',\n 'options',\n 'remote']"
     },
     "execution_count": 78,
     "metadata": {},
     "output_type": "execute_result"
    }
   ],
   "source": [
    "@ray.remote\n",
    "def no_work(a):\n",
    "    return\n",
    "\n",
    "\n",
    "dir(no_work)"
   ],
   "metadata": {
    "collapsed": false,
    "pycharm": {
     "name": "#%%\n"
    }
   }
  },
  {
   "cell_type": "code",
   "execution_count": 17,
   "outputs": [
    {
     "name": "stdout",
     "output_type": "stream",
     "text": [
      "('param',)\n",
      "port\n",
      "{'param2': 'param2'}\n"
     ]
    }
   ],
   "source": [
    "def subscribe(*args, **kwargs):\n",
    "    print(args)\n",
    "\n",
    "    if 'port' in kwargs:\n",
    "        print(kwargs['port'])\n",
    "        del kwargs['port']\n",
    "    print(kwargs)\n",
    "\n",
    "\n",
    "subscribe(\"param\", param2=\"param2\", port=\"port\")"
   ],
   "metadata": {
    "collapsed": false,
    "pycharm": {
     "name": "#%%\n"
    }
   }
  },
  {
   "cell_type": "markdown",
   "source": [],
   "metadata": {
    "collapsed": false
   }
  },
  {
   "cell_type": "code",
   "execution_count": 19,
   "outputs": [
    {
     "name": "stdout",
     "output_type": "stream",
     "text": [
      "dispose1\n",
      "dispose2\n",
      "dispose3\n"
     ]
    }
   ],
   "source": [
    "from rx.disposable import Disposable, CompositeDisposable\n",
    "\n",
    "a = CompositeDisposable(Disposable(\n",
    "    lambda: print(\"dispose1\")),\n",
    "    CompositeDisposable(\n",
    "        Disposable(lambda: print(\"dispose2\")),\n",
    "                        Disposable(lambda: print(\"dispose3\")))\n",
    ")\n",
    "\n",
    "a.dispose()\n"
   ],
   "metadata": {
    "collapsed": false,
    "pycharm": {
     "name": "#%%\n"
    }
   }
  },
  {
   "cell_type": "code",
   "execution_count": 46,
   "outputs": [
    {
     "data": {
      "text/plain": "Point(x=1, y=2)"
     },
     "execution_count": 46,
     "metadata": {},
     "output_type": "execute_result"
    }
   ],
   "source": [
    "from dataclasses import dataclass\n",
    "\n",
    "@dataclass(frozen=True)\n",
    "class PortClass:\n",
    "    default: str\n",
    "    p2p: str\n",
    "\n",
    "test = PortClass(\"A\", \"B\")\n",
    "\n",
    "from typing import NamedTuple\n",
    "\n",
    "PortTuple = NamedTuple(\"Point\", [('x', int), ('y', int)])\n",
    "\n",
    "PortTuple(x=1, y=2)"
   ],
   "metadata": {
    "collapsed": false,
    "pycharm": {
     "name": "#%%\n"
    }
   }
  },
  {
   "cell_type": "code",
   "execution_count": 44,
   "outputs": [
    {
     "ename": "FrozenInstanceError",
     "evalue": "cannot assign to field 'casa'",
     "output_type": "error",
     "traceback": [
      "\u001B[0;31m---------------------------------------------------------------------------\u001B[0m",
      "\u001B[0;31mFrozenInstanceError\u001B[0m                       Traceback (most recent call last)",
      "Input \u001B[0;32mIn [44]\u001B[0m, in \u001B[0;36m<module>\u001B[0;34m\u001B[0m\n\u001B[0;32m----> 1\u001B[0m test\u001B[38;5;241m.\u001B[39mcasa \u001B[38;5;241m=\u001B[39m \u001B[38;5;124m\"\u001B[39m\u001B[38;5;124mOK\u001B[39m\u001B[38;5;124m\"\u001B[39m\n",
      "File \u001B[0;32m<string>:4\u001B[0m, in \u001B[0;36m__setattr__\u001B[0;34m(self, name, value)\u001B[0m\n",
      "\u001B[0;31mFrozenInstanceError\u001B[0m: cannot assign to field 'casa'"
     ]
    }
   ],
   "source": [
    "test.casa = \"OK\""
   ],
   "metadata": {
    "collapsed": false,
    "pycharm": {
     "name": "#%%\n"
    }
   }
  },
  {
   "cell_type": "code",
   "execution_count": 34,
   "outputs": [
    {
     "data": {
      "text/plain": "'casa'"
     },
     "execution_count": 34,
     "metadata": {},
     "output_type": "execute_result"
    }
   ],
   "source": [
    "ciao1.name"
   ],
   "metadata": {
    "collapsed": false,
    "pycharm": {
     "name": "#%%\n"
    }
   }
  },
  {
   "cell_type": "code",
   "execution_count": 1,
   "outputs": [
    {
     "name": "stdout",
     "output_type": "stream",
     "text": [
      "A ops call 1\n",
      "B ops call 1\n",
      "A ops call 2\n",
      "B ops call 2\n",
      "SUBSCRIBE\n",
      "B ops call 3 - subscribe\n",
      "A ops call 3 - subscribe\n",
      "A ops call 4 - value throught\n",
      "B ops call 4 - value throught\n",
      "1\n",
      "A ops call 4 - value throught\n",
      "B ops call 4 - value throught\n",
      "2\n",
      "A ops call 4 - value throught\n",
      "B ops call 4 - value throught\n",
      "3\n",
      "A ops call 4 - value throught\n",
      "B ops call 4 - value throught\n",
      "4\n",
      "A ops call 4 - value throught\n",
      "B ops call 4 - value throught\n",
      "5\n"
     ]
    }
   ],
   "source": [
    "import rx\n",
    "import rx.operators as ops\n",
    "from rx.disposable import Disposable, CompositeDisposable\n",
    "from rx.subject import Subject\n",
    "\n",
    "\"\"\" UNDERSTAND PIPE, OPERATORS, CALLING ORDER \"\"\"\n",
    "\n",
    "def fake_ops(tag):\n",
    "    print(f\"{tag} ops call 1\")\n",
    "    def _fake_ops(source):\n",
    "        print(f\"{tag} ops call 2\")\n",
    "        def subscribe(observer, scheduler = None):\n",
    "            print(f\"{tag} ops call 3 - subscribe\")\n",
    "            def on_next(value):\n",
    "                print(f\"{tag} ops call 4 - value throught\")\n",
    "                observer.on_next(value)\n",
    "\n",
    "            return source.subscribe(\n",
    "                on_next,\n",
    "                observer.on_error,\n",
    "                observer.on_completed,\n",
    "                scheduler)\n",
    "        return rx.create(subscribe)\n",
    "    return _fake_ops\n",
    "\n",
    "test = rx.of(1, 2, 3, 4, 5).pipe(fake_ops(\"A\"), fake_ops(\"B\"))\n",
    "print(\"SUBSCRIBE\")\n",
    "dispose = test.subscribe(print)\n",
    "dispose.dispose()"
   ],
   "metadata": {
    "collapsed": false,
    "pycharm": {
     "name": "#%%\n"
    }
   }
  },
  {
   "cell_type": "code",
   "execution_count": 4,
   "outputs": [
    {
     "name": "stdout",
     "output_type": "stream",
     "text": [
      "subscribe\n",
      "lowercase\n",
      "(4662) on next: a | IO\n",
      "(4662) on next: b | IO\n",
      "fake_observable\n",
      "dispose\n",
      "lowercase operator: DISPOSED\n",
      "fake_observable: DISPOSED\n"
     ]
    }
   ],
   "source": [
    "\"\"\" HOW DISPOSE WORKS \"\"\"\n",
    "\n",
    "def fake_obseravable():\n",
    "    def on_subscribe(observer, scheduler):\n",
    "        observer.on_next(\"A\")\n",
    "        observer.on_next(\"B\")\n",
    "\n",
    "        def dispose():\n",
    "            print(\"fake_observable: DISPOSED\")\n",
    "\n",
    "        print(\"fake_observable\")\n",
    "\n",
    "        return Disposable(dispose)\n",
    "\n",
    "    return rx.create(on_subscribe)\n",
    "\n",
    "def lowercase():\n",
    "    def _lowercase(source):\n",
    "        def subscribe(observer, scheduler = None):\n",
    "            def on_next(value):\n",
    "                observer.on_next(value.lower())\n",
    "\n",
    "            def dispose():\n",
    "                print(\"lowercase operator: DISPOSED\")\n",
    "\n",
    "            print(\"lowercase\")\n",
    "\n",
    "            subscribe = source.subscribe(\n",
    "                on_next,\n",
    "                observer.on_error,\n",
    "                observer.on_completed,\n",
    "                scheduler)\n",
    "\n",
    "            return CompositeDisposable(Disposable(dispose), subscribe)\n",
    "        return rx.create(subscribe)\n",
    "    return _lowercase\n",
    "\n",
    "from mape.utils import LogObserver\n",
    "\n",
    "print(\"subscribe\")\n",
    "a = fake_obseravable().pipe(lowercase()).subscribe(LogObserver(\"IO\"))\n",
    "print(\"dispose\")\n",
    "a.dispose()"
   ],
   "metadata": {
    "collapsed": false,
    "pycharm": {
     "name": "#%%\n"
    }
   }
  },
  {
   "cell_type": "code",
   "execution_count": 12,
   "outputs": [
    {
     "name": "stdout",
     "output_type": "stream",
     "text": [
      "subscribe\n",
      "connect\n",
      "a\n",
      "b\n",
      "dispose subscribe\n",
      "dispose connect\n",
      "lowercase operator: DISPOSED\n",
      "fake_observable: DISPOSED\n"
     ]
    }
   ],
   "source": [
    "\"\"\" How ConnectableObservable/Multicast/publish NOT propagate dispose to Observable \"\"\"\n",
    "\n",
    "import mape\n",
    "test = mape.BaseMapeElement2()\n",
    "\n",
    "connectable_observable = fake_obseravable().pipe(lowercase(), ops.multicast(test))\n",
    "print(\"subscribe\")\n",
    "a = test.subscribe(print)\n",
    "print(\"connect\")\n",
    "dispose = connectable_observable.connect()\n",
    "print(\"dispose subscribe\")\n",
    "a.dispose()\n",
    "print(\"dispose connect\")\n",
    "dispose.dispose()\n"
   ],
   "metadata": {
    "collapsed": false,
    "pycharm": {
     "name": "#%%\n"
    }
   }
  },
  {
   "cell_type": "code",
   "execution_count": 17,
   "outputs": [
    {
     "name": "stdout",
     "output_type": "stream",
     "text": [
      "2\n",
      "6\n"
     ]
    }
   ],
   "source": [
    "ciao = Subject()\n",
    "\n",
    "a = ciao.pipe(ops.publish())\n",
    "sub = a.subscribe(print)\n",
    "ciao.on_next(1)\n",
    "b = a.connect()\n",
    "ciao.on_next(2)\n",
    "sub.dispose()\n",
    "ciao.on_next(3)\n",
    "b.dispose()\n",
    "ciao.on_next(4)\n",
    "a.subscribe(print)\n",
    "ciao.on_next(5)\n",
    "b = a.connect()\n",
    "ciao.on_next(6)"
   ],
   "metadata": {
    "collapsed": false,
    "pycharm": {
     "name": "#%%\n"
    }
   }
  },
  {
   "cell_type": "code",
   "execution_count": 49,
   "outputs": [
    {
     "name": "stdout",
     "output_type": "stream",
     "text": [
      "cia1o 2\n",
      "ciao cia1o\n",
      "bau 2\n"
     ]
    }
   ],
   "source": [
    "import inspect\n",
    "\n",
    "def test_func(*, ciao: str =\"cia1o\", bau=2):\n",
    "    print(ciao, bau)\n",
    "    pass\n",
    "\n",
    "test_func()\n",
    "test_func.__code__.co_code\n",
    "test_func.__annotations__\n",
    "\n",
    "for param in inspect.signature(test_func).parameters.values():\n",
    "    print(param.name, param.default)"
   ],
   "metadata": {
    "collapsed": false,
    "pycharm": {
     "name": "#%%\n"
    }
   }
  },
  {
   "cell_type": "code",
   "execution_count": 50,
   "outputs": [
    {
     "name": "stdout",
     "output_type": "stream",
     "text": [
      "Collecting aioredis\r\n",
      "  Downloading aioredis-2.0.1-py3-none-any.whl (71 kB)\r\n",
      "\u001B[K     |████████████████████████████████| 71 kB 7.8 MB/s  eta 0:00:01\r\n",
      "\u001B[?25hRequirement already satisfied: typing-extensions in /home/muttley/.pyenv/versions/3.8.12/envs/venv-3.8.12/lib/python3.8/site-packages (from aioredis) (4.0.1)\r\n",
      "Collecting async-timeout\r\n",
      "  Downloading async_timeout-4.0.2-py3-none-any.whl (5.8 kB)\r\n",
      "Installing collected packages: async-timeout, aioredis\r\n",
      "Successfully installed aioredis-2.0.1 async-timeout-4.0.2\r\n",
      "\u001B[33mWARNING: You are using pip version 21.1.1; however, version 21.3.1 is available.\r\n",
      "You should consider upgrading via the '/home/muttley/.pyenv/versions/3.8.12/envs/venv-3.8.12/bin/python3.8 -m pip install --upgrade pip' command.\u001B[0m\r\n"
     ]
    }
   ],
   "source": [
    "!pip install aioredis"
   ],
   "metadata": {
    "collapsed": false,
    "pycharm": {
     "name": "#%%\n"
    }
   }
  },
  {
   "cell_type": "code",
   "execution_count": 2,
   "outputs": [
    {
     "name": "stdout",
     "output_type": "stream",
     "text": [
      "{'ok2': True, 'boh': 3}\n"
     ]
    }
   ],
   "source": [
    "import asyncio\n",
    "import pickle\n",
    "import mape\n",
    "\n",
    "import nest_asyncio\n",
    "nest_asyncio.apply()\n",
    "\n",
    "import aioredis\n",
    "\n",
    "class Bau:\n",
    "    def __init__(self, boh) -> None:\n",
    "        self.ok2 = True\n",
    "        self.boh = boh\n",
    "\n",
    "class Ciao:\n",
    "    def __init__(self) -> None:\n",
    "        super().__init__()\n",
    "        self.ok = True\n",
    "        self.bau = Bau(3)\n",
    "\n",
    "async def main():\n",
    "    redis = aioredis.from_url(\"redis://localhost\")\n",
    "    pickled_object = pickle.dumps(Ciao())\n",
    "    await redis.set(\"my-key\", pickled_object)\n",
    "    unpacked_object = pickle.loads(await redis.get(\"my-key\"))\n",
    "    print(vars(unpacked_object.bau))\n",
    "\n",
    "\n",
    "asyncio.run(main())"
   ],
   "metadata": {
    "collapsed": false,
    "pycharm": {
     "name": "#%%\n"
    }
   }
  },
  {
   "cell_type": "code",
   "execution_count": 17,
   "outputs": [
    {
     "ename": "TypeError",
     "evalue": "'Observable' object is not callable",
     "output_type": "error",
     "traceback": [
      "\u001B[0;31m---------------------------------------------------------------------------\u001B[0m",
      "\u001B[0;31mTypeError\u001B[0m                                 Traceback (most recent call last)",
      "Input \u001B[0;32mIn [17]\u001B[0m, in \u001B[0;36m<module>\u001B[0;34m\u001B[0m\n\u001B[0;32m----> 1\u001B[0m \u001B[43mrx\u001B[49m\u001B[38;5;241;43m.\u001B[39;49m\u001B[43mof\u001B[49m\u001B[43m(\u001B[49m\u001B[38;5;241;43m1\u001B[39;49m\u001B[43m,\u001B[49m\u001B[38;5;241;43m2\u001B[39;49m\u001B[43m,\u001B[49m\u001B[38;5;241;43m3\u001B[39;49m\u001B[43m,\u001B[49m\u001B[38;5;241;43m4\u001B[39;49m\u001B[43m,\u001B[49m\u001B[38;5;241;43m5\u001B[39;49m\u001B[43m)\u001B[49m\u001B[38;5;241;43m.\u001B[39;49m\u001B[43mpipe\u001B[49m\u001B[43m(\u001B[49m\u001B[43mciao\u001B[49m\u001B[43m(\u001B[49m\u001B[43mparam\u001B[49m\u001B[38;5;241;43m=\u001B[39;49m\u001B[43mrx\u001B[49m\u001B[38;5;241;43m.\u001B[39;49m\u001B[43mpipe\u001B[49m\u001B[43m(\u001B[49m\u001B[43mrx\u001B[49m\u001B[38;5;241;43m.\u001B[39;49m\u001B[43mempty\u001B[49m\u001B[43m(\u001B[49m\u001B[43m)\u001B[49m\u001B[43m)\u001B[49m\u001B[43m)\u001B[49m\u001B[43m)\u001B[49m\u001B[38;5;241m.\u001B[39msubscribe(\u001B[38;5;28mprint\u001B[39m)\n",
      "File \u001B[0;32m~/.pyenv/versions/3.8.12/envs/venv-3.8.12/lib/python3.8/site-packages/rx/core/observable/observable.py:265\u001B[0m, in \u001B[0;36mObservable.pipe\u001B[0;34m(self, *operators)\u001B[0m\n\u001B[1;32m    246\u001B[0m \u001B[38;5;124;03m\"\"\"Compose multiple operators left to right.\u001B[39;00m\n\u001B[1;32m    247\u001B[0m \n\u001B[1;32m    248\u001B[0m \u001B[38;5;124;03mComposes zero or more operators into a functional composition.\u001B[39;00m\n\u001B[0;32m   (...)\u001B[0m\n\u001B[1;32m    262\u001B[0m \u001B[38;5;124;03m     The composed observable.\u001B[39;00m\n\u001B[1;32m    263\u001B[0m \u001B[38;5;124;03m\"\"\"\u001B[39;00m\n\u001B[1;32m    264\u001B[0m \u001B[38;5;28;01mfrom\u001B[39;00m \u001B[38;5;21;01m.\u001B[39;00m\u001B[38;5;21;01m.\u001B[39;00m\u001B[38;5;21;01mpipe\u001B[39;00m \u001B[38;5;28;01mimport\u001B[39;00m pipe\n\u001B[0;32m--> 265\u001B[0m \u001B[38;5;28;01mreturn\u001B[39;00m \u001B[43mpipe\u001B[49m\u001B[43m(\u001B[49m\u001B[38;5;241;43m*\u001B[39;49m\u001B[43moperators\u001B[49m\u001B[43m)\u001B[49m\u001B[43m(\u001B[49m\u001B[38;5;28;43mself\u001B[39;49m\u001B[43m)\u001B[49m\n",
      "File \u001B[0;32m~/.pyenv/versions/3.8.12/envs/venv-3.8.12/lib/python3.8/site-packages/rx/core/pipe.py:106\u001B[0m, in \u001B[0;36mpipe.<locals>.compose\u001B[0;34m(source)\u001B[0m\n\u001B[1;32m    105\u001B[0m \u001B[38;5;28;01mdef\u001B[39;00m \u001B[38;5;21mcompose\u001B[39m(source: Any) \u001B[38;5;241m-\u001B[39m\u001B[38;5;241m>\u001B[39m Any:\n\u001B[0;32m--> 106\u001B[0m     \u001B[38;5;28;01mreturn\u001B[39;00m \u001B[43mreduce\u001B[49m\u001B[43m(\u001B[49m\u001B[38;5;28;43;01mlambda\u001B[39;49;00m\u001B[43m \u001B[49m\u001B[43mobs\u001B[49m\u001B[43m,\u001B[49m\u001B[43m \u001B[49m\u001B[43mop\u001B[49m\u001B[43m:\u001B[49m\u001B[43m \u001B[49m\u001B[43mop\u001B[49m\u001B[43m(\u001B[49m\u001B[43mobs\u001B[49m\u001B[43m)\u001B[49m\u001B[43m,\u001B[49m\u001B[43m \u001B[49m\u001B[43moperators\u001B[49m\u001B[43m,\u001B[49m\u001B[43m \u001B[49m\u001B[43msource\u001B[49m\u001B[43m)\u001B[49m\n",
      "File \u001B[0;32m~/.pyenv/versions/3.8.12/envs/venv-3.8.12/lib/python3.8/site-packages/rx/core/pipe.py:106\u001B[0m, in \u001B[0;36mpipe.<locals>.compose.<locals>.<lambda>\u001B[0;34m(obs, op)\u001B[0m\n\u001B[1;32m    105\u001B[0m \u001B[38;5;28;01mdef\u001B[39;00m \u001B[38;5;21mcompose\u001B[39m(source: Any) \u001B[38;5;241m-\u001B[39m\u001B[38;5;241m>\u001B[39m Any:\n\u001B[0;32m--> 106\u001B[0m     \u001B[38;5;28;01mreturn\u001B[39;00m reduce(\u001B[38;5;28;01mlambda\u001B[39;00m obs, op: \u001B[43mop\u001B[49m\u001B[43m(\u001B[49m\u001B[43mobs\u001B[49m\u001B[43m)\u001B[49m, operators, source)\n",
      "File \u001B[0;32m~/.pyenv/versions/3.8.12/envs/venv-3.8.12/lib/python3.8/site-packages/rx/core/pipe.py:106\u001B[0m, in \u001B[0;36mpipe.<locals>.compose\u001B[0;34m(source)\u001B[0m\n\u001B[1;32m    105\u001B[0m \u001B[38;5;28;01mdef\u001B[39;00m \u001B[38;5;21mcompose\u001B[39m(source: Any) \u001B[38;5;241m-\u001B[39m\u001B[38;5;241m>\u001B[39m Any:\n\u001B[0;32m--> 106\u001B[0m     \u001B[38;5;28;01mreturn\u001B[39;00m \u001B[43mreduce\u001B[49m\u001B[43m(\u001B[49m\u001B[38;5;28;43;01mlambda\u001B[39;49;00m\u001B[43m \u001B[49m\u001B[43mobs\u001B[49m\u001B[43m,\u001B[49m\u001B[43m \u001B[49m\u001B[43mop\u001B[49m\u001B[43m:\u001B[49m\u001B[43m \u001B[49m\u001B[43mop\u001B[49m\u001B[43m(\u001B[49m\u001B[43mobs\u001B[49m\u001B[43m)\u001B[49m\u001B[43m,\u001B[49m\u001B[43m \u001B[49m\u001B[43moperators\u001B[49m\u001B[43m,\u001B[49m\u001B[43m \u001B[49m\u001B[43msource\u001B[49m\u001B[43m)\u001B[49m\n",
      "File \u001B[0;32m~/.pyenv/versions/3.8.12/envs/venv-3.8.12/lib/python3.8/site-packages/rx/core/pipe.py:106\u001B[0m, in \u001B[0;36mpipe.<locals>.compose.<locals>.<lambda>\u001B[0;34m(obs, op)\u001B[0m\n\u001B[1;32m    105\u001B[0m \u001B[38;5;28;01mdef\u001B[39;00m \u001B[38;5;21mcompose\u001B[39m(source: Any) \u001B[38;5;241m-\u001B[39m\u001B[38;5;241m>\u001B[39m Any:\n\u001B[0;32m--> 106\u001B[0m     \u001B[38;5;28;01mreturn\u001B[39;00m reduce(\u001B[38;5;28;01mlambda\u001B[39;00m obs, op: \u001B[43mop\u001B[49m\u001B[43m(\u001B[49m\u001B[43mobs\u001B[49m\u001B[43m)\u001B[49m, operators, source)\n",
      "File \u001B[0;32m~/.pyenv/versions/3.8.12/envs/venv-3.8.12/lib/python3.8/site-packages/rx/core/pipe.py:106\u001B[0m, in \u001B[0;36mpipe.<locals>.compose\u001B[0;34m(source)\u001B[0m\n\u001B[1;32m    105\u001B[0m \u001B[38;5;28;01mdef\u001B[39;00m \u001B[38;5;21mcompose\u001B[39m(source: Any) \u001B[38;5;241m-\u001B[39m\u001B[38;5;241m>\u001B[39m Any:\n\u001B[0;32m--> 106\u001B[0m     \u001B[38;5;28;01mreturn\u001B[39;00m \u001B[43mreduce\u001B[49m\u001B[43m(\u001B[49m\u001B[38;5;28;43;01mlambda\u001B[39;49;00m\u001B[43m \u001B[49m\u001B[43mobs\u001B[49m\u001B[43m,\u001B[49m\u001B[43m \u001B[49m\u001B[43mop\u001B[49m\u001B[43m:\u001B[49m\u001B[43m \u001B[49m\u001B[43mop\u001B[49m\u001B[43m(\u001B[49m\u001B[43mobs\u001B[49m\u001B[43m)\u001B[49m\u001B[43m,\u001B[49m\u001B[43m \u001B[49m\u001B[43moperators\u001B[49m\u001B[43m,\u001B[49m\u001B[43m \u001B[49m\u001B[43msource\u001B[49m\u001B[43m)\u001B[49m\n",
      "File \u001B[0;32m~/.pyenv/versions/3.8.12/envs/venv-3.8.12/lib/python3.8/site-packages/rx/core/pipe.py:106\u001B[0m, in \u001B[0;36mpipe.<locals>.compose.<locals>.<lambda>\u001B[0;34m(obs, op)\u001B[0m\n\u001B[1;32m    105\u001B[0m \u001B[38;5;28;01mdef\u001B[39;00m \u001B[38;5;21mcompose\u001B[39m(source: Any) \u001B[38;5;241m-\u001B[39m\u001B[38;5;241m>\u001B[39m Any:\n\u001B[0;32m--> 106\u001B[0m     \u001B[38;5;28;01mreturn\u001B[39;00m reduce(\u001B[38;5;28;01mlambda\u001B[39;00m obs, op: \u001B[43mop\u001B[49m\u001B[43m(\u001B[49m\u001B[43mobs\u001B[49m\u001B[43m)\u001B[49m, operators, source)\n",
      "\u001B[0;31mTypeError\u001B[0m: 'Observable' object is not callable"
     ]
    }
   ],
   "source": [
    "import asyncio\n",
    "\n",
    "import async_timeout\n",
    "\n",
    "import aioredis\n",
    "\n",
    "STOPWORD = \"STOP\"\n",
    "\n",
    "\n",
    "async def reader(channel: aioredis.client.PubSub):\n",
    "    while True:\n",
    "        try:\n",
    "            # async with async_timeout.timeout(1):\n",
    "            message = await channel.get_message(ignore_subscribe_messages=True)\n",
    "            if message is not None:\n",
    "                print(f\"(Reader) Message Received: {message}\")\n",
    "                if message[\"data\"].decode() == STOPWORD:\n",
    "                    print(\"(Reader) STOP\")\n",
    "                    break\n",
    "            await asyncio.sleep(0.01)\n",
    "        except asyncio.TimeoutError:\n",
    "            pass\n",
    "\n",
    "\n",
    "async def main():\n",
    "    redis = aioredis.from_url(\"redis://localhost\")\n",
    "    pubsub = redis.pubsub()\n",
    "    await pubsub.subscribe(\"channel:1\", \"channel:2\")\n",
    "\n",
    "    future = asyncio.create_task(reader(pubsub))\n",
    "\n",
    "    await redis.publish(\"channel:1\", \"Hello\")\n",
    "    await asyncio.sleep(4)\n",
    "    await redis.publish(\"channel:2\", \"World\")\n",
    "    await redis.publish(\"channel:1\", STOPWORD)\n",
    "\n",
    "    await future\n",
    "\n",
    "\n",
    "if __name__ == \"__main__\":\n",
    "    asyncio.run(main())"
   ],
   "metadata": {
    "collapsed": false,
    "pycharm": {
     "name": "#%%\n"
    }
   }
  },
  {
   "cell_type": "code",
   "execution_count": 3,
   "outputs": [
    {
     "name": "stdout",
     "output_type": "stream",
     "text": [
      "(Reader) Message Received: {'type': 'message', 'pattern': None, 'channel': b'channel:1', 'data': b'Hello'}\n",
      "(Reader) Message Received: {'type': 'message', 'pattern': None, 'channel': b'channel:2', 'data': b'World'}\n",
      "(Reader) Message Received: {'type': 'message', 'pattern': None, 'channel': b'channel:1', 'data': b'STOP'}\n",
      "(Reader) STOP\n"
     ]
    }
   ],
   "source": [
    "!pip3 install pynput"
   ],
   "metadata": {
    "collapsed": false,
    "pycharm": {
     "name": "#%%\n"
    }
   }
  },
  {
   "cell_type": "code",
   "execution_count": 8,
   "outputs": [
    {
     "name": "stdout",
     "output_type": "stream",
     "text": [
      "Collecting pynput\r\n",
      "  Downloading pynput-1.7.6-py2.py3-none-any.whl (89 kB)\r\n",
      "\u001B[K     |████████████████████████████████| 89 kB 5.1 MB/s eta 0:00:011\r\n",
      "\u001B[?25hCollecting python-xlib>=0.17\r\n",
      "  Downloading python_xlib-0.31-py2.py3-none-any.whl (179 kB)\r\n",
      "\u001B[K     |████████████████████████████████| 179 kB 11.5 MB/s eta 0:00:01\r\n",
      "\u001B[?25hRequirement already satisfied: six in /home/muttley/.pyenv/versions/3.8.12/envs/venv-3.8.12/lib/python3.8/site-packages (from pynput) (1.16.0)\r\n",
      "Collecting evdev>=1.3\r\n",
      "  Downloading evdev-1.4.0.tar.gz (26 kB)\r\n",
      "Using legacy 'setup.py install' for evdev, since package 'wheel' is not installed.\r\n",
      "Installing collected packages: python-xlib, evdev, pynput\r\n",
      "    Running setup.py install for evdev ... \u001B[?25ldone\r\n",
      "\u001B[?25hSuccessfully installed evdev-1.4.0 pynput-1.7.6 python-xlib-0.31\r\n",
      "\u001B[33mWARNING: You are using pip version 21.1.1; however, version 21.3.1 is available.\r\n",
      "You should consider upgrading via the '/home/muttley/.pyenv/versions/3.8.12/envs/venv-3.8.12/bin/python3.8 -m pip install --upgrade pip' command.\u001B[0m\r\n"
     ]
    }
   ],
   "source": [
    " \"\"\" Keyboard input in separate thread \"\"\"\n",
    "\n",
    " from pynput.keyboard import Key, Listener\n",
    "\n",
    "    def show(key):\n",
    "\n",
    "        if key == Key.tab:\n",
    "            print(\"good\")\n",
    "\n",
    "        if key != Key.tab:\n",
    "            print(\"try again\")\n",
    "\n",
    "        # by pressing 'delete' button\n",
    "        # you can terminate the loop\n",
    "        if key == Key.delete:\n",
    "            return False\n",
    "\n",
    "    # Collect all event until released\n",
    "    listener = Listener(on_press=show, suppress=True)\n",
    "    listener.start()"
   ],
   "metadata": {
    "collapsed": false,
    "pycharm": {
     "name": "#%%\n"
    }
   }
  },
  {
   "cell_type": "code",
   "execution_count": null,
   "outputs": [],
   "source": [
    "def test(uno, due, tre=False, quattro=False):\n",
    "    print(uno, due, tre, quattro)\n",
    "\n",
    "import functools\n",
    "\n",
    "new_test = functools.partial(test, *args, **kwarg)\n",
    "\n",
    "new_test(True)"
   ],
   "metadata": {
    "collapsed": false,
    "pycharm": {
     "name": "#%%\n"
    }
   }
  },
  {
   "cell_type": "code",
   "execution_count": 28,
   "outputs": [
    {
     "ename": "NameError",
     "evalue": "name 'args' is not defined",
     "output_type": "error",
     "traceback": [
      "\u001B[0;31m---------------------------------------------------------------------------\u001B[0m",
      "\u001B[0;31mNameError\u001B[0m                                 Traceback (most recent call last)",
      "Input \u001B[0;32mIn [28]\u001B[0m, in \u001B[0;36m<module>\u001B[0;34m\u001B[0m\n\u001B[1;32m      2\u001B[0m     \u001B[38;5;28mprint\u001B[39m(uno, due, tre, quattro)\n\u001B[1;32m      4\u001B[0m \u001B[38;5;28;01mimport\u001B[39;00m \u001B[38;5;21;01mfunctools\u001B[39;00m\n\u001B[0;32m----> 6\u001B[0m new_test \u001B[38;5;241m=\u001B[39m functools\u001B[38;5;241m.\u001B[39mpartial(test, \u001B[38;5;241m*\u001B[39m\u001B[43margs\u001B[49m, \u001B[38;5;241m*\u001B[39m\u001B[38;5;241m*\u001B[39mkwarg)\n\u001B[1;32m      8\u001B[0m new_test(\u001B[38;5;28;01mTrue\u001B[39;00m)\n",
      "\u001B[0;31mNameError\u001B[0m: name 'args' is not defined"
     ]
    }
   ],
   "source": [
    "\n",
    "assert sdsdciao, \"A title must be provided for OpenAPI, e.g.: 'My API'\"\n",
    "preint(\"ciao\")"
   ],
   "metadata": {
    "collapsed": false,
    "pycharm": {
     "name": "#%%\n"
    }
   }
  },
  {
   "cell_type": "code",
   "execution_count": 32,
   "outputs": [
    {
     "ename": "NameError",
     "evalue": "name 'sdsdciao' is not defined",
     "output_type": "error",
     "traceback": [
      "\u001B[0;31m---------------------------------------------------------------------------\u001B[0m",
      "\u001B[0;31mNameError\u001B[0m                                 Traceback (most recent call last)",
      "Input \u001B[0;32mIn [32]\u001B[0m, in \u001B[0;36m<module>\u001B[0;34m\u001B[0m\n\u001B[0;32m----> 1\u001B[0m \u001B[38;5;28;01massert\u001B[39;00m \u001B[43msdsdciao\u001B[49m, \u001B[38;5;124m\"\u001B[39m\u001B[38;5;124mA title must be provided for OpenAPI, e.g.: \u001B[39m\u001B[38;5;124m'\u001B[39m\u001B[38;5;124mMy API\u001B[39m\u001B[38;5;124m'\u001B[39m\u001B[38;5;124m\"\u001B[39m\n\u001B[1;32m      2\u001B[0m preint(\u001B[38;5;124m\"\u001B[39m\u001B[38;5;124mciao\u001B[39m\u001B[38;5;124m\"\u001B[39m)\n",
      "\u001B[0;31mNameError\u001B[0m: name 'sdsdciao' is not defined"
     ]
    }
   ],
   "source": [
    "from enum import Flag\n",
    "class Debug(Flag):\n",
    "    DISABLE = 0\n",
    "    IN = 1\n",
    "    OUT = 2\n",
    "\n",
    "ciao = Debug.OUT | Debug.IN\n",
    "\n",
    "Debug.DISABLE in ciao"
   ],
   "metadata": {
    "collapsed": false,
    "pycharm": {
     "name": "#%%\n"
    }
   }
  },
  {
   "cell_type": "code",
   "execution_count": 43,
   "outputs": [
    {
     "data": {
      "text/plain": "True"
     },
     "execution_count": 43,
     "metadata": {},
     "output_type": "execute_result"
    }
   ],
   "source": [
    "class A:\n",
    "    prefix = 'A'\n",
    "\n",
    "class B(A):\n",
    "    prefix = 'B'\n",
    "    def __init__(self) -> None:\n",
    "        self.prefix = 'sadsad'\n",
    "        print(B.prefix, self.prefix, A.prefix)\n",
    "        super().__init__()\n",
    "\n",
    "class C(B):\n",
    "    pass\n",
    "\n",
    "c = C()\n",
    "isinstance(c,Debug)"
   ],
   "metadata": {
    "collapsed": false,
    "pycharm": {
     "name": "#%%\n"
    }
   }
  },
  {
   "cell_type": "code",
   "execution_count": 57,
   "outputs": [
    {
     "name": "stdout",
     "output_type": "stream",
     "text": [
      "B sadsad A\n"
     ]
    },
    {
     "data": {
      "text/plain": "False"
     },
     "execution_count": 57,
     "metadata": {},
     "output_type": "execute_result"
    }
   ],
   "source": [
    "!pip install rxpy_backpressure"
   ],
   "metadata": {
    "collapsed": false,
    "pycharm": {
     "name": "#%%\n"
    }
   }
  },
  {
   "cell_type": "code",
   "execution_count": 44,
   "outputs": [
    {
     "name": "stdout",
     "output_type": "stream",
     "text": [
      "Requirement already satisfied: prompt_toolkit in /home/muttley/.pyenv/versions/3.8.12/envs/venv-3.8.12/lib/python3.8/site-packages (3.0.24)\r\n",
      "Requirement already satisfied: wcwidth in /home/muttley/.pyenv/versions/3.8.12/envs/venv-3.8.12/lib/python3.8/site-packages (from prompt_toolkit) (0.2.5)\r\n",
      "\u001B[33mWARNING: You are using pip version 21.1.1; however, version 21.3.1 is available.\r\n",
      "You should consider upgrading via the '/home/muttley/.pyenv/versions/3.8.12/envs/venv-3.8.12/bin/python3.8 -m pip install --upgrade pip' command.\u001B[0m\r\n"
     ]
    }
   ],
   "source": [
    "!pip install prompt_toolkit"
   ],
   "metadata": {
    "collapsed": false,
    "pycharm": {
     "name": "#%%\n"
    }
   }
  },
  {
   "cell_type": "code",
   "execution_count": 8,
   "outputs": [
    {
     "name": "stdout",
     "output_type": "stream",
     "text": [
      "on error: __init__() got multiple values for argument 'src' | group_by src\n",
      "\n",
      "(7112) on next: CallMethod(src='src0', dst=None, hops=0, timestamp=1643559801.013751, name='method_name', args=['arg0'], kwargs={'kwarg0': 'kwarg0_value'}) | method call\n",
      "completed | method call\n",
      "\n",
      "(7043) on next: Message(src='src0', dst=None, hops=1, timestamp=1643559801.0135925, value=1) | global (not grouped)\n",
      "(7043) on next: Message(src='src0', dst=None, hops=1, timestamp=1643559801.0136855, value=2) | global (not grouped)\n",
      "(7043) on next: Message(src='src1', dst=None, hops=1, timestamp=1643559801.0138876, value=3) | global (not grouped)\n",
      "completed | global (not grouped)\n",
      "\n",
      "(1876) on next: Message(src='src0', dst=None, hops=1, timestamp=1643559801.0135925, value=1) | dst0\n",
      "(1876) on next: Message(src='src0', dst=None, hops=1, timestamp=1643559801.0136423, value=1) | dst0\n",
      "(1876) on next: Message(src='src0', dst=None, hops=1, timestamp=1643559801.0136855, value=2) | dst0\n",
      "(1876) on next: CallMethod(src='src0', dst=None, hops=0, timestamp=1643559801.013751, name='method_name', args=['arg0'], kwargs={'kwarg0': 'kwarg0_value'}) | dst0\n",
      "(6429) on next: Message(src='src1', dst=None, hops=1, timestamp=1643559801.013799, value=1) | dst1\n",
      "(6429) on next: Message(src='src1', dst=None, hops=1, timestamp=1643559801.013843, value=2) | dst1\n",
      "(6429) on next: Message(src='src1', dst=None, hops=1, timestamp=1643559801.0138876, value=3) | dst1\n"
     ]
    },
    {
     "data": {
      "text/plain": "<rx.disposable.disposable.Disposable at 0x7fdff0e76f10>"
     },
     "execution_count": 8,
     "metadata": {},
     "output_type": "execute_result"
    }
   ],
   "source": [
    "from dataclasses import dataclass, field\n",
    "import time\n",
    "from typing import Type, Any, List, Tuple, Callable, Optional, Union, Awaitable, Coroutine, NamedTuple\n",
    "\n",
    "from mape.utils import LogObserver\n",
    "\n",
    "@dataclass\n",
    "class Item:\n",
    "    src: str = None\n",
    "    dst: str = None\n",
    "    hops: int = 0\n",
    "    timestamp: float = field(default_factory=lambda: time.time())\n",
    "\n",
    "@dataclass\n",
    "class Message(Item):\n",
    "    value: Any = None\n",
    "\n",
    "@dataclass\n",
    "class CallMethod(Item):\n",
    "    name: str = None\n",
    "    args: list = None\n",
    "    kwargs: dict = None\n",
    "\n",
    "items = []\n",
    "items.append(Message(value=1, src='src0'))\n",
    "# time.sleep(1)\n",
    "items.append(Message(value=1, src='src0'))\n",
    "items.append(Message(value=2, src='src0'))\n",
    "items.append(CallMethod(name='method_name', args=['arg0'], kwargs={'kwarg0': 'kwarg0_value'}, src='src0'))\n",
    "items.append(Message(value=1, src='src1'))\n",
    "items.append(Message(value=2, src='src1'))\n",
    "items.append(Message(value=3, src='src1'))\n",
    "\n",
    "\n",
    "def _map(item):\n",
    "    item.hops += 1\n",
    "    return item\n",
    "\n",
    "\n",
    "obs = rx.from_(items)\n",
    "\n",
    "# Different pipe for each SRC\n",
    "obs.pipe(\n",
    "    ops.filter(lambda item: isinstance(item, Message)),\n",
    "    ops.group_by(lambda item: item.src),\n",
    "    ops.flat_map(\n",
    "        lambda grp: grp.pipe(\n",
    "            ops.distinct(lambda item: item.value),\n",
    "            ops.average(lambda item: item.value),\n",
    "            ops.map(lambda avg: Message(avg, src=grp.key))\n",
    "        )\n",
    "    )\n",
    ").subscribe(LogObserver('group_by src'))\n",
    "\n",
    "print()\n",
    "\n",
    "obs.pipe(\n",
    "    ops.filter(lambda item: isinstance(item, CallMethod)),\n",
    ").subscribe(LogObserver('method call'))\n",
    "\n",
    "print()\n",
    "\n",
    "# Same pipe for all\n",
    "obs.pipe(\n",
    "    ops.filter(lambda item: isinstance(item, Message)),\n",
    "    ops.map(_map),\n",
    "    ops.distinct(lambda item: item.value),\n",
    ").subscribe(LogObserver('global (not grouped)'))\n",
    "\n",
    "print()\n",
    "\n",
    "# Gateway draft\n",
    "src2dest = { 'src0': LogObserver('dst0'), 'src1': LogObserver('dst1') }\n",
    "\n",
    "def _send(item):\n",
    "    src2dest[item.src].on_next(item)\n",
    " \n",
    "obs.pipe(\n",
    "    # ops.filter(lambda item: isinstance(item, Message)),\n",
    "    ops.do_action(_send)\n",
    "\n",
    ").subscribe()"
   ],
   "metadata": {
    "collapsed": false,
    "pycharm": {
     "name": "#%%\n"
    }
   }
  },
  {
   "cell_type": "code",
   "execution_count": null,
   "outputs": [],
   "source": [],
   "metadata": {
    "collapsed": false,
    "pycharm": {
     "name": "#%%\n"
    }
   }
  }
 ],
 "metadata": {
  "kernelspec": {
   "display_name": "Python 3 (ipykernel)",
   "language": "python",
   "name": "python3"
  },
  "language_info": {
   "codemirror_mode": {
    "name": "ipython",
    "version": 3
   },
   "file_extension": ".py",
   "mimetype": "text/x-python",
   "name": "python",
   "nbconvert_exporter": "python",
   "pygments_lexer": "ipython3",
   "version": "3.9.6"
  }
 },
 "nbformat": 4,
 "nbformat_minor": 5
}