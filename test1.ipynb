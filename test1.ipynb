{
 "cells": [
  {
   "cell_type": "code",
   "execution_count": 3,
   "metadata": {
    "collapsed": true
   },
   "outputs": [],
   "source": [
    "import inspect\n",
    "import json\n",
    "\n",
    "import asyncio\n",
    "import aioredis\n",
    "\n",
    "import nest_asyncio\n",
    "nest_asyncio.apply()\n",
    "\n",
    "import rx\n",
    "from rx.subject import Subject\n",
    "from rx.core import Observer, Observable, ConnectableObservable, typing\n",
    "from rx.disposable import Disposable, CompositeDisposable\n",
    "from rx import operators as ops\n",
    "\n",
    "from dataclasses import dataclass, field\n",
    "from typing import Type, Any, List, Tuple, Callable, Optional, Union, Awaitable, Coroutine, NamedTuple\n",
    "\n",
    "import mape"
   ]
  },
  {
   "cell_type": "code",
   "execution_count": 4,
   "outputs": [
    {
     "name": "stdout",
     "output_type": "stream",
     "text": [
      "(9672) on next: Message(a, src.A, None, 0, 16:45:17.929) | A, B\n",
      "(9672) on next: a | A, B\n",
      "B\n",
      "(9672) on next: Message(PayloadTest(name='ciao', number=6, numbers=[1, 2, 3]), src.B, None, 0, 16:45:21.931) | A, B\n",
      "(8537) on next: Message(PayloadTest(name='ciao', number=6, numbers=[1, 2, 3]), src.B, None, 0, 16:45:21.931) | B\n",
      "(9672) on next: 20 | A, B\n",
      "(8537) on next: 20 | B\n",
      "(8537) on next: b1 | B\n",
      "(9672) on next: b1 | A, B\n",
      "(9672) on next: b2 | A, B\n",
      "(8537) on next: b2 | B\n",
      "(9672) on next: b3 | A, B\n",
      "(8537) on next: b3 | B\n",
      "(9672) on next: a1 | A, B\n",
      "(9672) on next: a2 | A, B\n"
     ]
    }
   ],
   "source": [
    "from mape.redis import PubObserver, SubObservable\n",
    "from mape.utils import LogObserver\n",
    "from mape.typing import Message\n",
    "\n",
    "from dataclasses import dataclass, field\n",
    "\n",
    "@dataclass\n",
    "class PayloadTest:\n",
    "    name: str = 'ciao'\n",
    "    number: int = 6\n",
    "    numbers: List = field(default_factory=lambda: [1, 2, 3])\n",
    "\n",
    "ciao = SubObservable([\"A\", \"B\"])\n",
    "a = ciao.subscribe(LogObserver(\"A, B\"))\n",
    "\n",
    "ciao = SubObservable(\"B\")\n",
    "b = ciao.subscribe(LogObserver(\"B\"))\n",
    "\n",
    "pub_observer_a = PubObserver(\"A\")\n",
    "pub_observer_a.on_next(Message(value='a', src='src.A'))\n",
    "pub_observer_a.on_next('a')\n",
    "# pub_observer.on_error(Message(value=\"error\", src='src2'))\n",
    "# pub_observer.on_completed()\n",
    "\n",
    "await asyncio.sleep(4)\n",
    "# pub_observer.dispose()\n",
    "\n",
    "print(\"B\")\n",
    "\n",
    "pub_observer_b = PubObserver(\"B\")\n",
    "pub_observer_b.on_next(Message(value=PayloadTest(), src='src.B'))\n",
    "pub_observer_b.on_next(20)\n",
    "# pub_observer.on_error(Message(value=\"error\", src='src20'))\n",
    "# pub_observer.on_completed()\n",
    "\n",
    "await asyncio.sleep(4)\n",
    "pub_observer_b.on_next('b1')\n",
    "await asyncio.sleep(0.1)\n",
    "pub_observer_b.on_next('b2')\n",
    "await asyncio.sleep(0)\n",
    "pub_observer_b.on_next('b3')\n",
    "pub_observer_a.on_next('a1')\n",
    "await asyncio.sleep(10)\n",
    "pub_observer_a.on_next('a2')\n",
    "await asyncio.sleep(1)\n",
    "\n",
    "a.dispose()\n",
    "b.dispose()"
   ],
   "metadata": {
    "collapsed": false,
    "pycharm": {
     "name": "#%%\n"
    }
   }
  },
  {
   "cell_type": "code",
   "execution_count": null,
   "outputs": [],
   "source": [],
   "metadata": {
    "collapsed": false,
    "pycharm": {
     "name": "#%%\n"
    }
   }
  },
  {
   "cell_type": "code",
   "execution_count": 4,
   "outputs": [
    {
     "name": "stdout",
     "output_type": "stream",
     "text": [
      "silent exception\n"
     ]
    },
    {
     "name": "stderr",
     "output_type": "stream",
     "text": [
      "wrapped\n",
      "Traceback (most recent call last):\n",
      "  File \"/home/muttley/Projects/SecondLevelDegrees/courses/Thesis/source/playground/mape/utils.py\", line 129, in task_exception\n",
      "    return await awaitable\n",
      "  File \"/tmp/ipykernel_176147/836816186.py\", line 18, in test_raise_unmanaged_wrapped\n",
      "    raise Exception('wrapped')\n",
      "Exception: wrapped\n"
     ]
    },
    {
     "name": "stdout",
     "output_type": "stream",
     "text": [
      "cancel\n",
      "wrapped\n"
     ]
    },
    {
     "name": "stderr",
     "output_type": "stream",
     "text": [
      "wrapped\n",
      "Traceback (most recent call last):\n",
      "  File \"/home/muttley/Projects/SecondLevelDegrees/courses/Thesis/source/playground/mape/utils.py\", line 129, in task_exception\n",
      "    return await awaitable\n",
      "  File \"/tmp/ipykernel_176147/836816186.py\", line 18, in test_raise_unmanaged_wrapped\n",
      "    raise Exception('wrapped')\n",
      "Exception: wrapped\n"
     ]
    },
    {
     "name": "stdout",
     "output_type": "stream",
     "text": [
      "cancel\n",
      "decorated\n",
      "cancel\n"
     ]
    }
   ],
   "source": [
    "\"\"\" MANAGE TASK EXCEPTION \"\"\"\n",
    "\n",
    "import asyncio\n",
    "import aioredis\n",
    "import mape\n",
    "\n",
    "import nest_asyncio\n",
    "nest_asyncio.apply()\n",
    "\n",
    "async def test_raise_unmanaged(param=None):\n",
    "    while True:\n",
    "        print(param)\n",
    "        raise Exception('unmanaged')\n",
    "        await asyncio.sleep(2)\n",
    "\n",
    "@mape.utils.log_task_exception\n",
    "async def test_raise_unmanaged_wrapped(param=None):\n",
    "    while True:\n",
    "        print(param)\n",
    "        raise Exception('wrapped')\n",
    "        await asyncio.sleep(2)\n",
    "\n",
    "task = asyncio.create_task(test_raise_unmanaged('silent exception'))\n",
    "await asyncio.sleep(4)\n",
    "print(\"cancel\")\n",
    "task.cancel()\n",
    "\n",
    "task = asyncio.create_task(mape.utils.task_exception(test_raise_unmanaged_wrapped('wrapped')))\n",
    "await asyncio.sleep(4)\n",
    "print(\"cancel\")\n",
    "task.cancel()\n",
    "\n",
    "task = asyncio.create_task(test_raise_unmanaged_wrapped('decorated'))\n",
    "await asyncio.sleep(4)\n",
    "print(\"cancel\")\n",
    "task.cancel()\n",
    "\n",
    "await asyncio.sleep(4)"
   ],
   "metadata": {
    "collapsed": false,
    "pycharm": {
     "name": "#%%\n"
    }
   }
  },
  {
   "cell_type": "code",
   "execution_count": 5,
   "outputs": [
    {
     "name": "stdout",
     "output_type": "stream",
     "text": [
      "Collecting git+https://github.com/plataux/purse.git\r\n",
      "  Cloning https://github.com/plataux/purse.git to /tmp/pip-req-build-plpkjuz9\r\n",
      "  Running command git clone -q https://github.com/plataux/purse.git /tmp/pip-req-build-plpkjuz9\r\n",
      "  Installing build dependencies ... \u001B[?25ldone\r\n",
      "\u001B[?25h  Getting requirements to build wheel ... \u001B[?25ldone\r\n",
      "\u001B[?25h    Preparing wheel metadata ... \u001B[?25ldone\r\n",
      "\u001B[?25hRequirement already satisfied: aioredis~=2.0.0 in /home/muttley/.pyenv/versions/3.8.12/envs/venv-3.8.12/lib/python3.8/site-packages (from purse==0.21) (2.0.1)\r\n",
      "Collecting pydantic~=1.8.2\r\n",
      "  Downloading pydantic-1.8.2-cp38-cp38-manylinux2014_x86_64.whl (13.7 MB)\r\n",
      "\u001B[K     |████████████████████████████████| 13.7 MB 12.2 MB/s eta 0:00:01\r\n",
      "\u001B[?25hRequirement already satisfied: setuptools>=50.0.0 in /home/muttley/.pyenv/versions/3.8.12/envs/venv-3.8.12/lib/python3.8/site-packages (from purse==0.21) (56.0.0)\r\n",
      "Requirement already satisfied: typing-extensions in /home/muttley/.pyenv/versions/3.8.12/envs/venv-3.8.12/lib/python3.8/site-packages (from aioredis~=2.0.0->purse==0.21) (4.0.1)\r\n",
      "Requirement already satisfied: async-timeout in /home/muttley/.pyenv/versions/3.8.12/envs/venv-3.8.12/lib/python3.8/site-packages (from aioredis~=2.0.0->purse==0.21) (4.0.2)\r\n",
      "Building wheels for collected packages: purse\r\n",
      "  Building wheel for purse (PEP 517) ... \u001B[?25ldone\r\n",
      "\u001B[?25h  Created wheel for purse: filename=purse-0.21-py3-none-any.whl size=19446 sha256=cab766f68cdbfba7678a89e4d0e84bd3ab0c733820f9f96c6d68b2096eb9675d\r\n",
      "  Stored in directory: /tmp/pip-ephem-wheel-cache-lk0moyfo/wheels/b9/d2/8f/8baa5e4e0778b75c9283a9117d544eb81a58843a4a41a72a66\r\n",
      "Successfully built purse\r\n",
      "Installing collected packages: pydantic, purse\r\n",
      "Successfully installed purse-0.21 pydantic-1.8.2\r\n",
      "\u001B[33mWARNING: You are using pip version 21.1.1; however, version 22.0.3 is available.\r\n",
      "You should consider upgrading via the '/home/muttley/.pyenv/versions/3.8.12/envs/venv-3.8.12/bin/python3.8 -m pip install --upgrade pip' command.\u001B[0m\r\n"
     ]
    }
   ],
   "source": [
    "!pip install git+https://github.com/plataux/purse.git"
   ],
   "metadata": {
    "collapsed": false,
    "pycharm": {
     "name": "#%%\n"
    }
   }
  },
  {
   "cell_type": "code",
   "execution_count": 10,
   "outputs": [],
   "source": [
    "import asyncio\n",
    "import aioredis\n",
    "\n",
    "import nest_asyncio\n",
    "nest_asyncio.apply()"
   ],
   "metadata": {
    "collapsed": false,
    "pycharm": {
     "name": "#%%\n"
    }
   }
  },
  {
   "cell_type": "code",
   "execution_count": null,
   "outputs": [],
   "source": [
    "async def main():\n",
    "    local_list = ['a', 'b', 'c', 'd', 'e', 'f']\n",
    "\n",
    "    # local Redis >= 6.0.x plain connection with default params\n",
    "    red_con = aioredis.Redis()\n",
    "    redis_key = 'redis_list'\n",
    "\n",
    "    # The value_type defines the class to serialize to and from\n",
    "    redis_list = RedisList(redis=red_con, rkey=redis_key, value_type=str)\n",
    "\n",
    "    # Clear the list, in case it was previously populated\n",
    "    await redis_list.clear()\n",
    "\n",
    "    # extend a Redis list with a Python list\n",
    "    await redis_list.extend(local_list)\n",
    "\n",
    "    # async list comprehension\n",
    "    print([x async for x in redis_list])\n",
    "\n",
    "    # contains\n",
    "    print(await redis_list.contains('f'))  # True\n",
    "    print(await redis_list.contains('g'))  # False\n",
    "\n",
    "    # getting the index of a value\n",
    "    print(await redis_list.index('c'))  # 2\n",
    "    print(await redis_list.index('g'))  # None, unlike a Python list that raises a ValueError\n",
    "\n",
    "    # slicing\n",
    "    print(await redis_list.slice(2, 5))  # ['c', 'd', 'e']\n",
    "\n",
    "    # inserting values\n",
    "    await redis_list.insert(2, 'x')\n",
    "    await redis_list.insert(-2, 'y')\n",
    "\n",
    "    # getitem\n",
    "    assert await redis_list.getitem(2) == 'x'\n",
    "    assert await redis_list.getitem(-3) == 'y'\n",
    "\n",
    "    # some deque methods\n",
    "    await redis_list.appendleft('z')\n",
    "    await redis_list.pop()\n",
    "    await redis_list.popleft()\n",
    "\n",
    "asyncio.run(main())"
   ],
   "metadata": {
    "collapsed": false,
    "pycharm": {
     "name": "#%%\n"
    }
   }
  },
  {
   "cell_type": "code",
   "execution_count": 3,
   "outputs": [],
   "source": [
    "from pydantic import BaseModel\n",
    "\n",
    "class Bau:\n",
    "    def __init__(self, boh) -> None:\n",
    "        self.ok2 = True\n",
    "        self.boh = boh\n",
    "\n",
    "class Ciao:\n",
    "    def __init__(self) -> None:\n",
    "        super().__init__()\n",
    "        self.ok = True\n",
    "        self.bau = Bau(3)\n",
    "\n",
    "# Pydantic Model\n",
    "class Plant(BaseModel):\n",
    "    name: str = 'undefined'\n",
    "    healthiness: float\n",
    "    tasty: bool = False\n",
    "\n",
    "class Three(Plant):\n",
    "    color: str = 'green'"
   ],
   "metadata": {
    "collapsed": false,
    "pycharm": {
     "name": "#%%\n"
    }
   }
  },
  {
   "cell_type": "code",
   "execution_count": null,
   "outputs": [],
   "source": [
    "async def main():\n",
    "    redis = aioredis.Redis()\n",
    "\n",
    "    k = RedisKeySpace(redis=redis, prefix='k:__app:', value_type=bytes)\n",
    "    pickled_obj = pickle.dumps(Ciao())\n",
    "    ret = await k.set('pickled', pickled_obj)\n",
    "    print(ret)\n",
    "    ret = await k.get('pickled')\n",
    "    print(ret)\n",
    "    unpickled_obj = pickle.loads(ret)\n",
    "    print(unpickled_obj)\n",
    "\n",
    "    print(\"-----------------\"*3)\n",
    "\n",
    "    k = RedisKeySpace(redis=redis, prefix='k:__app:', value_type=Three)\n",
    "    obj = Three(healthiness = 6.6)\n",
    "    ret = await k.set('pydantic', obj)\n",
    "    print(ret)\n",
    "    ret = await k.get('pydantic')\n",
    "    print(ret)\n",
    "\n",
    "\n",
    "asyncio.run(main())"
   ],
   "metadata": {
    "collapsed": false,
    "pycharm": {
     "name": "#%%\n"
    }
   }
  },
  {
   "cell_type": "code",
   "execution_count": 12,
   "outputs": [
    {
     "name": "stdout",
     "output_type": "stream",
     "text": [
      "True\n",
      "name='undefined' healthiness=6.6 tasty=False color='green'\n",
      "---------------------------------------------------\n",
      "0\n",
      "3\n",
      "0\n",
      "3\n",
      "name='undefined' healthiness=6.6 tasty=False color='green'\n",
      "name='undefined' healthiness=6.7 tasty=False color='green'\n",
      "name='undefined' healthiness=6.8 tasty=False color='green'\n"
     ]
    }
   ],
   "source": [
    "import asyncio\n",
    "import aioredis\n",
    "from mape.knowledge import Knowledge\n",
    "\n",
    "async def main():\n",
    "    redis = aioredis.Redis()\n",
    "    k = Knowledge(redis, '__prefix')\n",
    "\n",
    "    obj = Three(healthiness = 6.6)\n",
    "    ret = await k.keyspace.set('pickled', obj)\n",
    "    print(ret)\n",
    "    ret = await k.keyspace.get('pickled')\n",
    "    print(ret)\n",
    "\n",
    "    print(\"-----------------\"*3)\n",
    "\n",
    "    myset = k.create_set('myset', Three)\n",
    "    obj = Three(healthiness = 6.6)\n",
    "    ret = await myset.add(Three(healthiness = 6.6))\n",
    "    print(ret)\n",
    "    ret = await myset.len()\n",
    "    print(ret)\n",
    "    ret = await myset.update(Three(healthiness = 6.7), Three(healthiness = 6.8), Three(healthiness = 6.8))\n",
    "    print(ret)\n",
    "    ret = await myset.len()\n",
    "    print(ret)\n",
    "    async for i in myset.values():\n",
    "        print(i)\n",
    "\n",
    "asyncio.run(main())"
   ],
   "metadata": {
    "collapsed": false,
    "pycharm": {
     "name": "#%%\n"
    }
   }
  },
  {
   "cell_type": "code",
   "execution_count": 13,
   "outputs": [
    {
     "name": "stdout",
     "output_type": "stream",
     "text": [
      "name='undefined' healthiness=6.6 tasty=False color='green'\n"
     ]
    }
   ],
   "source": [
    "async def main():\n",
    "    redis = aioredis.Redis()\n",
    "    k = Knowledge(redis, '__prefix')\n",
    "\n",
    "    ret = await k.keyspace.get('pickled')\n",
    "    print(ret)\n",
    "\n",
    "asyncio.run(main())"
   ],
   "metadata": {
    "collapsed": false,
    "pycharm": {
     "name": "#%%\n"
    }
   }
  },
  {
   "cell_type": "code",
   "execution_count": null,
   "outputs": [],
   "source": [],
   "metadata": {
    "collapsed": false,
    "pycharm": {
     "name": "#%%\n"
    }
   }
  }
 ],
 "metadata": {
  "kernelspec": {
   "display_name": "Python 3",
   "language": "python",
   "name": "python3"
  },
  "language_info": {
   "codemirror_mode": {
    "name": "ipython",
    "version": 2
   },
   "file_extension": ".py",
   "mimetype": "text/x-python",
   "name": "python",
   "nbconvert_exporter": "python",
   "pygments_lexer": "ipython2",
   "version": "2.7.6"
  }
 },
 "nbformat": 4,
 "nbformat_minor": 0
}