{
 "cells": [
  {
   "cell_type": "code",
   "execution_count": 3,
   "metadata": {
    "collapsed": true
   },
   "outputs": [],
   "source": [
    "import json\n",
    "\n",
    "import asyncio\n",
    "import aioredis\n",
    "\n",
    "import nest_asyncio\n",
    "nest_asyncio.apply()\n",
    "\n",
    "import rx\n",
    "from rx.subject import Subject\n",
    "from rx.core import Observer, Observable, ConnectableObservable, typing\n",
    "from rx.disposable import Disposable, CompositeDisposable\n",
    "from rx import operators as ops\n",
    "\n",
    "from dataclasses import dataclass, field\n",
    "from typing import Type, Any, List, Tuple, Callable, Optional, Union, Awaitable, Coroutine, NamedTuple\n",
    "\n",
    "import mape"
   ]
  },
  {
   "cell_type": "code",
   "execution_count": 4,
   "outputs": [
    {
     "name": "stdout",
     "output_type": "stream",
     "text": [
      "(9672) on next: Message(a, src.A, None, 0, 16:45:17.929) | A, B\n",
      "(9672) on next: a | A, B\n",
      "B\n",
      "(9672) on next: Message(PayloadTest(name='ciao', number=6, numbers=[1, 2, 3]), src.B, None, 0, 16:45:21.931) | A, B\n",
      "(8537) on next: Message(PayloadTest(name='ciao', number=6, numbers=[1, 2, 3]), src.B, None, 0, 16:45:21.931) | B\n",
      "(9672) on next: 20 | A, B\n",
      "(8537) on next: 20 | B\n",
      "(8537) on next: b1 | B\n",
      "(9672) on next: b1 | A, B\n",
      "(9672) on next: b2 | A, B\n",
      "(8537) on next: b2 | B\n",
      "(9672) on next: b3 | A, B\n",
      "(8537) on next: b3 | B\n",
      "(9672) on next: a1 | A, B\n",
      "(9672) on next: a2 | A, B\n"
     ]
    }
   ],
   "source": [
    "from mape.redis import PubObserver, SubObservable\n",
    "from mape.utils import LogObserver\n",
    "from mape.typing import Message\n",
    "\n",
    "from dataclasses import dataclass, field\n",
    "\n",
    "@dataclass\n",
    "class PayloadTest:\n",
    "    name: str = 'ciao'\n",
    "    number: int = 6\n",
    "    numbers: List = field(default_factory=lambda: [1, 2, 3])\n",
    "\n",
    "ciao = SubObservable([\"A\", \"B\"])\n",
    "a = ciao.subscribe(LogObserver(\"A, B\"))\n",
    "\n",
    "ciao = SubObservable(\"B\")\n",
    "b = ciao.subscribe(LogObserver(\"B\"))\n",
    "\n",
    "pub_observer_a = PubObserver(\"A\")\n",
    "pub_observer_a.on_next(Message(value='a', src='src.A'))\n",
    "pub_observer_a.on_next('a')\n",
    "# pub_observer.on_error(Message(value=\"error\", src='src2'))\n",
    "# pub_observer.on_completed()\n",
    "\n",
    "await asyncio.sleep(4)\n",
    "# pub_observer.dispose()\n",
    "\n",
    "print(\"B\")\n",
    "\n",
    "pub_observer_b = PubObserver(\"B\")\n",
    "pub_observer_b.on_next(Message(value=PayloadTest(), src='src.B'))\n",
    "pub_observer_b.on_next(20)\n",
    "# pub_observer.on_error(Message(value=\"error\", src='src20'))\n",
    "# pub_observer.on_completed()\n",
    "\n",
    "await asyncio.sleep(4)\n",
    "pub_observer_b.on_next('b1')\n",
    "await asyncio.sleep(0.1)\n",
    "pub_observer_b.on_next('b2')\n",
    "await asyncio.sleep(0)\n",
    "pub_observer_b.on_next('b3')\n",
    "pub_observer_a.on_next('a1')\n",
    "await asyncio.sleep(10)\n",
    "pub_observer_a.on_next('a2')\n",
    "await asyncio.sleep(1)\n",
    "\n",
    "a.dispose()\n",
    "b.dispose()"
   ],
   "metadata": {
    "collapsed": false,
    "pycharm": {
     "name": "#%%\n"
    }
   }
  },
  {
   "cell_type": "code",
   "execution_count": null,
   "outputs": [],
   "source": [],
   "metadata": {
    "collapsed": false,
    "pycharm": {
     "name": "#%%\n"
    }
   }
  },
  {
   "cell_type": "code",
   "execution_count": 4,
   "outputs": [
    {
     "name": "stdout",
     "output_type": "stream",
     "text": [
      "silent exception\n"
     ]
    },
    {
     "name": "stderr",
     "output_type": "stream",
     "text": [
      "wrapped\n",
      "Traceback (most recent call last):\n",
      "  File \"/home/muttley/Projects/SecondLevelDegrees/courses/Thesis/source/playground/mape/utils.py\", line 129, in task_exception\n",
      "    return await awaitable\n",
      "  File \"/tmp/ipykernel_176147/836816186.py\", line 18, in test_raise_unmanaged_wrapped\n",
      "    raise Exception('wrapped')\n",
      "Exception: wrapped\n"
     ]
    },
    {
     "name": "stdout",
     "output_type": "stream",
     "text": [
      "cancel\n",
      "wrapped\n"
     ]
    },
    {
     "name": "stderr",
     "output_type": "stream",
     "text": [
      "wrapped\n",
      "Traceback (most recent call last):\n",
      "  File \"/home/muttley/Projects/SecondLevelDegrees/courses/Thesis/source/playground/mape/utils.py\", line 129, in task_exception\n",
      "    return await awaitable\n",
      "  File \"/tmp/ipykernel_176147/836816186.py\", line 18, in test_raise_unmanaged_wrapped\n",
      "    raise Exception('wrapped')\n",
      "Exception: wrapped\n"
     ]
    },
    {
     "name": "stdout",
     "output_type": "stream",
     "text": [
      "cancel\n",
      "decorated\n",
      "cancel\n"
     ]
    }
   ],
   "source": [
    "\"\"\" MANAGE TASK EXCEPTION \"\"\"\n",
    "\n",
    "import asyncio\n",
    "import aioredis\n",
    "import mape\n",
    "\n",
    "import nest_asyncio\n",
    "nest_asyncio.apply()\n",
    "\n",
    "async def test_raise_unmanaged(param=None):\n",
    "    while True:\n",
    "        print(param)\n",
    "        raise Exception('unmanaged')\n",
    "        await asyncio.sleep(2)\n",
    "\n",
    "@mape.utils.log_task_exception\n",
    "async def test_raise_unmanaged_wrapped(param=None):\n",
    "    while True:\n",
    "        print(param)\n",
    "        raise Exception('wrapped')\n",
    "        await asyncio.sleep(2)\n",
    "\n",
    "task = asyncio.create_task(test_raise_unmanaged('silent exception'))\n",
    "await asyncio.sleep(4)\n",
    "print(\"cancel\")\n",
    "task.cancel()\n",
    "\n",
    "task = asyncio.create_task(mape.utils.task_exception(test_raise_unmanaged_wrapped('wrapped')))\n",
    "await asyncio.sleep(4)\n",
    "print(\"cancel\")\n",
    "task.cancel()\n",
    "\n",
    "task = asyncio.create_task(test_raise_unmanaged_wrapped('decorated'))\n",
    "await asyncio.sleep(4)\n",
    "print(\"cancel\")\n",
    "task.cancel()\n",
    "\n",
    "await asyncio.sleep(4)"
   ],
   "metadata": {
    "collapsed": false,
    "pycharm": {
     "name": "#%%\n"
    }
   }
  },
  {
   "cell_type": "code",
   "execution_count": null,
   "outputs": [],
   "source": [],
   "metadata": {
    "collapsed": false,
    "pycharm": {
     "name": "#%%\n"
    }
   }
  }
 ],
 "metadata": {
  "kernelspec": {
   "display_name": "Python 3",
   "language": "python",
   "name": "python3"
  },
  "language_info": {
   "codemirror_mode": {
    "name": "ipython",
    "version": 2
   },
   "file_extension": ".py",
   "mimetype": "text/x-python",
   "name": "python",
   "nbconvert_exporter": "python",
   "pygments_lexer": "ipython2",
   "version": "2.7.6"
  }
 },
 "nbformat": 4,
 "nbformat_minor": 0
}