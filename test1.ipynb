{
 "cells": [
  {
   "cell_type": "code",
   "execution_count": null,
   "outputs": [],
   "source": [
    "import inspect\n",
    "import json\n",
    "\n",
    "import asyncio\n",
    "import aioredis\n",
    "\n",
    "import nest_asyncio\n",
    "nest_asyncio.apply()\n",
    "\n",
    "import rx\n",
    "from rx.subject import Subject\n",
    "from rx.core import Observer, Observable, ConnectableObservable, typing\n",
    "from rx.disposable import Disposable, CompositeDisposable\n",
    "from rx import operators as ops\n",
    "\n",
    "from dataclasses import dataclass, field\n",
    "from typing import Type, Any, List, Tuple, Callable, Optional, Union, Awaitable, Coroutine, NamedTuple\n",
    "\n",
    "import mape"
   ],
   "metadata": {
    "collapsed": false,
    "pycharm": {
     "name": "#%%\n"
    }
   }
  },
  {
   "cell_type": "code",
   "execution_count": 4,
   "outputs": [
    {
     "name": "stdout",
     "output_type": "stream",
     "text": [
      "(9672) on next: Message(a, src.A, None, 0, 16:45:17.929) | A, B\n",
      "(9672) on next: a | A, B\n",
      "B\n",
      "(9672) on next: Message(PayloadTest(name='ciao', number=6, numbers=[1, 2, 3]), src.B, None, 0, 16:45:21.931) | A, B\n",
      "(8537) on next: Message(PayloadTest(name='ciao', number=6, numbers=[1, 2, 3]), src.B, None, 0, 16:45:21.931) | B\n",
      "(9672) on next: 20 | A, B\n",
      "(8537) on next: 20 | B\n",
      "(8537) on next: b1 | B\n",
      "(9672) on next: b1 | A, B\n",
      "(9672) on next: b2 | A, B\n",
      "(8537) on next: b2 | B\n",
      "(9672) on next: b3 | A, B\n",
      "(8537) on next: b3 | B\n",
      "(9672) on next: a1 | A, B\n",
      "(9672) on next: a2 | A, B\n"
     ]
    }
   ],
   "source": [
    "from mape.redis import PubObserver, SubObservable\n",
    "from mape.utils import LogObserver\n",
    "from mape.typing import Message\n",
    "\n",
    "from dataclasses import dataclass, field\n",
    "\n",
    "@dataclass\n",
    "class PayloadTest:\n",
    "    name: str = 'ciao'\n",
    "    number: int = 6\n",
    "    numbers: List = field(default_factory=lambda: [1, 2, 3])\n",
    "\n",
    "ciao = SubObservable([\"A\", \"B\"])\n",
    "a = ciao.subscribe(LogObserver(\"A, B\"))\n",
    "\n",
    "ciao = SubObservable(\"B\")\n",
    "b = ciao.subscribe(LogObserver(\"B\"))\n",
    "\n",
    "pub_observer_a = PubObserver(\"A\")\n",
    "pub_observer_a.on_next(Message(value='a', src='src.A'))\n",
    "pub_observer_a.on_next('a')\n",
    "# pub_observer.on_error(Message(value=\"error\", src='src2'))\n",
    "# pub_observer.on_completed()\n",
    "\n",
    "await asyncio.sleep(4)\n",
    "# pub_observer.dispose()\n",
    "\n",
    "print(\"B\")\n",
    "\n",
    "pub_observer_b = PubObserver(\"B\")\n",
    "pub_observer_b.on_next(Message(value=PayloadTest(), src='src.B'))\n",
    "pub_observer_b.on_next(20)\n",
    "# pub_observer.on_error(Message(value=\"error\", src='src20'))\n",
    "# pub_observer.on_completed()\n",
    "\n",
    "await asyncio.sleep(4)\n",
    "pub_observer_b.on_next('b1')\n",
    "await asyncio.sleep(0.1)\n",
    "pub_observer_b.on_next('b2')\n",
    "await asyncio.sleep(0)\n",
    "pub_observer_b.on_next('b3')\n",
    "pub_observer_a.on_next('a1')\n",
    "await asyncio.sleep(10)\n",
    "pub_observer_a.on_next('a2')\n",
    "await asyncio.sleep(1)\n",
    "\n",
    "a.dispose()\n",
    "b.dispose()"
   ],
   "metadata": {
    "collapsed": false,
    "pycharm": {
     "name": "#%%\n"
    }
   }
  },
  {
   "cell_type": "code",
   "execution_count": null,
   "outputs": [],
   "source": [],
   "metadata": {
    "collapsed": false,
    "pycharm": {
     "name": "#%%\n"
    }
   }
  },
  {
   "cell_type": "code",
   "execution_count": 4,
   "outputs": [
    {
     "name": "stdout",
     "output_type": "stream",
     "text": [
      "silent exception\n"
     ]
    },
    {
     "name": "stderr",
     "output_type": "stream",
     "text": [
      "wrapped\n",
      "Traceback (most recent call last):\n",
      "  File \"/home/muttley/Projects/SecondLevelDegrees/courses/Thesis/source/playground/mape/utils.py\", line 129, in task_exception\n",
      "    return await awaitable\n",
      "  File \"/tmp/ipykernel_176147/836816186.py\", line 18, in test_raise_unmanaged_wrapped\n",
      "    raise Exception('wrapped')\n",
      "Exception: wrapped\n"
     ]
    },
    {
     "name": "stdout",
     "output_type": "stream",
     "text": [
      "cancel\n",
      "wrapped\n"
     ]
    },
    {
     "name": "stderr",
     "output_type": "stream",
     "text": [
      "wrapped\n",
      "Traceback (most recent call last):\n",
      "  File \"/home/muttley/Projects/SecondLevelDegrees/courses/Thesis/source/playground/mape/utils.py\", line 129, in task_exception\n",
      "    return await awaitable\n",
      "  File \"/tmp/ipykernel_176147/836816186.py\", line 18, in test_raise_unmanaged_wrapped\n",
      "    raise Exception('wrapped')\n",
      "Exception: wrapped\n"
     ]
    },
    {
     "name": "stdout",
     "output_type": "stream",
     "text": [
      "cancel\n",
      "decorated\n",
      "cancel\n"
     ]
    }
   ],
   "source": [
    "\"\"\" MANAGE TASK EXCEPTION \"\"\"\n",
    "\n",
    "import asyncio\n",
    "import aioredis\n",
    "import mape\n",
    "\n",
    "import nest_asyncio\n",
    "nest_asyncio.apply()\n",
    "\n",
    "async def test_raise_unmanaged(param=None):\n",
    "    while True:\n",
    "        print(param)\n",
    "        raise Exception('unmanaged')\n",
    "        await asyncio.sleep(2)\n",
    "\n",
    "@mape.utils.log_task_exception\n",
    "async def test_raise_unmanaged_wrapped(param=None):\n",
    "    while True:\n",
    "        print(param)\n",
    "        raise Exception('wrapped')\n",
    "        await asyncio.sleep(2)\n",
    "\n",
    "task = asyncio.create_task(test_raise_unmanaged('silent exception'))\n",
    "await asyncio.sleep(4)\n",
    "print(\"cancel\")\n",
    "task.cancel()\n",
    "\n",
    "task = asyncio.create_task(mape.utils.task_exception(test_raise_unmanaged_wrapped('wrapped')))\n",
    "await asyncio.sleep(4)\n",
    "print(\"cancel\")\n",
    "task.cancel()\n",
    "\n",
    "task = asyncio.create_task(test_raise_unmanaged_wrapped('decorated'))\n",
    "await asyncio.sleep(4)\n",
    "print(\"cancel\")\n",
    "task.cancel()\n",
    "\n",
    "await asyncio.sleep(4)"
   ],
   "metadata": {
    "collapsed": false,
    "pycharm": {
     "name": "#%%\n"
    }
   }
  },
  {
   "cell_type": "code",
   "execution_count": 1,
   "outputs": [
    {
     "name": "stdout",
     "output_type": "stream",
     "text": [
      "Collecting git+https://github.com/plataux/purse.git\r\n",
      "  Cloning https://github.com/plataux/purse.git to /tmp/pip-req-build-gab_ef0w\r\n",
      "  Running command git clone -q https://github.com/plataux/purse.git /tmp/pip-req-build-gab_ef0w\r\n",
      "  Installing build dependencies ... \u001B[?25ldone\r\n",
      "\u001B[?25h  Getting requirements to build wheel ... \u001B[?25ldone\r\n",
      "\u001B[?25h    Preparing wheel metadata ... \u001B[?25ldone\r\n",
      "\u001B[?25hCollecting pydantic~=1.8.2\r\n",
      "  Downloading pydantic-1.8.2-cp38-cp38-manylinux2014_x86_64.whl (13.7 MB)\r\n",
      "\u001B[K     |████████████████████████████████| 13.7 MB 1.5 MB/s eta 0:00:01\r\n",
      "\u001B[?25hRequirement already satisfied: setuptools>=50.0.0 in /home/muttley/.pyenv/versions/3.8.12/envs/venv-3.8.12/lib/python3.8/site-packages (from purse==0.21) (56.0.0)\r\n",
      "Requirement already satisfied: aioredis~=2.0.0 in /home/muttley/.pyenv/versions/3.8.12/envs/venv-3.8.12/lib/python3.8/site-packages (from purse==0.21) (2.0.1)\r\n",
      "Requirement already satisfied: async-timeout in /home/muttley/.pyenv/versions/3.8.12/envs/venv-3.8.12/lib/python3.8/site-packages (from aioredis~=2.0.0->purse==0.21) (4.0.2)\r\n",
      "Requirement already satisfied: typing-extensions in /home/muttley/.pyenv/versions/3.8.12/envs/venv-3.8.12/lib/python3.8/site-packages (from aioredis~=2.0.0->purse==0.21) (4.0.1)\r\n",
      "Building wheels for collected packages: purse\r\n",
      "  Building wheel for purse (PEP 517) ... \u001B[?25ldone\r\n",
      "\u001B[?25h  Created wheel for purse: filename=purse-0.21-py3-none-any.whl size=19446 sha256=62c1618b8d56cea7709d71bf74bece83d1d6891e9ff4ea2a3cb59324234ba7cb\r\n",
      "  Stored in directory: /tmp/pip-ephem-wheel-cache-b81_hk7c/wheels/b9/d2/8f/8baa5e4e0778b75c9283a9117d544eb81a58843a4a41a72a66\r\n",
      "Successfully built purse\r\n",
      "Installing collected packages: pydantic, purse\r\n",
      "Successfully installed purse-0.21 pydantic-1.8.2\r\n",
      "\u001B[33mWARNING: You are using pip version 21.1.1; however, version 22.0.3 is available.\r\n",
      "You should consider upgrading via the '/home/muttley/.pyenv/versions/3.8.12/envs/venv-3.8.12/bin/python3.8 -m pip install --upgrade pip' command.\u001B[0m\r\n"
     ]
    }
   ],
   "source": [
    "!pip install git+https://github.com/plataux/purse.git"
   ],
   "metadata": {
    "collapsed": false,
    "pycharm": {
     "name": "#%%\n"
    }
   }
  },
  {
   "cell_type": "code",
   "execution_count": 5,
   "outputs": [],
   "source": [
    "import asyncio\n",
    "import aioredis\n",
    "\n",
    "import nest_asyncio\n",
    "nest_asyncio.apply()"
   ],
   "metadata": {
    "collapsed": false,
    "pycharm": {
     "name": "#%%\n"
    }
   }
  },
  {
   "cell_type": "code",
   "execution_count": null,
   "outputs": [],
   "source": [
    "async def main():\n",
    "    local_list = ['a', 'b', 'c', 'd', 'e', 'f']\n",
    "\n",
    "    # local Redis >= 6.0.x plain connection with default params\n",
    "    red_con = aioredis.Redis()\n",
    "    redis_key = 'redis_list'\n",
    "\n",
    "    # The value_type defines the class to serialize to and from\n",
    "    redis_list = RedisList(redis=red_con, rkey=redis_key, value_type=str)\n",
    "\n",
    "    # Clear the list, in case it was previously populated\n",
    "    await redis_list.clear()\n",
    "\n",
    "    # extend a Redis list with a Python list\n",
    "    await redis_list.extend(local_list)\n",
    "\n",
    "    # async list comprehension\n",
    "    print([x async for x in redis_list])\n",
    "\n",
    "    # contains\n",
    "    print(await redis_list.contains('f'))  # True\n",
    "    print(await redis_list.contains('g'))  # False\n",
    "\n",
    "    # getting the index of a value\n",
    "    print(await redis_list.index('c'))  # 2\n",
    "    print(await redis_list.index('g'))  # None, unlike a Python list that raises a ValueError\n",
    "\n",
    "    # slicing\n",
    "    print(await redis_list.slice(2, 5))  # ['c', 'd', 'e']\n",
    "\n",
    "    # inserting values\n",
    "    await redis_list.insert(2, 'x')\n",
    "    await redis_list.insert(-2, 'y')\n",
    "\n",
    "    # getitem\n",
    "    assert await redis_list.getitem(2) == 'x'\n",
    "    assert await redis_list.getitem(-3) == 'y'\n",
    "\n",
    "    # some deque methods\n",
    "    await redis_list.appendleft('z')\n",
    "    await redis_list.pop()\n",
    "    await redis_list.popleft()\n",
    "\n",
    "asyncio.run(main())"
   ],
   "metadata": {
    "collapsed": false,
    "pycharm": {
     "name": "#%%\n"
    }
   }
  },
  {
   "cell_type": "code",
   "execution_count": 2,
   "outputs": [],
   "source": [
    "import pickle\n",
    "from pydantic import BaseModel\n",
    "\n",
    "class Bau:\n",
    "    def __init__(self, boh) -> None:\n",
    "        self.ok2 = True\n",
    "        self.boh = boh\n",
    "\n",
    "class Ciao:\n",
    "    def __init__(self) -> None:\n",
    "        super().__init__()\n",
    "        self.ok = True\n",
    "        self.bau = Bau(3)\n",
    "\n",
    "# Pydantic Model\n",
    "class Plant(BaseModel):\n",
    "    name: str = 'undefined'\n",
    "    healthiness: float\n",
    "    tasty: bool = False\n",
    "\n",
    "class Three(Plant):\n",
    "    color: str = 'green'"
   ],
   "metadata": {
    "collapsed": false,
    "pycharm": {
     "name": "#%%\n"
    }
   }
  },
  {
   "cell_type": "code",
   "execution_count": null,
   "outputs": [],
   "source": [
    "async def main():\n",
    "    redis = aioredis.Redis()\n",
    "\n",
    "    k = RedisKeySpace(redis=redis, prefix='k:__app:', value_type=bytes)\n",
    "    pickled_obj = pickle.dumps(Ciao())\n",
    "    ret = await k.set('pickled', pickled_obj)\n",
    "    print(ret)\n",
    "    ret = await k.get('pickled')\n",
    "    print(ret)\n",
    "    unpickled_obj = pickle.loads(ret)\n",
    "    print(unpickled_obj)\n",
    "\n",
    "    print(\"-----------------\"*3)\n",
    "\n",
    "    k = RedisKeySpace(redis=redis, prefix='k:__app:', value_type=Three)\n",
    "    obj = Three(healthiness = 6.6)\n",
    "    ret = await k.set('pydantic', obj)\n",
    "    print(ret)\n",
    "    ret = await k.get('pydantic')\n",
    "    print(ret)\n",
    "\n",
    "\n",
    "asyncio.run(main())"
   ],
   "metadata": {
    "collapsed": false,
    "pycharm": {
     "name": "#%%\n"
    }
   }
  },
  {
   "cell_type": "code",
   "execution_count": 12,
   "outputs": [
    {
     "name": "stdout",
     "output_type": "stream",
     "text": [
      "True\n",
      "name='undefined' healthiness=6.6 tasty=False color='green'\n",
      "---------------------------------------------------\n",
      "0\n",
      "3\n",
      "0\n",
      "3\n",
      "name='undefined' healthiness=6.6 tasty=False color='green'\n",
      "name='undefined' healthiness=6.7 tasty=False color='green'\n",
      "name='undefined' healthiness=6.8 tasty=False color='green'\n"
     ]
    }
   ],
   "source": [
    "import asyncio\n",
    "import aioredis\n",
    "from mape.knowledge import Knowledge\n",
    "\n",
    "async def main():\n",
    "    redis = aioredis.Redis()\n",
    "    k = Knowledge(redis, '__prefix')\n",
    "\n",
    "    obj = Three(healthiness = 6.6)\n",
    "    ret = await k.keyspace.set('pickled', obj)\n",
    "    print(ret)\n",
    "    ret = await k.keyspace.get('pickled')\n",
    "    print(ret)\n",
    "\n",
    "    print(\"-----------------\"*3)\n",
    "\n",
    "    myset = k.create_set('myset', Three)\n",
    "    obj = Three(healthiness = 6.6)\n",
    "    ret = await myset.add(Three(healthiness = 6.6))\n",
    "    print(ret)\n",
    "    ret = await myset.len()\n",
    "    print(ret)\n",
    "    ret = await myset.update(Three(healthiness = 6.7), Three(healthiness = 6.8), Three(healthiness = 6.8))\n",
    "    print(ret)\n",
    "    ret = await myset.len()\n",
    "    print(ret)\n",
    "    async for i in myset.values():\n",
    "        print(i)\n",
    "\n",
    "asyncio.run(main())"
   ],
   "metadata": {
    "collapsed": false,
    "pycharm": {
     "name": "#%%\n"
    }
   }
  },
  {
   "cell_type": "code",
   "execution_count": 3,
   "outputs": [
    {
     "name": "stdout",
     "output_type": "stream",
     "text": [
      "I'm callback {'type': 'pmessage', 'pattern': b'loop_uid:*', 'channel': b'loop_uid:in', 'data': Three(name='undefined', healthiness=6.7, tasty=False, color='green')}\n",
      "TASK CLOSED <Task cancelled name='Task-3' coro=<redis_subscribe.<locals>.init_redis_sub() done, defined at /home/muttley/Projects/SecondLevelDegrees/courses/Thesis/source/playground/mape/utils.py:144>>\n"
     ]
    },
    {
     "ename": "CancelledError",
     "evalue": "",
     "output_type": "error",
     "traceback": [
      "\u001B[0;31m---------------------------------------------------------------------------\u001B[0m",
      "\u001B[0;31mCancelledError\u001B[0m                            Traceback (most recent call last)",
      "Input \u001B[0;32mIn [3]\u001B[0m, in \u001B[0;36m<module>\u001B[0;34m\u001B[0m\n\u001B[1;32m     48\u001B[0m \u001B[38;5;28;01mawait\u001B[39;00m asyncio\u001B[38;5;241m.\u001B[39msleep(\u001B[38;5;241m3\u001B[39m)\n\u001B[1;32m     50\u001B[0m task\u001B[38;5;241m.\u001B[39mcancel()\n\u001B[0;32m---> 51\u001B[0m \u001B[38;5;28;01mawait\u001B[39;00m task\n",
      "File \u001B[0;32m~/.pyenv/versions/3.8.12/lib/python3.8/asyncio/futures.py:260\u001B[0m, in \u001B[0;36mFuture.__await__\u001B[0;34m(self)\u001B[0m\n\u001B[1;32m    258\u001B[0m \u001B[38;5;28;01mif\u001B[39;00m \u001B[38;5;129;01mnot\u001B[39;00m \u001B[38;5;28mself\u001B[39m\u001B[38;5;241m.\u001B[39mdone():\n\u001B[1;32m    259\u001B[0m     \u001B[38;5;28mself\u001B[39m\u001B[38;5;241m.\u001B[39m_asyncio_future_blocking \u001B[38;5;241m=\u001B[39m \u001B[38;5;28;01mTrue\u001B[39;00m\n\u001B[0;32m--> 260\u001B[0m     \u001B[38;5;28;01myield\u001B[39;00m \u001B[38;5;28mself\u001B[39m  \u001B[38;5;66;03m# This tells Task to wait for completion.\u001B[39;00m\n\u001B[1;32m    261\u001B[0m \u001B[38;5;28;01mif\u001B[39;00m \u001B[38;5;129;01mnot\u001B[39;00m \u001B[38;5;28mself\u001B[39m\u001B[38;5;241m.\u001B[39mdone():\n\u001B[1;32m    262\u001B[0m     \u001B[38;5;28;01mraise\u001B[39;00m \u001B[38;5;167;01mRuntimeError\u001B[39;00m(\u001B[38;5;124m\"\u001B[39m\u001B[38;5;124mawait wasn\u001B[39m\u001B[38;5;124m'\u001B[39m\u001B[38;5;124mt used with future\u001B[39m\u001B[38;5;124m\"\u001B[39m)\n",
      "File \u001B[0;32m~/.pyenv/versions/3.8.12/lib/python3.8/asyncio/tasks.py:349\u001B[0m, in \u001B[0;36mTask.__wakeup\u001B[0;34m(self, future)\u001B[0m\n\u001B[1;32m    347\u001B[0m \u001B[38;5;28;01mdef\u001B[39;00m \u001B[38;5;21m__wakeup\u001B[39m(\u001B[38;5;28mself\u001B[39m, future):\n\u001B[1;32m    348\u001B[0m     \u001B[38;5;28;01mtry\u001B[39;00m:\n\u001B[0;32m--> 349\u001B[0m         \u001B[43mfuture\u001B[49m\u001B[38;5;241;43m.\u001B[39;49m\u001B[43mresult\u001B[49m\u001B[43m(\u001B[49m\u001B[43m)\u001B[49m\n\u001B[1;32m    350\u001B[0m     \u001B[38;5;28;01mexcept\u001B[39;00m \u001B[38;5;167;01mBaseException\u001B[39;00m \u001B[38;5;28;01mas\u001B[39;00m exc:\n\u001B[1;32m    351\u001B[0m         \u001B[38;5;66;03m# This may also be a cancellation.\u001B[39;00m\n\u001B[1;32m    352\u001B[0m         \u001B[38;5;28mself\u001B[39m\u001B[38;5;241m.\u001B[39m__step(exc)\n",
      "File \u001B[0;32m~/.pyenv/versions/3.8.12/lib/python3.8/asyncio/futures.py:173\u001B[0m, in \u001B[0;36mFuture.result\u001B[0;34m(self)\u001B[0m\n\u001B[1;32m    166\u001B[0m \u001B[38;5;124;03m\"\"\"Return the result this future represents.\u001B[39;00m\n\u001B[1;32m    167\u001B[0m \n\u001B[1;32m    168\u001B[0m \u001B[38;5;124;03mIf the future has been cancelled, raises CancelledError.  If the\u001B[39;00m\n\u001B[1;32m    169\u001B[0m \u001B[38;5;124;03mfuture's result isn't yet available, raises InvalidStateError.  If\u001B[39;00m\n\u001B[1;32m    170\u001B[0m \u001B[38;5;124;03mthe future is done and has an exception set, this exception is raised.\u001B[39;00m\n\u001B[1;32m    171\u001B[0m \u001B[38;5;124;03m\"\"\"\u001B[39;00m\n\u001B[1;32m    172\u001B[0m \u001B[38;5;28;01mif\u001B[39;00m \u001B[38;5;28mself\u001B[39m\u001B[38;5;241m.\u001B[39m_state \u001B[38;5;241m==\u001B[39m _CANCELLED:\n\u001B[0;32m--> 173\u001B[0m     \u001B[38;5;28;01mraise\u001B[39;00m exceptions\u001B[38;5;241m.\u001B[39mCancelledError\n\u001B[1;32m    174\u001B[0m \u001B[38;5;28;01mif\u001B[39;00m \u001B[38;5;28mself\u001B[39m\u001B[38;5;241m.\u001B[39m_state \u001B[38;5;241m!=\u001B[39m _FINISHED:\n\u001B[1;32m    175\u001B[0m     \u001B[38;5;28;01mraise\u001B[39;00m exceptions\u001B[38;5;241m.\u001B[39mInvalidStateError(\u001B[38;5;124m'\u001B[39m\u001B[38;5;124mResult is not ready.\u001B[39m\u001B[38;5;124m'\u001B[39m)\n",
      "\u001B[0;31mCancelledError\u001B[0m: "
     ]
    }
   ],
   "source": [
    "import asyncio\n",
    "import aioredis\n",
    "\n",
    "import nest_asyncio\n",
    "nest_asyncio.apply()\n",
    "\n",
    "from typing import List, Dict, Callable\n",
    "from functools import partial\n",
    "from mape.utils import log_task_exception\n",
    "\n",
    "def _serializer(obj):\n",
    "    return pickle.dumps(obj, pickle.HIGHEST_PROTOCOL)\n",
    "\n",
    "def _deserializer(raw):\n",
    "    return pickle.loads(raw)\n",
    "\n",
    "def redis_subscribe(sub_handlers: Dict[str, Callable], deserializer=_deserializer):\n",
    "    # channels_patterns = channels_patterns if isinstance(channels_patterns, List) else [channels_patterns]\n",
    "\n",
    "    def _on_publish(message, callback):\n",
    "        message['data'] = _deserializer(message['data'])\n",
    "        callback(message)\n",
    "\n",
    "    @log_task_exception\n",
    "    async def init_redis_sub():\n",
    "        redis = aioredis.Redis()\n",
    "        pubsub = redis.pubsub()\n",
    "\n",
    "        patterns_callbacks = {pattern: partial(_on_publish, callback=handler) for pattern, handler in sub_handlers.items()}\n",
    "        await pubsub.psubscribe(**patterns_callbacks)\n",
    "        await pubsub.run()\n",
    "\n",
    "    task = asyncio.create_task(init_redis_sub())\n",
    "\n",
    "    def cancel(ok):\n",
    "        print(\"TASK CLOSED\", ok)\n",
    "\n",
    "    task.add_done_callback(cancel)\n",
    "    return task\n",
    "\n",
    "def chiamami(ciao=None):\n",
    "    print(\"I'm callback\", ciao)\n",
    "\n",
    "task = redis_subscribe({'loop_uid:*': chiamami})\n",
    "\n",
    "await aioredis.Redis().publish('loop_uid:in', _serializer(Three(healthiness = 6.7)))\n",
    "\n",
    "await asyncio.sleep(3)\n",
    "\n",
    "task.cancel()\n",
    "await task"
   ],
   "metadata": {
    "collapsed": false,
    "pycharm": {
     "name": "#%%\n"
    }
   }
  },
  {
   "cell_type": "code",
   "execution_count": 7,
   "outputs": [
    {
     "data": {
      "text/plain": "3"
     },
     "execution_count": 7,
     "metadata": {},
     "output_type": "execute_result"
    }
   ],
   "source": [
    "await aioredis.Redis().publish('loop_uid:in', _serializer(Three(healthiness = 6.7)))\n",
    "# await asyncio.sleep(10)"
   ],
   "metadata": {
    "collapsed": false,
    "pycharm": {
     "name": "#%%\n"
    }
   }
  },
  {
   "cell_type": "code",
   "execution_count": 5,
   "outputs": [
    {
     "data": {
      "text/plain": "2"
     },
     "execution_count": 5,
     "metadata": {},
     "output_type": "execute_result"
    }
   ],
   "source": [
    "await aioredis.Redis().publish('loop_uid:in', _serializer(Three(healthiness = 6.7)))"
   ],
   "metadata": {
    "collapsed": false,
    "pycharm": {
     "name": "#%%\n"
    }
   }
  },
  {
   "cell_type": "code",
   "execution_count": 4,
   "outputs": [
    {
     "name": "stdout",
     "output_type": "stream",
     "text": [
      "Collecting uvicorn\r\n",
      "  Downloading uvicorn-0.17.4-py3-none-any.whl (52 kB)\r\n",
      "\u001B[K     |████████████████████████████████| 52 kB 439 kB/s eta 0:00:01\r\n",
      "\u001B[?25hCollecting FastAPI\r\n",
      "  Downloading fastapi-0.73.0-py3-none-any.whl (52 kB)\r\n",
      "\u001B[K     |████████████████████████████████| 52 kB 670 kB/s eta 0:00:01\r\n",
      "\u001B[?25hCollecting h11>=0.8\r\n",
      "  Downloading h11-0.13.0-py3-none-any.whl (58 kB)\r\n",
      "\u001B[K     |████████████████████████████████| 58 kB 1.3 MB/s eta 0:00:01\r\n",
      "\u001B[?25hCollecting asgiref>=3.4.0\r\n",
      "  Downloading asgiref-3.5.0-py3-none-any.whl (22 kB)\r\n",
      "Requirement already satisfied: click>=7.0 in /home/muttley/.pyenv/versions/3.8.12/envs/venv-3.8.12/lib/python3.8/site-packages (from uvicorn) (8.0.3)\r\n",
      "Collecting starlette==0.17.1\r\n",
      "  Downloading starlette-0.17.1-py3-none-any.whl (58 kB)\r\n",
      "\u001B[K     |████████████████████████████████| 58 kB 1.3 MB/s eta 0:00:01\r\n",
      "\u001B[?25hRequirement already satisfied: pydantic!=1.7,!=1.7.1,!=1.7.2,!=1.7.3,!=1.8,!=1.8.1,<2.0.0,>=1.6.2 in /home/muttley/.pyenv/versions/3.8.12/envs/venv-3.8.12/lib/python3.8/site-packages (from FastAPI) (1.8.2)\r\n",
      "Collecting anyio<4,>=3.0.0\r\n",
      "  Downloading anyio-3.5.0-py3-none-any.whl (79 kB)\r\n",
      "\u001B[K     |████████████████████████████████| 79 kB 1.4 MB/s eta 0:00:01\r\n",
      "\u001B[?25hCollecting sniffio>=1.1\r\n",
      "  Downloading sniffio-1.2.0-py3-none-any.whl (10 kB)\r\n",
      "Collecting idna>=2.8\r\n",
      "  Downloading idna-3.3-py3-none-any.whl (61 kB)\r\n",
      "\u001B[K     |████████████████████████████████| 61 kB 1.5 MB/s eta 0:00:01\r\n",
      "\u001B[?25hRequirement already satisfied: typing-extensions>=3.7.4.3 in /home/muttley/.pyenv/versions/3.8.12/envs/venv-3.8.12/lib/python3.8/site-packages (from pydantic!=1.7,!=1.7.1,!=1.7.2,!=1.7.3,!=1.8,!=1.8.1,<2.0.0,>=1.6.2->FastAPI) (4.0.1)\r\n",
      "Installing collected packages: sniffio, idna, anyio, starlette, h11, asgiref, uvicorn, FastAPI\r\n",
      "Successfully installed FastAPI-0.73.0 anyio-3.5.0 asgiref-3.5.0 h11-0.13.0 idna-3.3 sniffio-1.2.0 starlette-0.17.1 uvicorn-0.17.4\r\n",
      "\u001B[33mWARNING: You are using pip version 21.1.1; however, version 22.0.3 is available.\r\n",
      "You should consider upgrading via the '/home/muttley/.pyenv/versions/3.8.12/envs/venv-3.8.12/bin/python3.8 -m pip install --upgrade pip' command.\u001B[0m\r\n"
     ]
    }
   ],
   "source": [
    "!pip install uvicorn FastAPI"
   ],
   "metadata": {
    "collapsed": false,
    "pycharm": {
     "name": "#%%\n"
    }
   }
  },
  {
   "cell_type": "code",
   "execution_count": 5,
   "outputs": [],
   "source": [
    "from typing import Optional\n",
    "\n",
    "from fastapi import FastAPI\n",
    "\n",
    "app = FastAPI()\n",
    "\n",
    "\n",
    "@app.get(\"/\")\n",
    "async def read_root():\n",
    "    return {\"Hello\": \"World\"}\n",
    "\n",
    "\n",
    "@app.get(\"/items/{item_id}\")\n",
    "async def read_item(item_id: int, q: Optional[str] = None):\n",
    "    return {\"item_id\": item_id, \"q\": q}"
   ],
   "metadata": {
    "collapsed": false,
    "pycharm": {
     "name": "#%%\n"
    }
   }
  },
  {
   "cell_type": "code",
   "execution_count": null,
   "outputs": [],
   "source": [
    "import uvicorn\n",
    "\n",
    "uvicorn.run(\".:app\", host='0.0.0.0', port=4557, reload=True, debug=True, workers=3)"
   ],
   "metadata": {
    "collapsed": false,
    "pycharm": {
     "name": "#%%\n"
    }
   }
  },
  {
   "cell_type": "code",
   "execution_count": 5,
   "outputs": [
    {
     "name": "stdout",
     "output_type": "stream",
     "text": [
      "Requirement already satisfied: aiohttp in /home/muttley/.pyenv/versions/3.8.12/envs/venv-3.8.12/lib/python3.8/site-packages (3.8.1)\r\n",
      "Requirement already satisfied: cchardet in /home/muttley/.pyenv/versions/3.8.12/envs/venv-3.8.12/lib/python3.8/site-packages (2.1.7)\r\n",
      "Requirement already satisfied: frozenlist>=1.1.1 in /home/muttley/.pyenv/versions/3.8.12/envs/venv-3.8.12/lib/python3.8/site-packages (from aiohttp) (1.3.0)\r\n",
      "Requirement already satisfied: aiosignal>=1.1.2 in /home/muttley/.pyenv/versions/3.8.12/envs/venv-3.8.12/lib/python3.8/site-packages (from aiohttp) (1.2.0)\r\n",
      "Requirement already satisfied: yarl<2.0,>=1.0 in /home/muttley/.pyenv/versions/3.8.12/envs/venv-3.8.12/lib/python3.8/site-packages (from aiohttp) (1.7.2)\r\n",
      "Requirement already satisfied: charset-normalizer<3.0,>=2.0 in /home/muttley/.pyenv/versions/3.8.12/envs/venv-3.8.12/lib/python3.8/site-packages (from aiohttp) (2.0.12)\r\n",
      "Requirement already satisfied: async-timeout<5.0,>=4.0.0a3 in /home/muttley/.pyenv/versions/3.8.12/envs/venv-3.8.12/lib/python3.8/site-packages (from aiohttp) (4.0.2)\r\n",
      "Requirement already satisfied: multidict<7.0,>=4.5 in /home/muttley/.pyenv/versions/3.8.12/envs/venv-3.8.12/lib/python3.8/site-packages (from aiohttp) (6.0.2)\r\n",
      "Requirement already satisfied: attrs>=17.3.0 in /home/muttley/.pyenv/versions/3.8.12/envs/venv-3.8.12/lib/python3.8/site-packages (from aiohttp) (21.4.0)\r\n",
      "Requirement already satisfied: idna>=2.0 in /home/muttley/.pyenv/versions/3.8.12/envs/venv-3.8.12/lib/python3.8/site-packages (from yarl<2.0,>=1.0->aiohttp) (3.3)\r\n",
      "\u001B[33mWARNING: You are using pip version 21.1.1; however, version 22.0.3 is available.\r\n",
      "You should consider upgrading via the '/home/muttley/.pyenv/versions/3.8.12/envs/venv-3.8.12/bin/python3.8 -m pip install --upgrade pip' command.\u001B[0m\r\n"
     ]
    }
   ],
   "source": [
    "!pip install aiohttp cchardet"
   ],
   "metadata": {
    "collapsed": false,
    "pycharm": {
     "name": "#%%\n"
    }
   }
  },
  {
   "cell_type": "code",
   "execution_count": 33,
   "outputs": [
    {
     "name": "stdout",
     "output_type": "stream",
     "text": [
      "200\n",
      "ok\n",
      "None\n"
     ]
    }
   ],
   "source": [
    "import json\n",
    "import aiohttp\n",
    "import asyncio\n",
    "\n",
    "from aiohttp.client_exceptions import ClientError\n",
    "\n",
    "import nest_asyncio\n",
    "nest_asyncio.apply()\n",
    "\n",
    "\n",
    "session = aiohttp.ClientSession('http://0.0.0.0:6060')\n",
    "try:\n",
    "    params = {'port': 'in', 'notifications': 'next'}\n",
    "    async with session.post('/loops/rest-test/elements/executer', data=b'data', params=params) as resp:\n",
    "        print(resp.status)\n",
    "        if resp.status == 200:\n",
    "            print(\"ok\")\n",
    "        else:\n",
    "            print(\"something go wrong\")\n",
    "        text = await resp.text()\n",
    "        print(json.loads(text))\n",
    "except ClientError as e:\n",
    "    raise\n",
    "finally:\n",
    "    await session.close()\n"
   ],
   "metadata": {
    "collapsed": false,
    "pycharm": {
     "name": "#%%\n"
    }
   }
  },
  {
   "cell_type": "code",
   "execution_count": 15,
   "outputs": [],
   "source": [
    "url = '/loops/uid/elements/uid'\n",
    "path = 'loop_uid.element_uid.dd'"
   ],
   "metadata": {
    "collapsed": false,
    "pycharm": {
     "name": "#%%\n"
    }
   }
  },
  {
   "cell_type": "code",
   "execution_count": 16,
   "outputs": [
    {
     "name": "stdout",
     "output_type": "stream",
     "text": [
      "malformed path\n"
     ]
    }
   ],
   "source": [
    "from mape.constants import RESERVED_SEPARATOR\n",
    "\n",
    "element_notify_path = '/loops/{loop_uid}/elements/{element_uid}'\n",
    "\n",
    "try:\n",
    "    loop_uid, element_uid = path.split(RESERVED_SEPARATOR)\n",
    "    print(\"ciao\")\n",
    "    element_notify_path.format(loop_uid=loop_uid, element_uid=element_uid)\n",
    "except ValueError as e:\n",
    "    print('malformed path')"
   ],
   "metadata": {
    "collapsed": false,
    "pycharm": {
     "name": "#%%\n"
    }
   }
  },
  {
   "cell_type": "code",
   "execution_count": null,
   "outputs": [
    {
     "ename": "KeyboardInterrupt",
     "evalue": "",
     "output_type": "error",
     "traceback": [
      "\u001B[0;31m---------------------------------------------------------------------------\u001B[0m",
      "\u001B[0;31mKeyboardInterrupt\u001B[0m                         Traceback (most recent call last)",
      "File \u001B[0;32m~/.pyenv/versions/venv-3.8.12/lib/python3.8/site-packages/IPython/utils/_process_posix.py:153\u001B[0m, in \u001B[0;36mProcessHandler.system\u001B[0;34m(self, cmd)\u001B[0m\n\u001B[1;32m    150\u001B[0m \u001B[38;5;28;01mwhile\u001B[39;00m \u001B[38;5;28;01mTrue\u001B[39;00m:\n\u001B[1;32m    151\u001B[0m     \u001B[38;5;66;03m# res is the index of the pattern that caused the match, so we\u001B[39;00m\n\u001B[1;32m    152\u001B[0m     \u001B[38;5;66;03m# know whether we've finished (if we matched EOF) or not\u001B[39;00m\n\u001B[0;32m--> 153\u001B[0m     res_idx \u001B[38;5;241m=\u001B[39m \u001B[43mchild\u001B[49m\u001B[38;5;241;43m.\u001B[39;49m\u001B[43mexpect_list\u001B[49m\u001B[43m(\u001B[49m\u001B[43mpatterns\u001B[49m\u001B[43m,\u001B[49m\u001B[43m \u001B[49m\u001B[38;5;28;43mself\u001B[39;49m\u001B[38;5;241;43m.\u001B[39;49m\u001B[43mread_timeout\u001B[49m\u001B[43m)\u001B[49m\n\u001B[1;32m    154\u001B[0m     \u001B[38;5;28mprint\u001B[39m(child\u001B[38;5;241m.\u001B[39mbefore[out_size:]\u001B[38;5;241m.\u001B[39mdecode(enc, \u001B[38;5;124m'\u001B[39m\u001B[38;5;124mreplace\u001B[39m\u001B[38;5;124m'\u001B[39m), end\u001B[38;5;241m=\u001B[39m\u001B[38;5;124m'\u001B[39m\u001B[38;5;124m'\u001B[39m)\n",
      "File \u001B[0;32m~/.pyenv/versions/venv-3.8.12/lib/python3.8/site-packages/pexpect/spawnbase.py:372\u001B[0m, in \u001B[0;36mSpawnBase.expect_list\u001B[0;34m(self, pattern_list, timeout, searchwindowsize, async_, **kw)\u001B[0m\n\u001B[1;32m    371\u001B[0m \u001B[38;5;28;01melse\u001B[39;00m:\n\u001B[0;32m--> 372\u001B[0m     \u001B[38;5;28;01mreturn\u001B[39;00m \u001B[43mexp\u001B[49m\u001B[38;5;241;43m.\u001B[39;49m\u001B[43mexpect_loop\u001B[49m\u001B[43m(\u001B[49m\u001B[43mtimeout\u001B[49m\u001B[43m)\u001B[49m\n",
      "File \u001B[0;32m~/.pyenv/versions/venv-3.8.12/lib/python3.8/site-packages/pexpect/expect.py:169\u001B[0m, in \u001B[0;36mExpecter.expect_loop\u001B[0;34m(self, timeout)\u001B[0m\n\u001B[1;32m    168\u001B[0m \u001B[38;5;66;03m# Still have time left, so read more data\u001B[39;00m\n\u001B[0;32m--> 169\u001B[0m incoming \u001B[38;5;241m=\u001B[39m \u001B[43mspawn\u001B[49m\u001B[38;5;241;43m.\u001B[39;49m\u001B[43mread_nonblocking\u001B[49m\u001B[43m(\u001B[49m\u001B[43mspawn\u001B[49m\u001B[38;5;241;43m.\u001B[39;49m\u001B[43mmaxread\u001B[49m\u001B[43m,\u001B[49m\u001B[43m \u001B[49m\u001B[43mtimeout\u001B[49m\u001B[43m)\u001B[49m\n\u001B[1;32m    170\u001B[0m \u001B[38;5;28;01mif\u001B[39;00m \u001B[38;5;28mself\u001B[39m\u001B[38;5;241m.\u001B[39mspawn\u001B[38;5;241m.\u001B[39mdelayafterread \u001B[38;5;129;01mis\u001B[39;00m \u001B[38;5;129;01mnot\u001B[39;00m \u001B[38;5;28;01mNone\u001B[39;00m:\n",
      "File \u001B[0;32m~/.pyenv/versions/venv-3.8.12/lib/python3.8/site-packages/pexpect/pty_spawn.py:500\u001B[0m, in \u001B[0;36mspawn.read_nonblocking\u001B[0;34m(self, size, timeout)\u001B[0m\n\u001B[1;32m    497\u001B[0m \u001B[38;5;66;03m# Because of the select(0) check above, we know that no data\u001B[39;00m\n\u001B[1;32m    498\u001B[0m \u001B[38;5;66;03m# is available right now. But if a non-zero timeout is given\u001B[39;00m\n\u001B[1;32m    499\u001B[0m \u001B[38;5;66;03m# (possibly timeout=None), we call select() with a timeout.\u001B[39;00m\n\u001B[0;32m--> 500\u001B[0m \u001B[38;5;28;01mif\u001B[39;00m (timeout \u001B[38;5;241m!=\u001B[39m \u001B[38;5;241m0\u001B[39m) \u001B[38;5;129;01mand\u001B[39;00m \u001B[43mselect\u001B[49m\u001B[43m(\u001B[49m\u001B[43mtimeout\u001B[49m\u001B[43m)\u001B[49m:\n\u001B[1;32m    501\u001B[0m     \u001B[38;5;28;01mreturn\u001B[39;00m \u001B[38;5;28msuper\u001B[39m(spawn, \u001B[38;5;28mself\u001B[39m)\u001B[38;5;241m.\u001B[39mread_nonblocking(size)\n",
      "File \u001B[0;32m~/.pyenv/versions/venv-3.8.12/lib/python3.8/site-packages/pexpect/pty_spawn.py:450\u001B[0m, in \u001B[0;36mspawn.read_nonblocking.<locals>.select\u001B[0;34m(timeout)\u001B[0m\n\u001B[1;32m    449\u001B[0m \u001B[38;5;28;01mdef\u001B[39;00m \u001B[38;5;21mselect\u001B[39m(timeout):\n\u001B[0;32m--> 450\u001B[0m     \u001B[38;5;28;01mreturn\u001B[39;00m \u001B[43mselect_ignore_interrupts\u001B[49m\u001B[43m(\u001B[49m\u001B[43m[\u001B[49m\u001B[38;5;28;43mself\u001B[39;49m\u001B[38;5;241;43m.\u001B[39;49m\u001B[43mchild_fd\u001B[49m\u001B[43m]\u001B[49m\u001B[43m,\u001B[49m\u001B[43m \u001B[49m\u001B[43m[\u001B[49m\u001B[43m]\u001B[49m\u001B[43m,\u001B[49m\u001B[43m \u001B[49m\u001B[43m[\u001B[49m\u001B[43m]\u001B[49m\u001B[43m,\u001B[49m\u001B[43m \u001B[49m\u001B[43mtimeout\u001B[49m\u001B[43m)\u001B[49m[\u001B[38;5;241m0\u001B[39m]\n",
      "File \u001B[0;32m~/.pyenv/versions/venv-3.8.12/lib/python3.8/site-packages/pexpect/utils.py:143\u001B[0m, in \u001B[0;36mselect_ignore_interrupts\u001B[0;34m(iwtd, owtd, ewtd, timeout)\u001B[0m\n\u001B[1;32m    142\u001B[0m \u001B[38;5;28;01mtry\u001B[39;00m:\n\u001B[0;32m--> 143\u001B[0m     \u001B[38;5;28;01mreturn\u001B[39;00m \u001B[43mselect\u001B[49m\u001B[38;5;241;43m.\u001B[39;49m\u001B[43mselect\u001B[49m\u001B[43m(\u001B[49m\u001B[43miwtd\u001B[49m\u001B[43m,\u001B[49m\u001B[43m \u001B[49m\u001B[43mowtd\u001B[49m\u001B[43m,\u001B[49m\u001B[43m \u001B[49m\u001B[43mewtd\u001B[49m\u001B[43m,\u001B[49m\u001B[43m \u001B[49m\u001B[43mtimeout\u001B[49m\u001B[43m)\u001B[49m\n\u001B[1;32m    144\u001B[0m \u001B[38;5;28;01mexcept\u001B[39;00m \u001B[38;5;167;01mInterruptedError\u001B[39;00m:\n",
      "\u001B[0;31mKeyboardInterrupt\u001B[0m: ",
      "\nDuring handling of the above exception, another exception occurred:\n",
      "\u001B[0;31mKeyboardInterrupt\u001B[0m                         Traceback (most recent call last)",
      "Input \u001B[0;32mIn [15]\u001B[0m, in \u001B[0;36m<module>\u001B[0;34m\u001B[0m\n\u001B[0;32m----> 1\u001B[0m \u001B[43mget_ipython\u001B[49m\u001B[43m(\u001B[49m\u001B[43m)\u001B[49m\u001B[38;5;241;43m.\u001B[39;49m\u001B[43msystem\u001B[49m\u001B[43m(\u001B[49m\u001B[38;5;124;43m'\u001B[39;49m\u001B[38;5;124;43mpip uninstall aioinflux\u001B[39;49m\u001B[38;5;124;43m'\u001B[39;49m\u001B[43m)\u001B[49m\n",
      "File \u001B[0;32m~/.pyenv/versions/venv-3.8.12/lib/python3.8/site-packages/ipykernel/zmqshell.py:636\u001B[0m, in \u001B[0;36mZMQInteractiveShell.system_piped\u001B[0;34m(self, cmd)\u001B[0m\n\u001B[1;32m    634\u001B[0m         \u001B[38;5;28mself\u001B[39m\u001B[38;5;241m.\u001B[39muser_ns[\u001B[38;5;124m'\u001B[39m\u001B[38;5;124m_exit_code\u001B[39m\u001B[38;5;124m'\u001B[39m] \u001B[38;5;241m=\u001B[39m system(cmd)\n\u001B[1;32m    635\u001B[0m \u001B[38;5;28;01melse\u001B[39;00m:\n\u001B[0;32m--> 636\u001B[0m     \u001B[38;5;28mself\u001B[39m\u001B[38;5;241m.\u001B[39muser_ns[\u001B[38;5;124m'\u001B[39m\u001B[38;5;124m_exit_code\u001B[39m\u001B[38;5;124m'\u001B[39m] \u001B[38;5;241m=\u001B[39m \u001B[43msystem\u001B[49m\u001B[43m(\u001B[49m\u001B[38;5;28;43mself\u001B[39;49m\u001B[38;5;241;43m.\u001B[39;49m\u001B[43mvar_expand\u001B[49m\u001B[43m(\u001B[49m\u001B[43mcmd\u001B[49m\u001B[43m,\u001B[49m\u001B[43m \u001B[49m\u001B[43mdepth\u001B[49m\u001B[38;5;241;43m=\u001B[39;49m\u001B[38;5;241;43m1\u001B[39;49m\u001B[43m)\u001B[49m\u001B[43m)\u001B[49m\n",
      "File \u001B[0;32m~/.pyenv/versions/venv-3.8.12/lib/python3.8/site-packages/IPython/utils/_process_posix.py:164\u001B[0m, in \u001B[0;36mProcessHandler.system\u001B[0;34m(self, cmd)\u001B[0m\n\u001B[1;32m    159\u001B[0m         out_size \u001B[38;5;241m=\u001B[39m \u001B[38;5;28mlen\u001B[39m(child\u001B[38;5;241m.\u001B[39mbefore)\n\u001B[1;32m    160\u001B[0m \u001B[38;5;28;01mexcept\u001B[39;00m \u001B[38;5;167;01mKeyboardInterrupt\u001B[39;00m:\n\u001B[1;32m    161\u001B[0m     \u001B[38;5;66;03m# We need to send ^C to the process.  The ascii code for '^C' is 3\u001B[39;00m\n\u001B[1;32m    162\u001B[0m     \u001B[38;5;66;03m# (the character is known as ETX for 'End of Text', see\u001B[39;00m\n\u001B[1;32m    163\u001B[0m     \u001B[38;5;66;03m# curses.ascii.ETX).\u001B[39;00m\n\u001B[0;32m--> 164\u001B[0m     \u001B[43mchild\u001B[49m\u001B[38;5;241;43m.\u001B[39;49m\u001B[43msendline\u001B[49m\u001B[43m(\u001B[49m\u001B[38;5;28;43mchr\u001B[39;49m\u001B[43m(\u001B[49m\u001B[38;5;241;43m3\u001B[39;49m\u001B[43m)\u001B[49m\u001B[43m)\u001B[49m\n\u001B[1;32m    165\u001B[0m     \u001B[38;5;66;03m# Read and print any more output the program might produce on its\u001B[39;00m\n\u001B[1;32m    166\u001B[0m     \u001B[38;5;66;03m# way out.\u001B[39;00m\n\u001B[1;32m    167\u001B[0m     \u001B[38;5;28;01mtry\u001B[39;00m:\n",
      "File \u001B[0;32m~/.pyenv/versions/venv-3.8.12/lib/python3.8/site-packages/pexpect/pty_spawn.py:578\u001B[0m, in \u001B[0;36mspawn.sendline\u001B[0;34m(self, s)\u001B[0m\n\u001B[1;32m    572\u001B[0m \u001B[38;5;124;03m'''Wraps send(), sending string ``s`` to child process, with\u001B[39;00m\n\u001B[1;32m    573\u001B[0m \u001B[38;5;124;03m``os.linesep`` automatically appended. Returns number of bytes\u001B[39;00m\n\u001B[1;32m    574\u001B[0m \u001B[38;5;124;03mwritten.  Only a limited number of bytes may be sent for each\u001B[39;00m\n\u001B[1;32m    575\u001B[0m \u001B[38;5;124;03mline in the default terminal mode, see docstring of :meth:`send`.\u001B[39;00m\n\u001B[1;32m    576\u001B[0m \u001B[38;5;124;03m'''\u001B[39;00m\n\u001B[1;32m    577\u001B[0m s \u001B[38;5;241m=\u001B[39m \u001B[38;5;28mself\u001B[39m\u001B[38;5;241m.\u001B[39m_coerce_send_string(s)\n\u001B[0;32m--> 578\u001B[0m \u001B[38;5;28;01mreturn\u001B[39;00m \u001B[38;5;28;43mself\u001B[39;49m\u001B[38;5;241;43m.\u001B[39;49m\u001B[43msend\u001B[49m\u001B[43m(\u001B[49m\u001B[43ms\u001B[49m\u001B[43m \u001B[49m\u001B[38;5;241;43m+\u001B[39;49m\u001B[43m \u001B[49m\u001B[38;5;28;43mself\u001B[39;49m\u001B[38;5;241;43m.\u001B[39;49m\u001B[43mlinesep\u001B[49m\u001B[43m)\u001B[49m\n",
      "File \u001B[0;32m~/.pyenv/versions/venv-3.8.12/lib/python3.8/site-packages/pexpect/pty_spawn.py:563\u001B[0m, in \u001B[0;36mspawn.send\u001B[0;34m(self, s)\u001B[0m\n\u001B[1;32m    528\u001B[0m \u001B[38;5;124;03m'''Sends string ``s`` to the child process, returning the number of\u001B[39;00m\n\u001B[1;32m    529\u001B[0m \u001B[38;5;124;03mbytes written. If a logfile is specified, a copy is written to that\u001B[39;00m\n\u001B[1;32m    530\u001B[0m \u001B[38;5;124;03mlog.\u001B[39;00m\n\u001B[0;32m   (...)\u001B[0m\n\u001B[1;32m    559\u001B[0m \u001B[38;5;124;03m    >>> bash.sendline('x' * 5000)\u001B[39;00m\n\u001B[1;32m    560\u001B[0m \u001B[38;5;124;03m'''\u001B[39;00m\n\u001B[1;32m    562\u001B[0m \u001B[38;5;28;01mif\u001B[39;00m \u001B[38;5;28mself\u001B[39m\u001B[38;5;241m.\u001B[39mdelaybeforesend \u001B[38;5;129;01mis\u001B[39;00m \u001B[38;5;129;01mnot\u001B[39;00m \u001B[38;5;28;01mNone\u001B[39;00m:\n\u001B[0;32m--> 563\u001B[0m     \u001B[43mtime\u001B[49m\u001B[38;5;241;43m.\u001B[39;49m\u001B[43msleep\u001B[49m\u001B[43m(\u001B[49m\u001B[38;5;28;43mself\u001B[39;49m\u001B[38;5;241;43m.\u001B[39;49m\u001B[43mdelaybeforesend\u001B[49m\u001B[43m)\u001B[49m\n\u001B[1;32m    565\u001B[0m s \u001B[38;5;241m=\u001B[39m \u001B[38;5;28mself\u001B[39m\u001B[38;5;241m.\u001B[39m_coerce_send_string(s)\n\u001B[1;32m    566\u001B[0m \u001B[38;5;28mself\u001B[39m\u001B[38;5;241m.\u001B[39m_log(s, \u001B[38;5;124m'\u001B[39m\u001B[38;5;124msend\u001B[39m\u001B[38;5;124m'\u001B[39m)\n",
      "\u001B[0;31mKeyboardInterrupt\u001B[0m: "
     ]
    }
   ],
   "source": [
    "!pip uninstall aioinflux"
   ],
   "metadata": {
    "collapsed": false,
    "pycharm": {
     "name": "#%%\n"
    }
   }
  },
  {
   "cell_type": "code",
   "execution_count": 9,
   "outputs": [
    {
     "name": "stderr",
     "output_type": "stream",
     "text": [
      "DEBUG:aioinflux:401: CREATE DATABASE \"testdb\"\n"
     ]
    },
    {
     "name": "stdout",
     "output_type": "stream",
     "text": [
      "resp {'code': 'unauthorized', 'message': 'Unauthorized'}\n"
     ]
    },
    {
     "ename": "InfluxDBWriteError",
     "evalue": "Error writing data (401 - Unauthorized): ",
     "output_type": "error",
     "traceback": [
      "\u001B[0;31m---------------------------------------------------------------------------\u001B[0m",
      "\u001B[0;31mInfluxDBWriteError\u001B[0m                        Traceback (most recent call last)",
      "Input \u001B[0;32mIn [9]\u001B[0m, in \u001B[0;36m<module>\u001B[0;34m\u001B[0m\n\u001B[1;32m     27\u001B[0m         resp \u001B[38;5;241m=\u001B[39m \u001B[38;5;28;01mawait\u001B[39;00m client\u001B[38;5;241m.\u001B[39mquery(\u001B[38;5;124m'\u001B[39m\u001B[38;5;124mSELECT value FROM cpu_load_short\u001B[39m\u001B[38;5;124m'\u001B[39m)\n\u001B[1;32m     28\u001B[0m         \u001B[38;5;28mprint\u001B[39m(resp)\n\u001B[0;32m---> 31\u001B[0m \u001B[43masyncio\u001B[49m\u001B[38;5;241;43m.\u001B[39;49m\u001B[43mrun\u001B[49m\u001B[43m(\u001B[49m\u001B[43mmain\u001B[49m\u001B[43m(\u001B[49m\u001B[43m)\u001B[49m\u001B[43m)\u001B[49m\n",
      "File \u001B[0;32m~/.pyenv/versions/venv-3.8.12/lib/python3.8/site-packages/nest_asyncio.py:38\u001B[0m, in \u001B[0;36m_patch_asyncio.<locals>.run\u001B[0;34m(main, debug)\u001B[0m\n\u001B[1;32m     36\u001B[0m task \u001B[38;5;241m=\u001B[39m asyncio\u001B[38;5;241m.\u001B[39mensure_future(main)\n\u001B[1;32m     37\u001B[0m \u001B[38;5;28;01mtry\u001B[39;00m:\n\u001B[0;32m---> 38\u001B[0m     \u001B[38;5;28;01mreturn\u001B[39;00m \u001B[43mloop\u001B[49m\u001B[38;5;241;43m.\u001B[39;49m\u001B[43mrun_until_complete\u001B[49m\u001B[43m(\u001B[49m\u001B[43mtask\u001B[49m\u001B[43m)\u001B[49m\n\u001B[1;32m     39\u001B[0m \u001B[38;5;28;01mfinally\u001B[39;00m:\n\u001B[1;32m     40\u001B[0m     \u001B[38;5;28;01mif\u001B[39;00m \u001B[38;5;129;01mnot\u001B[39;00m task\u001B[38;5;241m.\u001B[39mdone():\n",
      "File \u001B[0;32m~/.pyenv/versions/venv-3.8.12/lib/python3.8/site-packages/nest_asyncio.py:81\u001B[0m, in \u001B[0;36m_patch_loop.<locals>.run_until_complete\u001B[0;34m(self, future)\u001B[0m\n\u001B[1;32m     78\u001B[0m \u001B[38;5;28;01mif\u001B[39;00m \u001B[38;5;129;01mnot\u001B[39;00m f\u001B[38;5;241m.\u001B[39mdone():\n\u001B[1;32m     79\u001B[0m     \u001B[38;5;28;01mraise\u001B[39;00m \u001B[38;5;167;01mRuntimeError\u001B[39;00m(\n\u001B[1;32m     80\u001B[0m         \u001B[38;5;124m'\u001B[39m\u001B[38;5;124mEvent loop stopped before Future completed.\u001B[39m\u001B[38;5;124m'\u001B[39m)\n\u001B[0;32m---> 81\u001B[0m \u001B[38;5;28;01mreturn\u001B[39;00m \u001B[43mf\u001B[49m\u001B[38;5;241;43m.\u001B[39;49m\u001B[43mresult\u001B[49m\u001B[43m(\u001B[49m\u001B[43m)\u001B[49m\n",
      "File \u001B[0;32m~/.pyenv/versions/3.8.12/lib/python3.8/asyncio/futures.py:178\u001B[0m, in \u001B[0;36mFuture.result\u001B[0;34m(self)\u001B[0m\n\u001B[1;32m    176\u001B[0m \u001B[38;5;28mself\u001B[39m\u001B[38;5;241m.\u001B[39m__log_traceback \u001B[38;5;241m=\u001B[39m \u001B[38;5;28;01mFalse\u001B[39;00m\n\u001B[1;32m    177\u001B[0m \u001B[38;5;28;01mif\u001B[39;00m \u001B[38;5;28mself\u001B[39m\u001B[38;5;241m.\u001B[39m_exception \u001B[38;5;129;01mis\u001B[39;00m \u001B[38;5;129;01mnot\u001B[39;00m \u001B[38;5;28;01mNone\u001B[39;00m:\n\u001B[0;32m--> 178\u001B[0m     \u001B[38;5;28;01mraise\u001B[39;00m \u001B[38;5;28mself\u001B[39m\u001B[38;5;241m.\u001B[39m_exception\n\u001B[1;32m    179\u001B[0m \u001B[38;5;28;01mreturn\u001B[39;00m \u001B[38;5;28mself\u001B[39m\u001B[38;5;241m.\u001B[39m_result\n",
      "File \u001B[0;32m~/.pyenv/versions/3.8.12/lib/python3.8/asyncio/tasks.py:280\u001B[0m, in \u001B[0;36mTask.__step\u001B[0;34m(***failed resolving arguments***)\u001B[0m\n\u001B[1;32m    276\u001B[0m \u001B[38;5;28;01mtry\u001B[39;00m:\n\u001B[1;32m    277\u001B[0m     \u001B[38;5;28;01mif\u001B[39;00m exc \u001B[38;5;129;01mis\u001B[39;00m \u001B[38;5;28;01mNone\u001B[39;00m:\n\u001B[1;32m    278\u001B[0m         \u001B[38;5;66;03m# We use the `send` method directly, because coroutines\u001B[39;00m\n\u001B[1;32m    279\u001B[0m         \u001B[38;5;66;03m# don't have `__iter__` and `__next__` methods.\u001B[39;00m\n\u001B[0;32m--> 280\u001B[0m         result \u001B[38;5;241m=\u001B[39m \u001B[43mcoro\u001B[49m\u001B[38;5;241;43m.\u001B[39;49m\u001B[43msend\u001B[49m\u001B[43m(\u001B[49m\u001B[38;5;28;43;01mNone\u001B[39;49;00m\u001B[43m)\u001B[49m\n\u001B[1;32m    281\u001B[0m     \u001B[38;5;28;01melse\u001B[39;00m:\n\u001B[1;32m    282\u001B[0m         result \u001B[38;5;241m=\u001B[39m coro\u001B[38;5;241m.\u001B[39mthrow(exc)\n",
      "Input \u001B[0;32mIn [9]\u001B[0m, in \u001B[0;36mmain\u001B[0;34m()\u001B[0m\n\u001B[1;32m     23\u001B[0m resp \u001B[38;5;241m=\u001B[39m \u001B[38;5;28;01mawait\u001B[39;00m client\u001B[38;5;241m.\u001B[39mcreate_database(db\u001B[38;5;241m=\u001B[39m\u001B[38;5;124m'\u001B[39m\u001B[38;5;124mtestdb\u001B[39m\u001B[38;5;124m'\u001B[39m)\n\u001B[1;32m     24\u001B[0m \u001B[38;5;28mprint\u001B[39m(\u001B[38;5;124m\"\u001B[39m\u001B[38;5;124mresp\u001B[39m\u001B[38;5;124m\"\u001B[39m, resp)\n\u001B[0;32m---> 25\u001B[0m resp \u001B[38;5;241m=\u001B[39m \u001B[38;5;28;01mawait\u001B[39;00m client\u001B[38;5;241m.\u001B[39mwrite(point)\n\u001B[1;32m     26\u001B[0m \u001B[38;5;28mprint\u001B[39m(\u001B[38;5;124m\"\u001B[39m\u001B[38;5;124mresp\u001B[39m\u001B[38;5;124m\"\u001B[39m, resp)\n\u001B[1;32m     27\u001B[0m resp \u001B[38;5;241m=\u001B[39m \u001B[38;5;28;01mawait\u001B[39;00m client\u001B[38;5;241m.\u001B[39mquery(\u001B[38;5;124m'\u001B[39m\u001B[38;5;124mSELECT value FROM cpu_load_short\u001B[39m\u001B[38;5;124m'\u001B[39m)\n",
      "File \u001B[0;32m~/.pyenv/versions/venv-3.8.12/lib/python3.8/site-packages/aioinflux/client.py:300\u001B[0m, in \u001B[0;36mInfluxDBClient.write\u001B[0;34m(self, data, measurement, db, precision, rp, tag_columns, **extra_tags)\u001B[0m\n\u001B[1;32m    298\u001B[0m \u001B[38;5;28;01mif\u001B[39;00m resp\u001B[38;5;241m.\u001B[39mstatus \u001B[38;5;241m==\u001B[39m \u001B[38;5;241m204\u001B[39m:\n\u001B[1;32m    299\u001B[0m     \u001B[38;5;28;01mreturn\u001B[39;00m \u001B[38;5;28;01mTrue\u001B[39;00m\n\u001B[0;32m--> 300\u001B[0m \u001B[38;5;28;01mraise\u001B[39;00m InfluxDBWriteError(resp)\n",
      "\u001B[0;31mInfluxDBWriteError\u001B[0m: Error writing data (401 - Unauthorized): "
     ]
    }
   ],
   "source": [
    "import asyncio\n",
    "\n",
    "import nest_asyncio\n",
    "nest_asyncio.apply()\n",
    "\n",
    "from aioinflux import InfluxDBClient\n",
    "\n",
    "import logging\n",
    "\n",
    "logging.basicConfig()\n",
    "logging.getLogger('aioinflux').setLevel(logging.DEBUG)\n",
    "\n",
    "point = {\n",
    "    'time': '2009-11-10T23:00:00Z',\n",
    "    'measurement': 'cpu_load_short',\n",
    "    'tags': {'host': 'server01',\n",
    "             'region': 'us-west'},\n",
    "    'fields': {'value': 0.64}\n",
    "}\n",
    "\n",
    "async def main():\n",
    "    async with InfluxDBClient(host='192.168.1.100', username='muttley', password='mjnh33r1sT00S1mple', db='testdb') as client:\n",
    "        resp = await client.create_database(db='testdb')\n",
    "        print(\"resp\", resp)\n",
    "        resp = await client.write(point)\n",
    "        print(\"resp\", resp)\n",
    "        resp = await client.query('SELECT value FROM cpu_load_short')\n",
    "        print(resp)\n",
    "\n",
    "\n",
    "asyncio.run(main())"
   ],
   "metadata": {
    "collapsed": false,
    "pycharm": {
     "name": "#%%\n"
    }
   }
  },
  {
   "cell_type": "code",
   "execution_count": 1,
   "outputs": [
    {
     "name": "stdout",
     "output_type": "stream",
     "text": [
      "Collecting influxdb-client\r\n",
      "  Downloading influxdb_client-1.26.0-py3-none-any.whl (669 kB)\r\n",
      "\u001B[K     |████████████████████████████████| 669 kB 10.7 MB/s eta 0:00:01\r\n",
      "\u001B[?25hRequirement already satisfied: rx>=3.0.1 in /home/muttley/.pyenv/versions/3.8.12/envs/venv-3.8.12/lib/python3.8/site-packages (from influxdb-client) (3.2.0)\r\n",
      "Requirement already satisfied: setuptools>=21.0.0 in /home/muttley/.pyenv/versions/3.8.12/envs/venv-3.8.12/lib/python3.8/site-packages (from influxdb-client) (56.0.0)\r\n",
      "Requirement already satisfied: six>=1.10 in /home/muttley/.pyenv/versions/3.8.12/envs/venv-3.8.12/lib/python3.8/site-packages (from influxdb-client) (1.16.0)\r\n",
      "Requirement already satisfied: python-dateutil>=2.5.3 in /home/muttley/.pyenv/versions/3.8.12/envs/venv-3.8.12/lib/python3.8/site-packages (from influxdb-client) (2.8.2)\r\n",
      "Collecting urllib3>=1.15.1\r\n",
      "  Downloading urllib3-1.26.8-py2.py3-none-any.whl (138 kB)\r\n",
      "\u001B[K     |████████████████████████████████| 138 kB 9.1 MB/s eta 0:00:01\r\n",
      "\u001B[?25hCollecting certifi>=14.05.14\r\n",
      "  Using cached certifi-2021.10.8-py2.py3-none-any.whl (149 kB)\r\n",
      "Collecting pytz>=2019.1\r\n",
      "  Downloading pytz-2021.3-py2.py3-none-any.whl (503 kB)\r\n",
      "\u001B[K     |████████████████████████████████| 503 kB 11.3 MB/s eta 0:00:01\r\n",
      "\u001B[?25hInstalling collected packages: urllib3, pytz, certifi, influxdb-client\r\n",
      "Successfully installed certifi-2021.10.8 influxdb-client-1.26.0 pytz-2021.3 urllib3-1.26.8\r\n",
      "\u001B[33mWARNING: You are using pip version 21.1.1; however, version 22.0.3 is available.\r\n",
      "You should consider upgrading via the '/home/muttley/.pyenv/versions/3.8.12/envs/venv-3.8.12/bin/python3.8 -m pip install --upgrade pip' command.\u001B[0m\r\n"
     ]
    }
   ],
   "source": [
    "!pip install influxdb-client"
   ],
   "metadata": {
    "collapsed": false,
    "pycharm": {
     "name": "#%%\n"
    }
   }
  },
  {
   "cell_type": "code",
   "execution_count": 1,
   "outputs": [
    {
     "data": {
      "text/plain": "<multiprocessing.pool.ApplyResult at 0x7f86ec549610>"
     },
     "execution_count": 1,
     "metadata": {},
     "output_type": "execute_result"
    }
   ],
   "source": [
    "from influxdb_client import InfluxDBClient\n",
    "from influxdb_client.client.write_api import SYNCHRONOUS, ASYNCHRONOUS\n",
    "\n",
    "org='org'\n",
    "bucket='test-python-client'\n",
    "token='CAUow6RTwUr5__6YE4MRCAyvxEIcStWcxHZD88d0E5yqbvNjziJ-e0x6BnEWTammct6qzHsak8-n7PKMnoMTaA=='\n",
    "\n",
    "client = InfluxDBClient(url=\"http://192.168.1.100:8086\", token=token, org=org)\n",
    "\n",
    "write_api = client.write_api(write_options=ASYNCHRONOUS)\n",
    "\n",
    "# write_api.write(bucket=bucket,org=org,record=p)\n",
    "write_api.write(bucket=bucket, org=org, record=[\"h2o_feet,location=coyote_creek water_level=3\"])"
   ],
   "metadata": {
    "collapsed": false,
    "pycharm": {
     "name": "#%%\n"
    }
   }
  },
  {
   "cell_type": "code",
   "execution_count": 8,
   "outputs": [
    {
     "name": "stdout",
     "output_type": "stream",
     "text": [
      "7\n",
      "h2o_feet,location=coyote_creek water_level=7\n",
      "8\n",
      "h2o_feet,location=coyote_creek water_level=8\n",
      "9\n",
      "h2o_feet,location=coyote_creek water_level=9\n",
      "10\n",
      "h2o_feet,location=coyote_creek water_level=10\n"
     ]
    },
    {
     "data": {
      "text/plain": "[]"
     },
     "execution_count": 8,
     "metadata": {},
     "output_type": "execute_result"
    }
   ],
   "source": [
    "import rx\n",
    "from rx import operators as ops\n",
    "_data = rx.range(7, 11).pipe(\n",
    "    ops.do_action(print),\n",
    "    ops.map(lambda i: \"h2o_feet,location=coyote_creek water_level={0}\".format(i)),\n",
    "    ops.do_action(print)\n",
    ").subscribe()\n",
    "\n",
    "write_api.write(\"my-bucket\", \"my-org\", _data)"
   ],
   "metadata": {
    "collapsed": false,
    "pycharm": {
     "name": "#%%\n"
    }
   }
  },
  {
   "cell_type": "code",
   "execution_count": 108,
   "outputs": [],
   "source": [
    "from functools import reduce\n",
    "\n",
    "def set(path: str, value, cfg = None):\n",
    "    if value is None:\n",
    "        return None\n",
    "\n",
    "    keys = path.split('.')\n",
    "    cfg = cfg or config_dict\n",
    "\n",
    "    for key in keys[:-1]:\n",
    "        cfg = cfg.setdefault(key, {})\n",
    "\n",
    "    cfg[keys[-1]] = value\n",
    "    return value\n",
    "\n",
    "    # return reduce(lambda c, k: if 'k' in c else c.setdefault(k, {}), keys, cfg)"
   ],
   "metadata": {
    "collapsed": false,
    "pycharm": {
     "name": "#%%\n"
    }
   }
  },
  {
   "cell_type": "code",
   "execution_count": 109,
   "outputs": [],
   "source": [
    "test = {'a': 'A', 'b': {'c': 'C', 'd': 'D', 'e': { 'f': 'F'}}, 'g': 'G'}"
   ],
   "metadata": {
    "collapsed": false,
    "pycharm": {
     "name": "#%%\n"
    }
   }
  },
  {
   "cell_type": "code",
   "execution_count": 120,
   "outputs": [
    {
     "ename": "TypeError",
     "evalue": "'str' object does not support item assignment",
     "output_type": "error",
     "traceback": [
      "\u001B[0;31m---------------------------------------------------------------------------\u001B[0m",
      "\u001B[0;31mTypeError\u001B[0m                                 Traceback (most recent call last)",
      "Input \u001B[0;32mIn [120]\u001B[0m, in \u001B[0;36m<module>\u001B[0;34m\u001B[0m\n\u001B[0;32m----> 1\u001B[0m \u001B[38;5;28;43mset\u001B[39;49m\u001B[43m(\u001B[49m\u001B[38;5;124;43m'\u001B[39;49m\u001B[38;5;124;43ma.casa\u001B[39;49m\u001B[38;5;124;43m'\u001B[39;49m\u001B[43m,\u001B[49m\u001B[43m \u001B[49m\u001B[38;5;124;43m'\u001B[39;49m\u001B[38;5;124;43mvalue\u001B[39;49m\u001B[38;5;124;43m'\u001B[39;49m\u001B[43m,\u001B[49m\u001B[43m \u001B[49m\u001B[43mtest\u001B[49m\u001B[43m)\u001B[49m\n",
      "Input \u001B[0;32mIn [108]\u001B[0m, in \u001B[0;36mset\u001B[0;34m(path, value, cfg)\u001B[0m\n\u001B[1;32m     10\u001B[0m \u001B[38;5;28;01mfor\u001B[39;00m key \u001B[38;5;129;01min\u001B[39;00m keys[:\u001B[38;5;241m-\u001B[39m\u001B[38;5;241m1\u001B[39m]:\n\u001B[1;32m     11\u001B[0m     cfg \u001B[38;5;241m=\u001B[39m cfg\u001B[38;5;241m.\u001B[39msetdefault(key, {})\n\u001B[0;32m---> 13\u001B[0m cfg[keys[\u001B[38;5;241m-\u001B[39m\u001B[38;5;241m1\u001B[39m]] \u001B[38;5;241m=\u001B[39m value\n",
      "\u001B[0;31mTypeError\u001B[0m: 'str' object does not support item assignment"
     ]
    }
   ],
   "source": [
    "set('a.casa', 'value', test)"
   ],
   "metadata": {
    "collapsed": false,
    "pycharm": {
     "name": "#%%\n"
    }
   }
  },
  {
   "cell_type": "code",
   "execution_count": 121,
   "outputs": [
    {
     "data": {
      "text/plain": "{'a': 'A',\n 'b': {'c': 'C',\n  'd': 'D',\n  'e': {'f': 'F'},\n  'nuovo': 'value',\n  'casa': {'prateria': {'cazzo': 'value'}}},\n 'g': 'G',\n '': 'value',\n 'casa': 'value'}"
     },
     "execution_count": 121,
     "metadata": {},
     "output_type": "execute_result"
    }
   ],
   "source": [
    "test"
   ],
   "metadata": {
    "collapsed": false,
    "pycharm": {
     "name": "#%%\n"
    }
   }
  },
  {
   "cell_type": "code",
   "execution_count": 133,
   "outputs": [],
   "source": [
    "ciao = [1,2]\n",
    "right = [[1,2],]"
   ],
   "metadata": {
    "collapsed": false,
    "pycharm": {
     "name": "#%%\n"
    }
   }
  },
  {
   "cell_type": "code",
   "execution_count": 134,
   "outputs": [
    {
     "data": {
      "text/plain": "False"
     },
     "execution_count": 134,
     "metadata": {},
     "output_type": "execute_result"
    }
   ],
   "source": [
    "from typing import Iterable\n",
    "isinstance(ciao[0], Iterable)"
   ],
   "metadata": {
    "collapsed": false,
    "pycharm": {
     "name": "#%%\n"
    }
   }
  },
  {
   "cell_type": "code",
   "execution_count": 135,
   "outputs": [
    {
     "data": {
      "text/plain": "[[1, 2]]"
     },
     "execution_count": 135,
     "metadata": {},
     "output_type": "execute_result"
    }
   ],
   "source": [
    "right"
   ],
   "metadata": {
    "collapsed": false,
    "pycharm": {
     "name": "#%%\n"
    }
   }
  },
  {
   "cell_type": "code",
   "execution_count": 136,
   "outputs": [
    {
     "data": {
      "text/plain": "1"
     },
     "execution_count": 136,
     "metadata": {},
     "output_type": "execute_result"
    }
   ],
   "source": [
    "ciao[0]"
   ],
   "metadata": {
    "collapsed": false,
    "pycharm": {
     "name": "#%%\n"
    }
   }
  },
  {
   "cell_type": "code",
   "execution_count": 137,
   "outputs": [
    {
     "data": {
      "text/plain": "True"
     },
     "execution_count": 137,
     "metadata": {},
     "output_type": "execute_result"
    }
   ],
   "source": [
    "isinstance(right[0], Iterable)"
   ],
   "metadata": {
    "collapsed": false,
    "pycharm": {
     "name": "#%%\n"
    }
   }
  },
  {
   "cell_type": "code",
   "execution_count": 138,
   "outputs": [
    {
     "ename": "TypeError",
     "evalue": "'NoneType' object is not iterable",
     "output_type": "error",
     "traceback": [
      "\u001B[0;31m---------------------------------------------------------------------------\u001B[0m",
      "\u001B[0;31mTypeError\u001B[0m                                 Traceback (most recent call last)",
      "Input \u001B[0;32mIn [138]\u001B[0m, in \u001B[0;36m<module>\u001B[0;34m\u001B[0m\n\u001B[1;32m      1\u001B[0m ciao \u001B[38;5;241m=\u001B[39m \u001B[38;5;28;01mNone\u001B[39;00m\n\u001B[0;32m----> 2\u001B[0m \u001B[38;5;28;01mfor\u001B[39;00m i \u001B[38;5;129;01min\u001B[39;00m ciao:\n\u001B[1;32m      3\u001B[0m     \u001B[38;5;28mprint\u001B[39m(i)\n",
      "\u001B[0;31mTypeError\u001B[0m: 'NoneType' object is not iterable"
     ]
    }
   ],
   "source": [
    "ciao = None\n",
    "for i in ciao:\n",
    "    print(i)"
   ],
   "metadata": {
    "collapsed": false,
    "pycharm": {
     "name": "#%%\n"
    }
   }
  },
  {
   "cell_type": "code",
   "execution_count": 139,
   "outputs": [
    {
     "name": "stdout",
     "output_type": "stream",
     "text": [
      "1 2\n",
      "3 4\n"
     ]
    }
   ],
   "source": [
    "ciao = ((1,2), (3,4))\n",
    "\n",
    "for k, v in ciao:\n",
    "    print(k, v)"
   ],
   "metadata": {
    "collapsed": false,
    "pycharm": {
     "name": "#%%\n"
    }
   }
  },
  {
   "cell_type": "code",
   "execution_count": 144,
   "outputs": [],
   "source": [
    "ciao = [1]"
   ],
   "metadata": {
    "collapsed": false,
    "pycharm": {
     "name": "#%%\n"
    }
   }
  },
  {
   "cell_type": "code",
   "execution_count": 146,
   "outputs": [],
   "source": [
    "ciao.append(2)"
   ],
   "metadata": {
    "collapsed": false,
    "pycharm": {
     "name": "#%%\n"
    }
   }
  },
  {
   "cell_type": "code",
   "execution_count": 147,
   "outputs": [
    {
     "data": {
      "text/plain": "[1, 2]"
     },
     "execution_count": 147,
     "metadata": {},
     "output_type": "execute_result"
    }
   ],
   "source": [
    "ciao"
   ],
   "metadata": {
    "collapsed": false,
    "pycharm": {
     "name": "#%%\n"
    }
   }
  },
  {
   "cell_type": "code",
   "execution_count": 2,
   "outputs": [
    {
     "data": {
      "text/plain": "True"
     },
     "execution_count": 2,
     "metadata": {},
     "output_type": "execute_result"
    }
   ],
   "source": [
    "def ciao (uno, due, self, tre):\n",
    "    ...\n",
    "\n",
    "import inspect\n",
    "\n",
    "'self' in inspect.signature(ciao).parameters.keys()"
   ],
   "metadata": {
    "collapsed": false,
    "pycharm": {
     "name": "#%%\n"
    }
   }
  },
  {
   "cell_type": "code",
   "execution_count": 1,
   "outputs": [],
   "source": [],
   "metadata": {
    "collapsed": false,
    "pycharm": {
     "name": "#%%\n"
    }
   }
  },
  {
   "cell_type": "code",
   "execution_count": null,
   "outputs": [],
   "source": [],
   "metadata": {
    "collapsed": false,
    "pycharm": {
     "name": "#%%\n"
    }
   }
  }
 ],
 "metadata": {
  "kernelspec": {
   "display_name": "Python 3",
   "language": "python",
   "name": "python3"
  },
  "language_info": {
   "codemirror_mode": {
    "name": "ipython",
    "version": 2
   },
   "file_extension": ".py",
   "mimetype": "text/x-python",
   "name": "python",
   "nbconvert_exporter": "python",
   "pygments_lexer": "ipython2",
   "version": "2.7.6"
  }
 },
 "nbformat": 4,
 "nbformat_minor": 0
}